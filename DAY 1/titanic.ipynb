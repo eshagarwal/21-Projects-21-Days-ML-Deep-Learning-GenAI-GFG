{
 "cells": [
  {
   "cell_type": "markdown",
   "id": "62d61a38",
   "metadata": {},
   "source": [
    "# Analysing Survival on the Titanic"
   ]
  },
  {
   "cell_type": "markdown",
   "id": "7a24286b",
   "metadata": {},
   "source": [
    "## EDA on Titanic Dataset"
   ]
  }
 ],
 "metadata": {
  "kernelspec": {
   "display_name": ".venv (3.13.1)",
   "language": "python",
   "name": "python3"
  },
  "language_info": {
   "name": "python",
   "version": "3.13.1"
  }
 },
 "nbformat": 4,
 "nbformat_minor": 5
}
