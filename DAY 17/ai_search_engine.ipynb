{
  "cells": [
    {
      "cell_type": "markdown",
      "id": "f731a737",
      "metadata": {},
      "source": [
        "# Smart Web Search using AI\n",
        "\n",
        "Web scraping in Python is evolving. While tools like BeautifulSoup and Selenium were once the standard, the future is **LLM-powered and agentic scraping**. This shift from rigid, rule-based bots to intelligent, adaptive crawlers is essential for feeding modern AI agents the structured, markdown-formatted data they crave.\n",
        "\n",
        "Today’s scraping requires a sophisticated toolkit: concurrent sessions, proxy rotation, identity management, and automated retries. Building this from the ground up is a heavy lift. That's where **Crawl4AI**, an open-source project, comes in. It packages all this advanced functionality into a single, easy-to-use module.\n",
        "\n",
        "In this project, we'll dive into the core concepts that allow Crawl4AI to scrape anywhere, anytime, with minimal effort."
      ]
    },
    {
      "cell_type": "markdown",
      "id": "61cced94",
      "metadata": {},
      "source": [
        "## Installation and Setup\n",
        "\n",
        "Let's start by installing the required dependencies and setting up Crawl4AI for our smart web search engine."
      ]
    },
    {
      "cell_type": "code",
      "execution_count": 4,
      "id": "0femufcv4w6P",
      "metadata": {
        "id": "0femufcv4w6P"
      },
      "outputs": [],
      "source": [
        "%%capture\n",
        "!pip install -U crawl4ai\n",
        "!pip install nest_asyncio"
      ]
    },
    {
      "cell_type": "code",
      "execution_count": 5,
      "id": "dIp0s9y64y89",
      "metadata": {
        "id": "dIp0s9y64y89"
      },
      "outputs": [],
      "source": [
        "%%capture\n",
        "!crawl4ai-setup"
      ]
    },
    {
      "cell_type": "code",
      "execution_count": 6,
      "id": "UzBVJHai49En",
      "metadata": {
        "colab": {
          "base_uri": "https://localhost:8080/"
        },
        "id": "UzBVJHai49En",
        "outputId": "d70ec959-a600-4c0b-c6f3-3f1f6ce9a100"
      },
      "outputs": [
        {
          "name": "stdout",
          "output_type": "stream",
          "text": [
            "\u001b[1;36m[\u001b[0m\u001b[36mINIT\u001b[0m\u001b[1;36m]\u001b[0m\u001b[36m...\u001b[0m\u001b[36m. → Running Crawl4AI health check\u001b[0m\u001b[36m...\u001b[0m\u001b[36m \u001b[0m\n",
            "\u001b[1;36m[\u001b[0m\u001b[36mINIT\u001b[0m\u001b[1;36m]\u001b[0m\u001b[36m...\u001b[0m\u001b[36m. → Crawl4AI \u001b[0m\u001b[1;36m0.7\u001b[0m\u001b[36m.\u001b[0m\u001b[1;36m4\u001b[0m\u001b[36m \u001b[0m\n",
            "\u001b[1;36m[\u001b[0m\u001b[36mTEST\u001b[0m\u001b[1;36m]\u001b[0m\u001b[36m...\u001b[0m\u001b[36m. ℹ Testing crawling capabilities\u001b[0m\u001b[36m...\u001b[0m\u001b[36m \u001b[0m\n",
            "\u001b[1;36m[\u001b[0m\u001b[36mEXPORT\u001b[0m\u001b[1;36m]\u001b[0m\u001b[36m.. ℹ Exporting media \u001b[0m\u001b[1;36m(\u001b[0m\u001b[36mPDF/MHTML/screenshot\u001b[0m\u001b[1;36m)\u001b[0m\u001b[36m took \u001b[0m\u001b[1;36m6.\u001b[0m\u001b[36m38s \u001b[0m\n",
            "\u001b[1;32m[\u001b[0m\u001b[32mFETCH\u001b[0m\u001b[1;32m]\u001b[0m\u001b[32m...\u001b[0m\u001b[32m ↓ \u001b[0m\u001b[4;32mhttps://crawl4ai.com\u001b[0m\u001b[32m                                               \u001b[0m\n",
            "\u001b[32m| \u001b[0m\u001b[32m✓\u001b[0m\u001b[32m | ⏱: \u001b[0m\u001b[1;32m12.\u001b[0m\u001b[32m20s \u001b[0m\n",
            "\u001b[1;32m[\u001b[0m\u001b[32mSCRAPE\u001b[0m\u001b[1;32m]\u001b[0m\u001b[32m.. ◆ \u001b[0m\u001b[4;32mhttps://crawl4ai.com\u001b[0m\u001b[32m                                               \u001b[0m\n",
            "\u001b[32m| \u001b[0m\u001b[32m✓\u001b[0m\u001b[32m | ⏱: \u001b[0m\u001b[1;32m0.\u001b[0m\u001b[32m16s \u001b[0m\n",
            "\u001b[1;32m[\u001b[0m\u001b[32mCOMPLETE\u001b[0m\u001b[1;32m]\u001b[0m\u001b[32m ● \u001b[0m\u001b[4;32mhttps://crawl4ai.com\u001b[0m\u001b[32m                                               \u001b[0m\n",
            "\u001b[32m| \u001b[0m\u001b[32m✓\u001b[0m\u001b[32m | ⏱: \u001b[0m\u001b[1;32m12.\u001b[0m\u001b[32m36s \u001b[0m\n",
            "\u001b[1;32m[\u001b[0m\u001b[32mCOMPLETE\u001b[0m\u001b[1;32m]\u001b[0m\u001b[32m ● ✅ Crawling test passed! \u001b[0m\n"
          ]
        }
      ],
      "source": [
        "!crawl4ai-doctor"
      ]
    },
    {
      "cell_type": "markdown",
      "id": "56f5b4f7",
      "metadata": {},
      "source": [
        "## Implementing Smart Web Crawling\n",
        "\n",
        "Now let's implement our AI-powered web crawler using Crawl4AI. We'll create a deep crawling strategy that can intelligently navigate websites and extract structured data."
      ]
    },
    {
      "cell_type": "code",
      "execution_count": 11,
      "id": "MJUe",
      "metadata": {
        "id": "MJUe"
      },
      "outputs": [],
      "source": [
        "import asyncio\n",
        "import nest_asyncio\n",
        "from crawl4ai import AsyncWebCrawler, CrawlerRunConfig\n",
        "from crawl4ai.deep_crawling import BFSDeepCrawlStrategy\n",
        "from crawl4ai.content_scraping_strategy import LXMLWebScrapingStrategy\n",
        "\n",
        "nest_asyncio.apply()\n",
        "\n",
        "async def main():\n",
        "    # Configure a 2-level deep crawl\n",
        "    config = CrawlerRunConfig(\n",
        "        deep_crawl_strategy=BFSDeepCrawlStrategy(\n",
        "            max_depth=2,\n",
        "            include_external=False,\n",
        "            max_pages=5\n",
        "        ),\n",
        "        scraping_strategy=LXMLWebScrapingStrategy(),\n",
        "        verbose=True\n",
        "    )\n",
        "\n",
        "    async with AsyncWebCrawler() as crawler:\n",
        "        results = await crawler.arun(\"https://www.wikipedia.org\", config=config)\n",
        "\n",
        "        print(f\"Crawled {len(results)} pages in total\")\n",
        "\n",
        "        # Access individual results\n",
        "        for result in results[:3]:  # Show first 3 results\n",
        "            print(f\"URL: {result.url}\")\n",
        "            print(f\"Depth: {result.metadata.get('depth', 0)}\")\n",
        "\n",
        "        return results"
      ]
    },
    {
      "cell_type": "code",
      "execution_count": 12,
      "id": "vblA",
      "metadata": {
        "colab": {
          "base_uri": "https://localhost:8080/",
          "height": 737
        },
        "id": "vblA",
        "outputId": "bdf90ac5-7ef8-4f43-fb74-e198d498cf2d"
      },
      "outputs": [
        {
          "name": "stderr",
          "output_type": "stream",
          "text": [
            "/usr/lib/python3.12/json/decoder.py:339: RuntimeWarning: coroutine 'main' was never awaited\n",
            "  end = _w(s, end).end()\n",
            "RuntimeWarning: Enable tracemalloc to get the object allocation traceback\n"
          ]
        },
        {
          "data": {
            "text/html": [
              "<pre style=\"white-space:pre;overflow-x:auto;line-height:normal;font-family:Menlo,'DejaVu Sans Mono',consolas,'Courier New',monospace\"><span style=\"color: #008080; text-decoration-color: #008080; font-weight: bold\">[</span><span style=\"color: #008080; text-decoration-color: #008080\">INIT</span><span style=\"color: #008080; text-decoration-color: #008080; font-weight: bold\">]</span><span style=\"color: #008080; text-decoration-color: #008080\">.... → Crawl4AI </span><span style=\"color: #008080; text-decoration-color: #008080; font-weight: bold\">0.7</span><span style=\"color: #008080; text-decoration-color: #008080\">.</span><span style=\"color: #008080; text-decoration-color: #008080; font-weight: bold\">4</span><span style=\"color: #008080; text-decoration-color: #008080\"> </span>\n",
              "</pre>\n"
            ],
            "text/plain": [
              "\u001b[1;36m[\u001b[0m\u001b[36mINIT\u001b[0m\u001b[1;36m]\u001b[0m\u001b[36m...\u001b[0m\u001b[36m. → Crawl4AI \u001b[0m\u001b[1;36m0.7\u001b[0m\u001b[36m.\u001b[0m\u001b[1;36m4\u001b[0m\u001b[36m \u001b[0m\n"
            ]
          },
          "metadata": {},
          "output_type": "display_data"
        },
        {
          "data": {
            "text/html": [
              "<pre style=\"white-space:pre;overflow-x:auto;line-height:normal;font-family:Menlo,'DejaVu Sans Mono',consolas,'Courier New',monospace\"><span style=\"color: #008000; text-decoration-color: #008000; font-weight: bold\">[</span><span style=\"color: #008000; text-decoration-color: #008000\">FETCH</span><span style=\"color: #008000; text-decoration-color: #008000; font-weight: bold\">]</span><span style=\"color: #008000; text-decoration-color: #008000\">... ↓ </span><span style=\"color: #008000; text-decoration-color: #008000; text-decoration: underline\">https://www.wikipedia.org</span><span style=\"color: #008000; text-decoration-color: #008000\">                                                                            |</span>\n",
              "<span style=\"color: #008000; text-decoration-color: #008000\">✓ | ⏱: </span><span style=\"color: #008000; text-decoration-color: #008000; font-weight: bold\">1.</span><span style=\"color: #008000; text-decoration-color: #008000\">22s </span>\n",
              "</pre>\n"
            ],
            "text/plain": [
              "\u001b[1;32m[\u001b[0m\u001b[32mFETCH\u001b[0m\u001b[1;32m]\u001b[0m\u001b[32m...\u001b[0m\u001b[32m ↓ \u001b[0m\u001b[4;32mhttps://www.wikipedia.org\u001b[0m\u001b[32m                                                                            |\u001b[0m\n",
              "\u001b[32m✓\u001b[0m\u001b[32m | ⏱: \u001b[0m\u001b[1;32m1.\u001b[0m\u001b[32m22s \u001b[0m\n"
            ]
          },
          "metadata": {},
          "output_type": "display_data"
        },
        {
          "data": {
            "text/html": [
              "<pre style=\"white-space:pre;overflow-x:auto;line-height:normal;font-family:Menlo,'DejaVu Sans Mono',consolas,'Courier New',monospace\"><span style=\"color: #008000; text-decoration-color: #008000; font-weight: bold\">[</span><span style=\"color: #008000; text-decoration-color: #008000\">SCRAPE</span><span style=\"color: #008000; text-decoration-color: #008000; font-weight: bold\">]</span><span style=\"color: #008000; text-decoration-color: #008000\">.. ◆ </span><span style=\"color: #008000; text-decoration-color: #008000; text-decoration: underline\">https://www.wikipedia.org</span><span style=\"color: #008000; text-decoration-color: #008000\">                                                                            |</span>\n",
              "<span style=\"color: #008000; text-decoration-color: #008000\">✓ | ⏱: </span><span style=\"color: #008000; text-decoration-color: #008000; font-weight: bold\">0.</span><span style=\"color: #008000; text-decoration-color: #008000\">09s </span>\n",
              "</pre>\n"
            ],
            "text/plain": [
              "\u001b[1;32m[\u001b[0m\u001b[32mSCRAPE\u001b[0m\u001b[1;32m]\u001b[0m\u001b[32m.. ◆ \u001b[0m\u001b[4;32mhttps://www.wikipedia.org\u001b[0m\u001b[32m                                                                            |\u001b[0m\n",
              "\u001b[32m✓\u001b[0m\u001b[32m | ⏱: \u001b[0m\u001b[1;32m0.\u001b[0m\u001b[32m09s \u001b[0m\n"
            ]
          },
          "metadata": {},
          "output_type": "display_data"
        },
        {
          "data": {
            "text/html": [
              "<pre style=\"white-space:pre;overflow-x:auto;line-height:normal;font-family:Menlo,'DejaVu Sans Mono',consolas,'Courier New',monospace\"><span style=\"color: #008000; text-decoration-color: #008000; font-weight: bold\">[</span><span style=\"color: #008000; text-decoration-color: #008000\">COMPLETE</span><span style=\"color: #008000; text-decoration-color: #008000; font-weight: bold\">]</span><span style=\"color: #008000; text-decoration-color: #008000\"> ● </span><span style=\"color: #008000; text-decoration-color: #008000; text-decoration: underline\">https://www.wikipedia.org</span><span style=\"color: #008000; text-decoration-color: #008000\">                                                                            |</span>\n",
              "<span style=\"color: #008000; text-decoration-color: #008000\">✓ | ⏱: </span><span style=\"color: #008000; text-decoration-color: #008000; font-weight: bold\">1.</span><span style=\"color: #008000; text-decoration-color: #008000\">32s </span>\n",
              "</pre>\n"
            ],
            "text/plain": [
              "\u001b[1;32m[\u001b[0m\u001b[32mCOMPLETE\u001b[0m\u001b[1;32m]\u001b[0m\u001b[32m ● \u001b[0m\u001b[4;32mhttps://www.wikipedia.org\u001b[0m\u001b[32m                                                                            |\u001b[0m\n",
              "\u001b[32m✓\u001b[0m\u001b[32m | ⏱: \u001b[0m\u001b[1;32m1.\u001b[0m\u001b[32m32s \u001b[0m\n"
            ]
          },
          "metadata": {},
          "output_type": "display_data"
        },
        {
          "data": {
            "text/html": [
              "<pre style=\"white-space:pre;overflow-x:auto;line-height:normal;font-family:Menlo,'DejaVu Sans Mono',consolas,'Courier New',monospace\"><span style=\"color: #008000; text-decoration-color: #008000; font-weight: bold\">[</span><span style=\"color: #008000; text-decoration-color: #008000\">FETCH</span><span style=\"color: #008000; text-decoration-color: #008000; font-weight: bold\">]</span><span style=\"color: #008000; text-decoration-color: #008000\">... ↓ </span><span style=\"color: #008000; text-decoration-color: #008000; text-decoration: underline\">https://ru.wikipedia.org</span><span style=\"color: #008000; text-decoration-color: #008000\">                                                                             |</span>\n",
              "<span style=\"color: #008000; text-decoration-color: #008000\">✓ | ⏱: </span><span style=\"color: #008000; text-decoration-color: #008000; font-weight: bold\">2.</span><span style=\"color: #008000; text-decoration-color: #008000\">17s </span>\n",
              "</pre>\n"
            ],
            "text/plain": [
              "\u001b[1;32m[\u001b[0m\u001b[32mFETCH\u001b[0m\u001b[1;32m]\u001b[0m\u001b[32m...\u001b[0m\u001b[32m ↓ \u001b[0m\u001b[4;32mhttps://ru.wikipedia.org\u001b[0m\u001b[32m                                                                             |\u001b[0m\n",
              "\u001b[32m✓\u001b[0m\u001b[32m | ⏱: \u001b[0m\u001b[1;32m2.\u001b[0m\u001b[32m17s \u001b[0m\n"
            ]
          },
          "metadata": {},
          "output_type": "display_data"
        },
        {
          "data": {
            "text/html": [
              "<pre style=\"white-space:pre;overflow-x:auto;line-height:normal;font-family:Menlo,'DejaVu Sans Mono',consolas,'Courier New',monospace\"><span style=\"color: #008000; text-decoration-color: #008000; font-weight: bold\">[</span><span style=\"color: #008000; text-decoration-color: #008000\">SCRAPE</span><span style=\"color: #008000; text-decoration-color: #008000; font-weight: bold\">]</span><span style=\"color: #008000; text-decoration-color: #008000\">.. ◆ </span><span style=\"color: #008000; text-decoration-color: #008000; text-decoration: underline\">https://ru.wikipedia.org</span><span style=\"color: #008000; text-decoration-color: #008000\">                                                                             |</span>\n",
              "<span style=\"color: #008000; text-decoration-color: #008000\">✓ | ⏱: </span><span style=\"color: #008000; text-decoration-color: #008000; font-weight: bold\">0.</span><span style=\"color: #008000; text-decoration-color: #008000\">35s </span>\n",
              "</pre>\n"
            ],
            "text/plain": [
              "\u001b[1;32m[\u001b[0m\u001b[32mSCRAPE\u001b[0m\u001b[1;32m]\u001b[0m\u001b[32m.. ◆ \u001b[0m\u001b[4;32mhttps://ru.wikipedia.org\u001b[0m\u001b[32m                                                                             |\u001b[0m\n",
              "\u001b[32m✓\u001b[0m\u001b[32m | ⏱: \u001b[0m\u001b[1;32m0.\u001b[0m\u001b[32m35s \u001b[0m\n"
            ]
          },
          "metadata": {},
          "output_type": "display_data"
        },
        {
          "data": {
            "text/html": [
              "<pre style=\"white-space:pre;overflow-x:auto;line-height:normal;font-family:Menlo,'DejaVu Sans Mono',consolas,'Courier New',monospace\"><span style=\"color: #008000; text-decoration-color: #008000; font-weight: bold\">[</span><span style=\"color: #008000; text-decoration-color: #008000\">COMPLETE</span><span style=\"color: #008000; text-decoration-color: #008000; font-weight: bold\">]</span><span style=\"color: #008000; text-decoration-color: #008000\"> ● </span><span style=\"color: #008000; text-decoration-color: #008000; text-decoration: underline\">https://ru.wikipedia.org</span><span style=\"color: #008000; text-decoration-color: #008000\">                                                                             |</span>\n",
              "<span style=\"color: #008000; text-decoration-color: #008000\">✓ | ⏱: </span><span style=\"color: #008000; text-decoration-color: #008000; font-weight: bold\">2.</span><span style=\"color: #008000; text-decoration-color: #008000\">53s </span>\n",
              "</pre>\n"
            ],
            "text/plain": [
              "\u001b[1;32m[\u001b[0m\u001b[32mCOMPLETE\u001b[0m\u001b[1;32m]\u001b[0m\u001b[32m ● \u001b[0m\u001b[4;32mhttps://ru.wikipedia.org\u001b[0m\u001b[32m                                                                             |\u001b[0m\n",
              "\u001b[32m✓\u001b[0m\u001b[32m | ⏱: \u001b[0m\u001b[1;32m2.\u001b[0m\u001b[32m53s \u001b[0m\n"
            ]
          },
          "metadata": {},
          "output_type": "display_data"
        },
        {
          "data": {
            "text/html": [
              "<pre style=\"white-space:pre;overflow-x:auto;line-height:normal;font-family:Menlo,'DejaVu Sans Mono',consolas,'Courier New',monospace\"><span style=\"color: #008000; text-decoration-color: #008000; font-weight: bold\">[</span><span style=\"color: #008000; text-decoration-color: #008000\">FETCH</span><span style=\"color: #008000; text-decoration-color: #008000; font-weight: bold\">]</span><span style=\"color: #008000; text-decoration-color: #008000\">... ↓ </span><span style=\"color: #008000; text-decoration-color: #008000; text-decoration: underline\">https://de.wikipedia.org</span><span style=\"color: #008000; text-decoration-color: #008000\">                                                                             |</span>\n",
              "<span style=\"color: #008000; text-decoration-color: #008000\">✓ | ⏱: </span><span style=\"color: #008000; text-decoration-color: #008000; font-weight: bold\">3.</span><span style=\"color: #008000; text-decoration-color: #008000\">06s </span>\n",
              "</pre>\n"
            ],
            "text/plain": [
              "\u001b[1;32m[\u001b[0m\u001b[32mFETCH\u001b[0m\u001b[1;32m]\u001b[0m\u001b[32m...\u001b[0m\u001b[32m ↓ \u001b[0m\u001b[4;32mhttps://de.wikipedia.org\u001b[0m\u001b[32m                                                                             |\u001b[0m\n",
              "\u001b[32m✓\u001b[0m\u001b[32m | ⏱: \u001b[0m\u001b[1;32m3.\u001b[0m\u001b[32m06s \u001b[0m\n"
            ]
          },
          "metadata": {},
          "output_type": "display_data"
        },
        {
          "data": {
            "text/html": [
              "<pre style=\"white-space:pre;overflow-x:auto;line-height:normal;font-family:Menlo,'DejaVu Sans Mono',consolas,'Courier New',monospace\"><span style=\"color: #008000; text-decoration-color: #008000; font-weight: bold\">[</span><span style=\"color: #008000; text-decoration-color: #008000\">SCRAPE</span><span style=\"color: #008000; text-decoration-color: #008000; font-weight: bold\">]</span><span style=\"color: #008000; text-decoration-color: #008000\">.. ◆ </span><span style=\"color: #008000; text-decoration-color: #008000; text-decoration: underline\">https://de.wikipedia.org</span><span style=\"color: #008000; text-decoration-color: #008000\">                                                                             |</span>\n",
              "<span style=\"color: #008000; text-decoration-color: #008000\">✓ | ⏱: </span><span style=\"color: #008000; text-decoration-color: #008000; font-weight: bold\">0.</span><span style=\"color: #008000; text-decoration-color: #008000\">25s </span>\n",
              "</pre>\n"
            ],
            "text/plain": [
              "\u001b[1;32m[\u001b[0m\u001b[32mSCRAPE\u001b[0m\u001b[1;32m]\u001b[0m\u001b[32m.. ◆ \u001b[0m\u001b[4;32mhttps://de.wikipedia.org\u001b[0m\u001b[32m                                                                             |\u001b[0m\n",
              "\u001b[32m✓\u001b[0m\u001b[32m | ⏱: \u001b[0m\u001b[1;32m0.\u001b[0m\u001b[32m25s \u001b[0m\n"
            ]
          },
          "metadata": {},
          "output_type": "display_data"
        },
        {
          "data": {
            "text/html": [
              "<pre style=\"white-space:pre;overflow-x:auto;line-height:normal;font-family:Menlo,'DejaVu Sans Mono',consolas,'Courier New',monospace\"><span style=\"color: #008000; text-decoration-color: #008000; font-weight: bold\">[</span><span style=\"color: #008000; text-decoration-color: #008000\">COMPLETE</span><span style=\"color: #008000; text-decoration-color: #008000; font-weight: bold\">]</span><span style=\"color: #008000; text-decoration-color: #008000\"> ● </span><span style=\"color: #008000; text-decoration-color: #008000; text-decoration: underline\">https://de.wikipedia.org</span><span style=\"color: #008000; text-decoration-color: #008000\">                                                                             |</span>\n",
              "<span style=\"color: #008000; text-decoration-color: #008000\">✓ | ⏱: </span><span style=\"color: #008000; text-decoration-color: #008000; font-weight: bold\">3.</span><span style=\"color: #008000; text-decoration-color: #008000\">32s </span>\n",
              "</pre>\n"
            ],
            "text/plain": [
              "\u001b[1;32m[\u001b[0m\u001b[32mCOMPLETE\u001b[0m\u001b[1;32m]\u001b[0m\u001b[32m ● \u001b[0m\u001b[4;32mhttps://de.wikipedia.org\u001b[0m\u001b[32m                                                                             |\u001b[0m\n",
              "\u001b[32m✓\u001b[0m\u001b[32m | ⏱: \u001b[0m\u001b[1;32m3.\u001b[0m\u001b[32m32s \u001b[0m\n"
            ]
          },
          "metadata": {},
          "output_type": "display_data"
        },
        {
          "data": {
            "text/html": [
              "<pre style=\"white-space:pre;overflow-x:auto;line-height:normal;font-family:Menlo,'DejaVu Sans Mono',consolas,'Courier New',monospace\"><span style=\"color: #008000; text-decoration-color: #008000; font-weight: bold\">[</span><span style=\"color: #008000; text-decoration-color: #008000\">FETCH</span><span style=\"color: #008000; text-decoration-color: #008000; font-weight: bold\">]</span><span style=\"color: #008000; text-decoration-color: #008000\">... ↓ </span><span style=\"color: #008000; text-decoration-color: #008000; text-decoration: underline\">https://en.wikipedia.org</span><span style=\"color: #008000; text-decoration-color: #008000\">                                                                             |</span>\n",
              "<span style=\"color: #008000; text-decoration-color: #008000\">✓ | ⏱: </span><span style=\"color: #008000; text-decoration-color: #008000; font-weight: bold\">3.</span><span style=\"color: #008000; text-decoration-color: #008000\">35s </span>\n",
              "</pre>\n"
            ],
            "text/plain": [
              "\u001b[1;32m[\u001b[0m\u001b[32mFETCH\u001b[0m\u001b[1;32m]\u001b[0m\u001b[32m...\u001b[0m\u001b[32m ↓ \u001b[0m\u001b[4;32mhttps://en.wikipedia.org\u001b[0m\u001b[32m                                                                             |\u001b[0m\n",
              "\u001b[32m✓\u001b[0m\u001b[32m | ⏱: \u001b[0m\u001b[1;32m3.\u001b[0m\u001b[32m35s \u001b[0m\n"
            ]
          },
          "metadata": {},
          "output_type": "display_data"
        },
        {
          "data": {
            "text/html": [
              "<pre style=\"white-space:pre;overflow-x:auto;line-height:normal;font-family:Menlo,'DejaVu Sans Mono',consolas,'Courier New',monospace\"><span style=\"color: #008000; text-decoration-color: #008000; font-weight: bold\">[</span><span style=\"color: #008000; text-decoration-color: #008000\">SCRAPE</span><span style=\"color: #008000; text-decoration-color: #008000; font-weight: bold\">]</span><span style=\"color: #008000; text-decoration-color: #008000\">.. ◆ </span><span style=\"color: #008000; text-decoration-color: #008000; text-decoration: underline\">https://en.wikipedia.org</span><span style=\"color: #008000; text-decoration-color: #008000\">                                                                             |</span>\n",
              "<span style=\"color: #008000; text-decoration-color: #008000\">✓ | ⏱: </span><span style=\"color: #008000; text-decoration-color: #008000; font-weight: bold\">0.</span><span style=\"color: #008000; text-decoration-color: #008000\">28s </span>\n",
              "</pre>\n"
            ],
            "text/plain": [
              "\u001b[1;32m[\u001b[0m\u001b[32mSCRAPE\u001b[0m\u001b[1;32m]\u001b[0m\u001b[32m.. ◆ \u001b[0m\u001b[4;32mhttps://en.wikipedia.org\u001b[0m\u001b[32m                                                                             |\u001b[0m\n",
              "\u001b[32m✓\u001b[0m\u001b[32m | ⏱: \u001b[0m\u001b[1;32m0.\u001b[0m\u001b[32m28s \u001b[0m\n"
            ]
          },
          "metadata": {},
          "output_type": "display_data"
        },
        {
          "data": {
            "text/html": [
              "<pre style=\"white-space:pre;overflow-x:auto;line-height:normal;font-family:Menlo,'DejaVu Sans Mono',consolas,'Courier New',monospace\"><span style=\"color: #008000; text-decoration-color: #008000; font-weight: bold\">[</span><span style=\"color: #008000; text-decoration-color: #008000\">COMPLETE</span><span style=\"color: #008000; text-decoration-color: #008000; font-weight: bold\">]</span><span style=\"color: #008000; text-decoration-color: #008000\"> ● </span><span style=\"color: #008000; text-decoration-color: #008000; text-decoration: underline\">https://en.wikipedia.org</span><span style=\"color: #008000; text-decoration-color: #008000\">                                                                             |</span>\n",
              "<span style=\"color: #008000; text-decoration-color: #008000\">✓ | ⏱: </span><span style=\"color: #008000; text-decoration-color: #008000; font-weight: bold\">3.</span><span style=\"color: #008000; text-decoration-color: #008000\">64s </span>\n",
              "</pre>\n"
            ],
            "text/plain": [
              "\u001b[1;32m[\u001b[0m\u001b[32mCOMPLETE\u001b[0m\u001b[1;32m]\u001b[0m\u001b[32m ● \u001b[0m\u001b[4;32mhttps://en.wikipedia.org\u001b[0m\u001b[32m                                                                             |\u001b[0m\n",
              "\u001b[32m✓\u001b[0m\u001b[32m | ⏱: \u001b[0m\u001b[1;32m3.\u001b[0m\u001b[32m64s \u001b[0m\n"
            ]
          },
          "metadata": {},
          "output_type": "display_data"
        },
        {
          "data": {
            "text/html": [
              "<pre style=\"white-space:pre;overflow-x:auto;line-height:normal;font-family:Menlo,'DejaVu Sans Mono',consolas,'Courier New',monospace\"><span style=\"color: #008000; text-decoration-color: #008000; font-weight: bold\">[</span><span style=\"color: #008000; text-decoration-color: #008000\">FETCH</span><span style=\"color: #008000; text-decoration-color: #008000; font-weight: bold\">]</span><span style=\"color: #008000; text-decoration-color: #008000\">... ↓ </span><span style=\"color: #008000; text-decoration-color: #008000; text-decoration: underline\">https://ja.wikipedia.org</span><span style=\"color: #008000; text-decoration-color: #008000\">                                                                             |</span>\n",
              "<span style=\"color: #008000; text-decoration-color: #008000\">✓ | ⏱: </span><span style=\"color: #008000; text-decoration-color: #008000; font-weight: bold\">3.</span><span style=\"color: #008000; text-decoration-color: #008000\">84s </span>\n",
              "</pre>\n"
            ],
            "text/plain": [
              "\u001b[1;32m[\u001b[0m\u001b[32mFETCH\u001b[0m\u001b[1;32m]\u001b[0m\u001b[32m...\u001b[0m\u001b[32m ↓ \u001b[0m\u001b[4;32mhttps://ja.wikipedia.org\u001b[0m\u001b[32m                                                                             |\u001b[0m\n",
              "\u001b[32m✓\u001b[0m\u001b[32m | ⏱: \u001b[0m\u001b[1;32m3.\u001b[0m\u001b[32m84s \u001b[0m\n"
            ]
          },
          "metadata": {},
          "output_type": "display_data"
        },
        {
          "data": {
            "text/html": [
              "<pre style=\"white-space:pre;overflow-x:auto;line-height:normal;font-family:Menlo,'DejaVu Sans Mono',consolas,'Courier New',monospace\"><span style=\"color: #008000; text-decoration-color: #008000; font-weight: bold\">[</span><span style=\"color: #008000; text-decoration-color: #008000\">SCRAPE</span><span style=\"color: #008000; text-decoration-color: #008000; font-weight: bold\">]</span><span style=\"color: #008000; text-decoration-color: #008000\">.. ◆ </span><span style=\"color: #008000; text-decoration-color: #008000; text-decoration: underline\">https://ja.wikipedia.org</span><span style=\"color: #008000; text-decoration-color: #008000\">                                                                             |</span>\n",
              "<span style=\"color: #008000; text-decoration-color: #008000\">✓ | ⏱: </span><span style=\"color: #008000; text-decoration-color: #008000; font-weight: bold\">0.</span><span style=\"color: #008000; text-decoration-color: #008000\">18s </span>\n",
              "</pre>\n"
            ],
            "text/plain": [
              "\u001b[1;32m[\u001b[0m\u001b[32mSCRAPE\u001b[0m\u001b[1;32m]\u001b[0m\u001b[32m.. ◆ \u001b[0m\u001b[4;32mhttps://ja.wikipedia.org\u001b[0m\u001b[32m                                                                             |\u001b[0m\n",
              "\u001b[32m✓\u001b[0m\u001b[32m | ⏱: \u001b[0m\u001b[1;32m0.\u001b[0m\u001b[32m18s \u001b[0m\n"
            ]
          },
          "metadata": {},
          "output_type": "display_data"
        },
        {
          "data": {
            "text/html": [
              "<pre style=\"white-space:pre;overflow-x:auto;line-height:normal;font-family:Menlo,'DejaVu Sans Mono',consolas,'Courier New',monospace\"><span style=\"color: #008000; text-decoration-color: #008000; font-weight: bold\">[</span><span style=\"color: #008000; text-decoration-color: #008000\">COMPLETE</span><span style=\"color: #008000; text-decoration-color: #008000; font-weight: bold\">]</span><span style=\"color: #008000; text-decoration-color: #008000\"> ● </span><span style=\"color: #008000; text-decoration-color: #008000; text-decoration: underline\">https://ja.wikipedia.org</span><span style=\"color: #008000; text-decoration-color: #008000\">                                                                             |</span>\n",
              "<span style=\"color: #008000; text-decoration-color: #008000\">✓ | ⏱: </span><span style=\"color: #008000; text-decoration-color: #008000; font-weight: bold\">4.</span><span style=\"color: #008000; text-decoration-color: #008000\">03s </span>\n",
              "</pre>\n"
            ],
            "text/plain": [
              "\u001b[1;32m[\u001b[0m\u001b[32mCOMPLETE\u001b[0m\u001b[1;32m]\u001b[0m\u001b[32m ● \u001b[0m\u001b[4;32mhttps://ja.wikipedia.org\u001b[0m\u001b[32m                                                                             |\u001b[0m\n",
              "\u001b[32m✓\u001b[0m\u001b[32m | ⏱: \u001b[0m\u001b[1;32m4.\u001b[0m\u001b[32m03s \u001b[0m\n"
            ]
          },
          "metadata": {},
          "output_type": "display_data"
        },
        {
          "name": "stdout",
          "output_type": "stream",
          "text": [
            "Crawled 5 pages in total\n",
            "URL: https://www.wikipedia.org\n",
            "Depth: 0\n",
            "URL: https://ru.wikipedia.org\n",
            "Depth: 1\n",
            "URL: https://de.wikipedia.org\n",
            "Depth: 1\n"
          ]
        }
      ],
      "source": [
        "search_results = asyncio.run(main())"
      ]
    },
    {
      "cell_type": "markdown",
      "id": "bffbf1aa",
      "metadata": {},
      "source": [
        "## Exploring the Crawled Results\n",
        "\n",
        "Let's examine the results from our web crawling operation to understand the structure and content that was extracted."
      ]
    },
    {
      "cell_type": "code",
      "execution_count": 15,
      "id": "bkHC",
      "metadata": {
        "colab": {
          "base_uri": "https://localhost:8080/"
        },
        "id": "bkHC",
        "outputId": "af9d4365-60ab-49b1-a5ec-b8ff5e5a840c"
      },
      "outputs": [
        {
          "data": {
            "text/plain": [
              "5"
            ]
          },
          "execution_count": 15,
          "metadata": {},
          "output_type": "execute_result"
        }
      ],
      "source": [
        "len(search_results)"
      ]
    },
    {
      "cell_type": "code",
      "execution_count": 19,
      "id": "FKN-ZBhb-Ovk",
      "metadata": {
        "colab": {
          "base_uri": "https://localhost:8080/"
        },
        "id": "FKN-ZBhb-Ovk",
        "outputId": "4e7688c1-2db2-49ad-d4c3-8cde43cfb3c3"
      },
      "outputs": [
        {
          "data": {
            "text/plain": [
              "{'title': 'Wikipedia',\n",
              " 'description': 'Wikipedia is a free online encyclopedia, created and edited by volunteers around the world and hosted by the Wikimedia Foundation.',\n",
              " 'keywords': None,\n",
              " 'author': None,\n",
              " 'og:title': 'Wikipedia, the free encyclopedia',\n",
              " 'og:type': 'website',\n",
              " 'og:description': 'Wikipedia is a free online encyclopedia, created and edited by volunteers around the world and hosted by the Wikimedia Foundation.',\n",
              " 'og:image': 'https://upload.wikimedia.org/wikipedia/en/thumb/8/80/Wikipedia-logo-v2.svg/2244px-Wikipedia-logo-v2.svg.png',\n",
              " 'depth': 0,\n",
              " 'parent_url': None}"
            ]
          },
          "execution_count": 19,
          "metadata": {},
          "output_type": "execute_result"
        }
      ],
      "source": [
        "search_results[0].metadata"
      ]
    },
    {
      "cell_type": "code",
      "execution_count": 20,
      "id": "HYb1g9M3-ST8",
      "metadata": {
        "colab": {
          "base_uri": "https://localhost:8080/"
        },
        "id": "HYb1g9M3-ST8",
        "outputId": "6bdee7ab-4d0f-4342-b98e-dc8a24dd76be"
      },
      "outputs": [
        {
          "data": {
            "text/plain": [
              "DispatchResult(task_id='8ce2a642-dc13-4b6d-8a57-4f0303ecd714', memory_usage=0.0, peak_memory=0.0, start_time=1758738217.9210482, end_time=1758738219.2423272, error_message='')"
            ]
          },
          "execution_count": 20,
          "metadata": {},
          "output_type": "execute_result"
        }
      ],
      "source": [
        "search_results[0].dispatch_result"
      ]
    },
    {
      "cell_type": "code",
      "execution_count": 25,
      "id": "tbDRPsxN-C9l",
      "metadata": {
        "colab": {
          "base_uri": "https://localhost:8080/"
        },
        "id": "tbDRPsxN-C9l",
        "outputId": "35c9bab3-002e-47de-c063-144c9822a9b1"
      },
      "outputs": [
        {
          "data": {
            "text/plain": [
              "dict"
            ]
          },
          "execution_count": 25,
          "metadata": {},
          "output_type": "execute_result"
        }
      ],
      "source": [
        "type(search_results[0].links)"
      ]
    },
    {
      "cell_type": "code",
      "execution_count": 27,
      "id": "cyWAbzdV-q_K",
      "metadata": {
        "colab": {
          "base_uri": "https://localhost:8080/"
        },
        "id": "cyWAbzdV-q_K",
        "outputId": "f97c83ba-ad31-4413-a368-7139c3fe2e19"
      },
      "outputs": [
        {
          "data": {
            "text/plain": [
              "dict_keys(['internal', 'external'])"
            ]
          },
          "execution_count": 27,
          "metadata": {},
          "output_type": "execute_result"
        }
      ],
      "source": [
        "search_results[0].links.keys()"
      ]
    },
    {
      "cell_type": "code",
      "execution_count": 38,
      "id": "BKgbN-Ke-uDF",
      "metadata": {
        "colab": {
          "base_uri": "https://localhost:8080/",
          "height": 1000
        },
        "id": "BKgbN-Ke-uDF",
        "outputId": "1c99969a-0fb8-43e8-bc07-6525ef23477a"
      },
      "outputs": [
        {
          "data": {
            "application/json": [
              {
                "base_domain": "wikipedia.org",
                "contextual_score": null,
                "head_data": null,
                "head_extraction_error": null,
                "head_extraction_status": null,
                "href": "https://en.wikipedia.org/",
                "intrinsic_score": 0,
                "text": "English\n7,056,000+ articles",
                "title": "English — Wikipedia — The Free Encyclopedia",
                "total_score": null
              },
              {
                "base_domain": "wikipedia.org",
                "contextual_score": null,
                "head_data": null,
                "head_extraction_error": null,
                "head_extraction_status": null,
                "href": "https://ja.wikipedia.org/",
                "intrinsic_score": 0,
                "text": "日本語\n1,472,000+ 記事",
                "title": "Nihongo — ウィキペディア — フリー百科事典",
                "total_score": null
              },
              {
                "base_domain": "wikipedia.org",
                "contextual_score": null,
                "head_data": null,
                "head_extraction_error": null,
                "head_extraction_status": null,
                "href": "https://ru.wikipedia.org/",
                "intrinsic_score": 0,
                "text": "Русский\n2 063 000+ статей",
                "title": "Russkiy — Википедия — Свободная энциклопедия",
                "total_score": null
              },
              {
                "base_domain": "wikipedia.org",
                "contextual_score": null,
                "head_data": null,
                "head_extraction_error": null,
                "head_extraction_status": null,
                "href": "https://de.wikipedia.org/",
                "intrinsic_score": 0,
                "text": "Deutsch\n3.051.000+ Artikel",
                "title": "Deutsch — Wikipedia — Die freie Enzyklopädie",
                "total_score": null
              },
              {
                "base_domain": "wikipedia.org",
                "contextual_score": null,
                "head_data": null,
                "head_extraction_error": null,
                "head_extraction_status": null,
                "href": "https://fr.wikipedia.org/",
                "intrinsic_score": 0,
                "text": "Français\n2 709 000+ articles",
                "title": "Français — Wikipédia — L’encyclopédie libre",
                "total_score": null
              }
            ]
          },
          "metadata": {},
          "output_type": "display_data"
        }
      ],
      "source": [
        "from IPython.display import display_json\n",
        "\n",
        "display_json(search_results[0].links['internal'][0:5], raw=True)"
      ]
    },
    {
      "cell_type": "markdown",
      "id": "93e5ef45",
      "metadata": {},
      "source": [
        "## Conclusion\n",
        "\n",
        "This project demonstrated the power of modern AI-driven web scraping using Crawl4AI. We successfully implemented a smart web search engine that can:\n",
        "\n",
        "### Key Achievements:\n",
        "- **Intelligent Crawling**: Used BFS deep crawling strategy to systematically explore websites up to 2 levels deep\n",
        "- **Structured Data Extraction**: Converted web content into structured, markdown-formatted data suitable for AI processing\n",
        "- **Link Discovery**: Automatically identified and categorized internal links for further exploration\n",
        "- **Scalable Architecture**: Leveraged async/await patterns for efficient concurrent web scraping\n",
        "\n",
        "This foundation provides a robust starting point for building more sophisticated AI-powered search and data extraction systems. The combination of intelligent crawling strategies and structured output makes it ideal for feeding modern AI applications with high-quality web data."
      ]
    },
    {
      "cell_type": "markdown",
      "id": "be3f49e6",
      "metadata": {},
      "source": []
    }
  ],
  "metadata": {
    "colab": {
      "provenance": []
    },
    "kernelspec": {
      "display_name": "Python 3",
      "name": "python3"
    },
    "language_info": {
      "name": "python"
    }
  },
  "nbformat": 4,
  "nbformat_minor": 5
}
