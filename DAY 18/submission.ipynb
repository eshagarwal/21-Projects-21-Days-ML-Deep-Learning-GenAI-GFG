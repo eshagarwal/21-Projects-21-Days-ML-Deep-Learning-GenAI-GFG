{
 "cells": [
  {
   "cell_type": "markdown",
   "id": "beb05d65",
   "metadata": {},
   "source": [
    "# Using RAG chatbot on hospital reviews\n",
    "\n",
    "## Screenshots of chat"
   ]
  },
  {
   "cell_type": "markdown",
   "id": "8f986496",
   "metadata": {},
   "source": [
    "![Chat 1](./Chat_1.png)\n",
    "![Chat 2](./Chat_2.png)\n",
    "![Chat 3](./Chat_3.png)"
   ]
  }
 ],
 "metadata": {
  "language_info": {
   "name": "python"
  }
 },
 "nbformat": 4,
 "nbformat_minor": 5
}
