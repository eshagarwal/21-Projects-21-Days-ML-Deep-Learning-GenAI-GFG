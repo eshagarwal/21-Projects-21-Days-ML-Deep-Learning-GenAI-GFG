{
 "cells": [
  {
   "cell_type": "code",
   "execution_count": null,
   "id": "f1b2d3c9",
   "metadata": {},
   "outputs": [],
   "source": [
    "import pandas as pd \n",
    "import numpy as np\n",
    "import matplotlib.pyplot as plt\n",
    "import seaborn as sns\n",
    "omport plotly.express as px\n",
    "import scipy.cluster.hierarchy as sch\n"
   ]
  }
 ],
 "metadata": {
  "kernelspec": {
   "display_name": "venv (3.10.0)",
   "language": "python",
   "name": "python3"
  },
  "language_info": {
   "name": "python",
   "version": "3.10.0"
  }
 },
 "nbformat": 4,
 "nbformat_minor": 5
}
