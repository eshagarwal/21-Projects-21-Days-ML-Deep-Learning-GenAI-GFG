{
  "cells": [
    {
      "cell_type": "markdown",
      "metadata": {
        "id": "intro_markdown"
      },
      "source": [
        "# Feature Engineering for Customer Churn Prediction 📡\n",
        "\n",
        "**Project Objective:** To demonstrate the power of feature engineering by building and comparing two models: a baseline model with raw features and an enhanced model with newly engineered features. The goal is to accurately predict customer churn for a telecommunications company.\n",
        "\n",
        "\n",
        "### Core Concepts:\n",
        "1.  **The Importance of Feature Engineering:** Understanding why it's often the most critical step for model performance.\n",
        "2.  **Advanced Data Cleaning:** Handling tricky data types and inconsistencies in a real-world dataset.\n",
        "3.  **Feature Creation Techniques:**\n",
        "    - **Binning/Discretization:** Grouping continuous variables into meaningful categories (e.g., tenure groups).\n",
        "    - **Combining Features:** Creating new features by aggregating or interacting with existing ones (e.g., total number of services).\n",
        "    - **Simplifying Categories:** Making features easier for models to interpret.\n",
        "4.  **Building a Modeling Pipeline:** Using Scikit-Learn's `ColumnTransformer` for robust preprocessing.\n",
        "5.  **Model Comparison:** Quantitatively measuring the performance lift gained from our engineered features."
      ]
    },
    {
      "cell_type": "markdown",
      "metadata": {
        "id": "setup_markdown"
      },
      "source": [
        "## Importing Libraries and Loading Data"
      ]
    },
    {
      "cell_type": "code",
      "execution_count": 1,
      "metadata": {
        "id": "setup_code"
      },
      "outputs": [],
      "source": [
        "import pandas as pd\n",
        "import numpy as np\n",
        "import matplotlib.pyplot as plt\n",
        "import seaborn as sns\n",
        "\n",
        "from sklearn.model_selection import train_test_split\n",
        "from sklearn.preprocessing import StandardScaler, OneHotEncoder\n",
        "from sklearn.compose import ColumnTransformer\n",
        "from sklearn.pipeline import Pipeline\n",
        "from sklearn.linear_model import LogisticRegression\n",
        "from sklearn.ensemble import RandomForestClassifier\n",
        "from sklearn.metrics import accuracy_score, classification_report, confusion_matrix\n",
        "\n",
        "# Set plot style\n",
        "sns.set_style('whitegrid')"
      ]
    },
    {
      "cell_type": "code",
      "execution_count": 2,
      "metadata": {
        "colab": {
          "base_uri": "https://localhost:8080/",
          "height": 377
        },
        "id": "load_data_code",
        "outputId": "fff92505-baf7-410f-a514-c34beedd79fa"
      },
      "outputs": [
        {
          "name": "stdout",
          "output_type": "stream",
          "text": [
            "Dataset loaded successfully.\n",
            "Data shape: (7043, 21)\n"
          ]
        },
        {
          "data": {
            "text/html": [
              "<div>\n",
              "<style scoped>\n",
              "    .dataframe tbody tr th:only-of-type {\n",
              "        vertical-align: middle;\n",
              "    }\n",
              "\n",
              "    .dataframe tbody tr th {\n",
              "        vertical-align: top;\n",
              "    }\n",
              "\n",
              "    .dataframe thead th {\n",
              "        text-align: right;\n",
              "    }\n",
              "</style>\n",
              "<table border=\"1\" class=\"dataframe\">\n",
              "  <thead>\n",
              "    <tr style=\"text-align: right;\">\n",
              "      <th></th>\n",
              "      <th>customerID</th>\n",
              "      <th>gender</th>\n",
              "      <th>SeniorCitizen</th>\n",
              "      <th>Partner</th>\n",
              "      <th>Dependents</th>\n",
              "      <th>tenure</th>\n",
              "      <th>PhoneService</th>\n",
              "      <th>MultipleLines</th>\n",
              "      <th>InternetService</th>\n",
              "      <th>OnlineSecurity</th>\n",
              "      <th>...</th>\n",
              "      <th>DeviceProtection</th>\n",
              "      <th>TechSupport</th>\n",
              "      <th>StreamingTV</th>\n",
              "      <th>StreamingMovies</th>\n",
              "      <th>Contract</th>\n",
              "      <th>PaperlessBilling</th>\n",
              "      <th>PaymentMethod</th>\n",
              "      <th>MonthlyCharges</th>\n",
              "      <th>TotalCharges</th>\n",
              "      <th>Churn</th>\n",
              "    </tr>\n",
              "  </thead>\n",
              "  <tbody>\n",
              "    <tr>\n",
              "      <th>0</th>\n",
              "      <td>7590-VHVEG</td>\n",
              "      <td>Female</td>\n",
              "      <td>0</td>\n",
              "      <td>Yes</td>\n",
              "      <td>No</td>\n",
              "      <td>1</td>\n",
              "      <td>No</td>\n",
              "      <td>No phone service</td>\n",
              "      <td>DSL</td>\n",
              "      <td>No</td>\n",
              "      <td>...</td>\n",
              "      <td>No</td>\n",
              "      <td>No</td>\n",
              "      <td>No</td>\n",
              "      <td>No</td>\n",
              "      <td>Month-to-month</td>\n",
              "      <td>Yes</td>\n",
              "      <td>Electronic check</td>\n",
              "      <td>29.85</td>\n",
              "      <td>29.85</td>\n",
              "      <td>No</td>\n",
              "    </tr>\n",
              "    <tr>\n",
              "      <th>1</th>\n",
              "      <td>5575-GNVDE</td>\n",
              "      <td>Male</td>\n",
              "      <td>0</td>\n",
              "      <td>No</td>\n",
              "      <td>No</td>\n",
              "      <td>34</td>\n",
              "      <td>Yes</td>\n",
              "      <td>No</td>\n",
              "      <td>DSL</td>\n",
              "      <td>Yes</td>\n",
              "      <td>...</td>\n",
              "      <td>Yes</td>\n",
              "      <td>No</td>\n",
              "      <td>No</td>\n",
              "      <td>No</td>\n",
              "      <td>One year</td>\n",
              "      <td>No</td>\n",
              "      <td>Mailed check</td>\n",
              "      <td>56.95</td>\n",
              "      <td>1889.5</td>\n",
              "      <td>No</td>\n",
              "    </tr>\n",
              "    <tr>\n",
              "      <th>2</th>\n",
              "      <td>3668-QPYBK</td>\n",
              "      <td>Male</td>\n",
              "      <td>0</td>\n",
              "      <td>No</td>\n",
              "      <td>No</td>\n",
              "      <td>2</td>\n",
              "      <td>Yes</td>\n",
              "      <td>No</td>\n",
              "      <td>DSL</td>\n",
              "      <td>Yes</td>\n",
              "      <td>...</td>\n",
              "      <td>No</td>\n",
              "      <td>No</td>\n",
              "      <td>No</td>\n",
              "      <td>No</td>\n",
              "      <td>Month-to-month</td>\n",
              "      <td>Yes</td>\n",
              "      <td>Mailed check</td>\n",
              "      <td>53.85</td>\n",
              "      <td>108.15</td>\n",
              "      <td>Yes</td>\n",
              "    </tr>\n",
              "    <tr>\n",
              "      <th>3</th>\n",
              "      <td>7795-CFOCW</td>\n",
              "      <td>Male</td>\n",
              "      <td>0</td>\n",
              "      <td>No</td>\n",
              "      <td>No</td>\n",
              "      <td>45</td>\n",
              "      <td>No</td>\n",
              "      <td>No phone service</td>\n",
              "      <td>DSL</td>\n",
              "      <td>Yes</td>\n",
              "      <td>...</td>\n",
              "      <td>Yes</td>\n",
              "      <td>Yes</td>\n",
              "      <td>No</td>\n",
              "      <td>No</td>\n",
              "      <td>One year</td>\n",
              "      <td>No</td>\n",
              "      <td>Bank transfer (automatic)</td>\n",
              "      <td>42.30</td>\n",
              "      <td>1840.75</td>\n",
              "      <td>No</td>\n",
              "    </tr>\n",
              "    <tr>\n",
              "      <th>4</th>\n",
              "      <td>9237-HQITU</td>\n",
              "      <td>Female</td>\n",
              "      <td>0</td>\n",
              "      <td>No</td>\n",
              "      <td>No</td>\n",
              "      <td>2</td>\n",
              "      <td>Yes</td>\n",
              "      <td>No</td>\n",
              "      <td>Fiber optic</td>\n",
              "      <td>No</td>\n",
              "      <td>...</td>\n",
              "      <td>No</td>\n",
              "      <td>No</td>\n",
              "      <td>No</td>\n",
              "      <td>No</td>\n",
              "      <td>Month-to-month</td>\n",
              "      <td>Yes</td>\n",
              "      <td>Electronic check</td>\n",
              "      <td>70.70</td>\n",
              "      <td>151.65</td>\n",
              "      <td>Yes</td>\n",
              "    </tr>\n",
              "  </tbody>\n",
              "</table>\n",
              "<p>5 rows × 21 columns</p>\n",
              "</div>"
            ],
            "text/plain": [
              "   customerID  gender  SeniorCitizen Partner Dependents  tenure PhoneService  \\\n",
              "0  7590-VHVEG  Female              0     Yes         No       1           No   \n",
              "1  5575-GNVDE    Male              0      No         No      34          Yes   \n",
              "2  3668-QPYBK    Male              0      No         No       2          Yes   \n",
              "3  7795-CFOCW    Male              0      No         No      45           No   \n",
              "4  9237-HQITU  Female              0      No         No       2          Yes   \n",
              "\n",
              "      MultipleLines InternetService OnlineSecurity  ... DeviceProtection  \\\n",
              "0  No phone service             DSL             No  ...               No   \n",
              "1                No             DSL            Yes  ...              Yes   \n",
              "2                No             DSL            Yes  ...               No   \n",
              "3  No phone service             DSL            Yes  ...              Yes   \n",
              "4                No     Fiber optic             No  ...               No   \n",
              "\n",
              "  TechSupport StreamingTV StreamingMovies        Contract PaperlessBilling  \\\n",
              "0          No          No              No  Month-to-month              Yes   \n",
              "1          No          No              No        One year               No   \n",
              "2          No          No              No  Month-to-month              Yes   \n",
              "3         Yes          No              No        One year               No   \n",
              "4          No          No              No  Month-to-month              Yes   \n",
              "\n",
              "               PaymentMethod MonthlyCharges  TotalCharges Churn  \n",
              "0           Electronic check          29.85         29.85    No  \n",
              "1               Mailed check          56.95        1889.5    No  \n",
              "2               Mailed check          53.85        108.15   Yes  \n",
              "3  Bank transfer (automatic)          42.30       1840.75    No  \n",
              "4           Electronic check          70.70        151.65   Yes  \n",
              "\n",
              "[5 rows x 21 columns]"
            ]
          },
          "execution_count": 2,
          "metadata": {},
          "output_type": "execute_result"
        }
      ],
      "source": [
        "# Load the dataset from the user-provided file\n",
        "df = pd.read_csv('../Data/WA_Fn-UseC_-Telco-Customer-Churn.csv')\n",
        "\n",
        "print(\"Dataset loaded successfully.\")\n",
        "print(f\"Data shape: {df.shape}\")\n",
        "df.head()"
      ]
    },
    {
      "cell_type": "code",
      "execution_count": 3,
      "metadata": {},
      "outputs": [
        {
          "data": {
            "text/plain": [
              "Index(['customerID', 'gender', 'SeniorCitizen', 'Partner', 'Dependents',\n",
              "       'tenure', 'PhoneService', 'MultipleLines', 'InternetService',\n",
              "       'OnlineSecurity', 'OnlineBackup', 'DeviceProtection', 'TechSupport',\n",
              "       'StreamingTV', 'StreamingMovies', 'Contract', 'PaperlessBilling',\n",
              "       'PaymentMethod', 'MonthlyCharges', 'TotalCharges', 'Churn'],\n",
              "      dtype='object')"
            ]
          },
          "execution_count": 3,
          "metadata": {},
          "output_type": "execute_result"
        }
      ],
      "source": [
        "df.columns"
      ]
    },
    {
      "cell_type": "markdown",
      "metadata": {
        "id": "cleaning_markdown"
      },
      "source": [
        "## Data Cleaning and Initial Preparation\n",
        "Real-world data is often messy. We need to handle inconsistencies before we can do any analysis or modeling."
      ]
    },
    {
      "cell_type": "code",
      "execution_count": 4,
      "metadata": {
        "colab": {
          "base_uri": "https://localhost:8080/"
        },
        "id": "initial_inspection_code",
        "outputId": "28e928c8-a608-4164-9874-ffbac3bf2110"
      },
      "outputs": [
        {
          "name": "stdout",
          "output_type": "stream",
          "text": [
            "<class 'pandas.core.frame.DataFrame'>\n",
            "RangeIndex: 7043 entries, 0 to 7042\n",
            "Data columns (total 21 columns):\n",
            " #   Column            Non-Null Count  Dtype  \n",
            "---  ------            --------------  -----  \n",
            " 0   customerID        7043 non-null   object \n",
            " 1   gender            7043 non-null   object \n",
            " 2   SeniorCitizen     7043 non-null   int64  \n",
            " 3   Partner           7043 non-null   object \n",
            " 4   Dependents        7043 non-null   object \n",
            " 5   tenure            7043 non-null   int64  \n",
            " 6   PhoneService      7043 non-null   object \n",
            " 7   MultipleLines     7043 non-null   object \n",
            " 8   InternetService   7043 non-null   object \n",
            " 9   OnlineSecurity    7043 non-null   object \n",
            " 10  OnlineBackup      7043 non-null   object \n",
            " 11  DeviceProtection  7043 non-null   object \n",
            " 12  TechSupport       7043 non-null   object \n",
            " 13  StreamingTV       7043 non-null   object \n",
            " 14  StreamingMovies   7043 non-null   object \n",
            " 15  Contract          7043 non-null   object \n",
            " 16  PaperlessBilling  7043 non-null   object \n",
            " 17  PaymentMethod     7043 non-null   object \n",
            " 18  MonthlyCharges    7043 non-null   float64\n",
            " 19  TotalCharges      7043 non-null   object \n",
            " 20  Churn             7043 non-null   object \n",
            "dtypes: float64(1), int64(2), object(18)\n",
            "memory usage: 1.1+ MB\n"
          ]
        }
      ],
      "source": [
        "df.info()"
      ]
    },
    {
      "cell_type": "markdown",
      "metadata": {
        "id": "cleaning_summary"
      },
      "source": [
        "**Key Problem Identified:** The `TotalCharges` column, which should be numerical, is currently an `object` type. This indicates there are non-numeric values in it. We need to fix this."
      ]
    },
    {
      "cell_type": "code",
      "execution_count": 5,
      "metadata": {
        "colab": {
          "base_uri": "https://localhost:8080/"
        },
        "id": "cleaning_totalcharges_code",
        "outputId": "09e1e969-fa42-434e-e222-be31e96cb260"
      },
      "outputs": [
        {
          "name": "stdout",
          "output_type": "stream",
          "text": [
            "Shape before cleaning: (7043, 21)\n",
            "Shape after converting TotalCharges to numeric: (7043, 21)\n",
            "Number of missing TotalCharges: 11\n",
            "Shape after imputing TotalCharges: (7043, 21)\n",
            "Shape after converting Churn to binary: (7043, 21)\n",
            "Shape after dropping rows with missing Churn: (7043, 21)\n",
            "\n",
            "Data cleaning complete.\n"
          ]
        }
      ],
      "source": [
        "print(f\"Shape before cleaning: {df.shape}\")\n",
        "\n",
        "# Convert TotalCharges to numeric, coercing errors to NaN\n",
        "df['TotalCharges'] = pd.to_numeric(df['TotalCharges'], errors='coerce')\n",
        "print(f\"Shape after converting TotalCharges to numeric: {df.shape}\")\n",
        "\n",
        "# Find how many rows have missing TotalCharges\n",
        "print(f\"Number of missing TotalCharges: {df['TotalCharges'].isnull().sum()}\")\n",
        "\n",
        "# Impute the missing values with the median\n",
        "df['TotalCharges'] = df['TotalCharges'].fillna(df['TotalCharges'].median())\n",
        "print(f\"Shape after imputing TotalCharges: {df.shape}\")\n",
        "\n",
        "\n",
        "# Convert target variable 'Churn' to binary\n",
        "df['Churn'] = df['Churn'].map({'Yes': 1, 'No': 0})\n",
        "print(f\"Shape after converting Churn to binary: {df.shape}\")\n",
        "\n",
        "\n",
        "# Drop rows with missing Churn values\n",
        "df.dropna(subset=['Churn'], inplace=True)\n",
        "print(f\"Shape after dropping rows with missing Churn: {df.shape}\")\n",
        "\n",
        "\n",
        "# Drop customerID as it's not a predictive feature\n",
        "df.drop('customerID', axis=1, inplace=True)\n",
        "\n",
        "print(\"\\nData cleaning complete.\")"
      ]
    },
    {
      "cell_type": "code",
      "execution_count": 6,
      "metadata": {
        "colab": {
          "base_uri": "https://localhost:8080/",
          "height": 313
        },
        "id": "0a0b303e",
        "outputId": "e86a6d58-13aa-4594-fee9-f8d42eacd5c4"
      },
      "outputs": [
        {
          "data": {
            "text/html": [
              "<div>\n",
              "<style scoped>\n",
              "    .dataframe tbody tr th:only-of-type {\n",
              "        vertical-align: middle;\n",
              "    }\n",
              "\n",
              "    .dataframe tbody tr th {\n",
              "        vertical-align: top;\n",
              "    }\n",
              "\n",
              "    .dataframe thead th {\n",
              "        text-align: right;\n",
              "    }\n",
              "</style>\n",
              "<table border=\"1\" class=\"dataframe\">\n",
              "  <thead>\n",
              "    <tr style=\"text-align: right;\">\n",
              "      <th></th>\n",
              "      <th>gender</th>\n",
              "      <th>SeniorCitizen</th>\n",
              "      <th>Partner</th>\n",
              "      <th>Dependents</th>\n",
              "      <th>tenure</th>\n",
              "      <th>PhoneService</th>\n",
              "      <th>MultipleLines</th>\n",
              "      <th>InternetService</th>\n",
              "      <th>OnlineSecurity</th>\n",
              "      <th>OnlineBackup</th>\n",
              "      <th>DeviceProtection</th>\n",
              "      <th>TechSupport</th>\n",
              "      <th>StreamingTV</th>\n",
              "      <th>StreamingMovies</th>\n",
              "      <th>Contract</th>\n",
              "      <th>PaperlessBilling</th>\n",
              "      <th>PaymentMethod</th>\n",
              "      <th>MonthlyCharges</th>\n",
              "      <th>TotalCharges</th>\n",
              "      <th>Churn</th>\n",
              "    </tr>\n",
              "  </thead>\n",
              "  <tbody>\n",
              "    <tr>\n",
              "      <th>0</th>\n",
              "      <td>Female</td>\n",
              "      <td>0</td>\n",
              "      <td>Yes</td>\n",
              "      <td>No</td>\n",
              "      <td>1</td>\n",
              "      <td>No</td>\n",
              "      <td>No phone service</td>\n",
              "      <td>DSL</td>\n",
              "      <td>No</td>\n",
              "      <td>Yes</td>\n",
              "      <td>No</td>\n",
              "      <td>No</td>\n",
              "      <td>No</td>\n",
              "      <td>No</td>\n",
              "      <td>Month-to-month</td>\n",
              "      <td>Yes</td>\n",
              "      <td>Electronic check</td>\n",
              "      <td>29.85</td>\n",
              "      <td>29.85</td>\n",
              "      <td>0</td>\n",
              "    </tr>\n",
              "    <tr>\n",
              "      <th>1</th>\n",
              "      <td>Male</td>\n",
              "      <td>0</td>\n",
              "      <td>No</td>\n",
              "      <td>No</td>\n",
              "      <td>34</td>\n",
              "      <td>Yes</td>\n",
              "      <td>No</td>\n",
              "      <td>DSL</td>\n",
              "      <td>Yes</td>\n",
              "      <td>No</td>\n",
              "      <td>Yes</td>\n",
              "      <td>No</td>\n",
              "      <td>No</td>\n",
              "      <td>No</td>\n",
              "      <td>One year</td>\n",
              "      <td>No</td>\n",
              "      <td>Mailed check</td>\n",
              "      <td>56.95</td>\n",
              "      <td>1889.50</td>\n",
              "      <td>0</td>\n",
              "    </tr>\n",
              "    <tr>\n",
              "      <th>2</th>\n",
              "      <td>Male</td>\n",
              "      <td>0</td>\n",
              "      <td>No</td>\n",
              "      <td>No</td>\n",
              "      <td>2</td>\n",
              "      <td>Yes</td>\n",
              "      <td>No</td>\n",
              "      <td>DSL</td>\n",
              "      <td>Yes</td>\n",
              "      <td>Yes</td>\n",
              "      <td>No</td>\n",
              "      <td>No</td>\n",
              "      <td>No</td>\n",
              "      <td>No</td>\n",
              "      <td>Month-to-month</td>\n",
              "      <td>Yes</td>\n",
              "      <td>Mailed check</td>\n",
              "      <td>53.85</td>\n",
              "      <td>108.15</td>\n",
              "      <td>1</td>\n",
              "    </tr>\n",
              "    <tr>\n",
              "      <th>3</th>\n",
              "      <td>Male</td>\n",
              "      <td>0</td>\n",
              "      <td>No</td>\n",
              "      <td>No</td>\n",
              "      <td>45</td>\n",
              "      <td>No</td>\n",
              "      <td>No phone service</td>\n",
              "      <td>DSL</td>\n",
              "      <td>Yes</td>\n",
              "      <td>No</td>\n",
              "      <td>Yes</td>\n",
              "      <td>Yes</td>\n",
              "      <td>No</td>\n",
              "      <td>No</td>\n",
              "      <td>One year</td>\n",
              "      <td>No</td>\n",
              "      <td>Bank transfer (automatic)</td>\n",
              "      <td>42.30</td>\n",
              "      <td>1840.75</td>\n",
              "      <td>0</td>\n",
              "    </tr>\n",
              "    <tr>\n",
              "      <th>4</th>\n",
              "      <td>Female</td>\n",
              "      <td>0</td>\n",
              "      <td>No</td>\n",
              "      <td>No</td>\n",
              "      <td>2</td>\n",
              "      <td>Yes</td>\n",
              "      <td>No</td>\n",
              "      <td>Fiber optic</td>\n",
              "      <td>No</td>\n",
              "      <td>No</td>\n",
              "      <td>No</td>\n",
              "      <td>No</td>\n",
              "      <td>No</td>\n",
              "      <td>No</td>\n",
              "      <td>Month-to-month</td>\n",
              "      <td>Yes</td>\n",
              "      <td>Electronic check</td>\n",
              "      <td>70.70</td>\n",
              "      <td>151.65</td>\n",
              "      <td>1</td>\n",
              "    </tr>\n",
              "  </tbody>\n",
              "</table>\n",
              "</div>"
            ],
            "text/plain": [
              "   gender  SeniorCitizen Partner Dependents  tenure PhoneService  \\\n",
              "0  Female              0     Yes         No       1           No   \n",
              "1    Male              0      No         No      34          Yes   \n",
              "2    Male              0      No         No       2          Yes   \n",
              "3    Male              0      No         No      45           No   \n",
              "4  Female              0      No         No       2          Yes   \n",
              "\n",
              "      MultipleLines InternetService OnlineSecurity OnlineBackup  \\\n",
              "0  No phone service             DSL             No          Yes   \n",
              "1                No             DSL            Yes           No   \n",
              "2                No             DSL            Yes          Yes   \n",
              "3  No phone service             DSL            Yes           No   \n",
              "4                No     Fiber optic             No           No   \n",
              "\n",
              "  DeviceProtection TechSupport StreamingTV StreamingMovies        Contract  \\\n",
              "0               No          No          No              No  Month-to-month   \n",
              "1              Yes          No          No              No        One year   \n",
              "2               No          No          No              No  Month-to-month   \n",
              "3              Yes         Yes          No              No        One year   \n",
              "4               No          No          No              No  Month-to-month   \n",
              "\n",
              "  PaperlessBilling              PaymentMethod  MonthlyCharges  TotalCharges  \\\n",
              "0              Yes           Electronic check           29.85         29.85   \n",
              "1               No               Mailed check           56.95       1889.50   \n",
              "2              Yes               Mailed check           53.85        108.15   \n",
              "3               No  Bank transfer (automatic)           42.30       1840.75   \n",
              "4              Yes           Electronic check           70.70        151.65   \n",
              "\n",
              "   Churn  \n",
              "0      0  \n",
              "1      0  \n",
              "2      1  \n",
              "3      0  \n",
              "4      1  "
            ]
          },
          "metadata": {},
          "output_type": "display_data"
        }
      ],
      "source": [
        "pd.set_option('display.max_columns', None)\n",
        "display(df.head())"
      ]
    },
    {
      "cell_type": "code",
      "execution_count": 7,
      "metadata": {
        "colab": {
          "base_uri": "https://localhost:8080/",
          "height": 178
        },
        "id": "qQbTIO1iPuKI",
        "outputId": "28c8abb2-506b-4310-e4ed-0a5ef8cab2bb"
      },
      "outputs": [
        {
          "data": {
            "text/plain": [
              "<Axes: ylabel='Churn'>"
            ]
          },
          "execution_count": 7,
          "metadata": {},
          "output_type": "execute_result"
        },
        {
          "data": {
            "image/png": "[encoded data removed]",
            "text/plain": [
              "<Figure size 640x480 with 1 Axes>"
            ]
          },
          "metadata": {},
          "output_type": "display_data"
        }
      ],
      "source": [
        "df['Churn'].value_counts().plot(kind='barh')"
      ]
    },
    {
      "cell_type": "markdown",
      "metadata": {
        "id": "baseline_model_markdown"
      },
      "source": [
        "## Model 1 - Baseline Performance (Without Feature Engineering)\n",
        "First, we'll build a model using only the original, cleaned features. This will serve as our benchmark to see if our feature engineering efforts actually help."
      ]
    },
    {
      "cell_type": "code",
      "execution_count": 8,
      "metadata": {
        "colab": {
          "base_uri": "https://localhost:8080/"
        },
        "id": "baseline_split_code",
        "outputId": "e68e16a7-8657-42fc-e459-62634e19722f"
      },
      "outputs": [
        {
          "name": "stdout",
          "output_type": "stream",
          "text": [
            "--- Baseline Model Performance ---\n",
            "              precision    recall  f1-score   support\n",
            "\n",
            "           0       0.85      0.89      0.87      1035\n",
            "           1       0.66      0.56      0.60       374\n",
            "\n",
            "    accuracy                           0.81      1409\n",
            "   macro avg       0.75      0.73      0.74      1409\n",
            "weighted avg       0.80      0.81      0.80      1409\n",
            "\n"
          ]
        }
      ],
      "source": [
        "# Define features (X) and target (y)\n",
        "X_base = df.drop(\"Churn\", axis=1)\n",
        "y_base = df[\"Churn\"]\n",
        "\n",
        "# Identify categorical and numerical features\n",
        "numerical_features_base = X_base.select_dtypes(include=np.number).columns.tolist()\n",
        "categorical_features_base = X_base.select_dtypes(include=[\"object\"]).columns.tolist()\n",
        "\n",
        "# Create the preprocessing pipeline\n",
        "preprocessor_base = ColumnTransformer(\n",
        "    transformers=[\n",
        "        (\"num\", StandardScaler(), numerical_features_base),\n",
        "        (\"cat\", OneHotEncoder(handle_unknown=\"ignore\"), categorical_features_base),\n",
        "    ]\n",
        ")\n",
        "\n",
        "# Split data\n",
        "X_train_base, X_test_base, y_train_base, y_test_base = train_test_split(\n",
        "    X_base,\n",
        "    y_base,\n",
        "    test_size=0.2,\n",
        "    random_state=42,\n",
        "    stratify=y_base,\n",
        ")\n",
        "\n",
        "# Create the full pipeline with a classifier\n",
        "baseline_model = Pipeline(\n",
        "    steps=[\n",
        "        (\"preprocessor\", preprocessor_base),\n",
        "        (\"classifier\", LogisticRegression(random_state=42, max_iter=1000)),\n",
        "    ]\n",
        ")\n",
        "\n",
        "# Train and evaluate the baseline model\n",
        "baseline_model.fit(X_train_base, y_train_base)\n",
        "y_pred_base = baseline_model.predict(X_test_base)\n",
        "\n",
        "print(\"--- Baseline Model Performance ---\")\n",
        "print(classification_report(y_test_base, y_pred_base))"
      ]
    },
    {
      "cell_type": "markdown",
      "metadata": {
        "id": "feature_eng_main_markdown"
      },
      "source": [
        "## Feature Engineering\n",
        "Now, let's create a new, enriched DataFrame with more intelligent features."
      ]
    },
    {
      "cell_type": "code",
      "execution_count": 9,
      "metadata": {
        "colab": {
          "base_uri": "https://localhost:8080/",
          "height": 335
        },
        "id": "v0kJpX0-QnP2",
        "outputId": "0f50d9bc-f2c0-4218-84dc-5de65d5124f7"
      },
      "outputs": [
        {
          "data": {
            "text/plain": [
              "count    7043.000000\n",
              "mean       32.371149\n",
              "std        24.559481\n",
              "min         0.000000\n",
              "25%         9.000000\n",
              "50%        29.000000\n",
              "75%        55.000000\n",
              "max        72.000000\n",
              "Name: tenure, dtype: float64"
            ]
          },
          "execution_count": 9,
          "metadata": {},
          "output_type": "execute_result"
        }
      ],
      "source": [
        "df['tenure'].describe()"
      ]
    },
    {
      "cell_type": "code",
      "execution_count": 10,
      "metadata": {},
      "outputs": [
        {
          "data": {
            "text/plain": [
              "<Axes: >"
            ]
          },
          "execution_count": 10,
          "metadata": {},
          "output_type": "execute_result"
        },
        {
          "data": {
            "image/png": "[encoded data removed]",
            "text/plain": [
              "<Figure size 640x480 with 1 Axes>"
            ]
          },
          "metadata": {},
          "output_type": "display_data"
        }
      ],
      "source": [
        "df.tenure.hist()"
      ]
    },
    {
      "cell_type": "code",
      "execution_count": 11,
      "metadata": {
        "colab": {
          "base_uri": "https://localhost:8080/",
          "height": 360
        },
        "id": "feature_eng_code",
        "outputId": "5c6973e9-7730-4e6f-ef69-74eb7c019a55"
      },
      "outputs": [
        {
          "name": "stdout",
          "output_type": "stream",
          "text": [
            "Feature engineering complete. New features added.\n"
          ]
        },
        {
          "data": {
            "text/html": [
              "<div>\n",
              "<style scoped>\n",
              "    .dataframe tbody tr th:only-of-type {\n",
              "        vertical-align: middle;\n",
              "    }\n",
              "\n",
              "    .dataframe tbody tr th {\n",
              "        vertical-align: top;\n",
              "    }\n",
              "\n",
              "    .dataframe thead th {\n",
              "        text-align: right;\n",
              "    }\n",
              "</style>\n",
              "<table border=\"1\" class=\"dataframe\">\n",
              "  <thead>\n",
              "    <tr style=\"text-align: right;\">\n",
              "      <th></th>\n",
              "      <th>gender</th>\n",
              "      <th>SeniorCitizen</th>\n",
              "      <th>Partner</th>\n",
              "      <th>Dependents</th>\n",
              "      <th>tenure</th>\n",
              "      <th>PhoneService</th>\n",
              "      <th>MultipleLines</th>\n",
              "      <th>InternetService</th>\n",
              "      <th>OnlineSecurity</th>\n",
              "      <th>OnlineBackup</th>\n",
              "      <th>DeviceProtection</th>\n",
              "      <th>TechSupport</th>\n",
              "      <th>StreamingTV</th>\n",
              "      <th>StreamingMovies</th>\n",
              "      <th>Contract</th>\n",
              "      <th>PaperlessBilling</th>\n",
              "      <th>PaymentMethod</th>\n",
              "      <th>MonthlyCharges</th>\n",
              "      <th>TotalCharges</th>\n",
              "      <th>Churn</th>\n",
              "      <th>tenure_group</th>\n",
              "      <th>num_add_services</th>\n",
              "      <th>monthly_charge_ratio</th>\n",
              "    </tr>\n",
              "  </thead>\n",
              "  <tbody>\n",
              "    <tr>\n",
              "      <th>0</th>\n",
              "      <td>Female</td>\n",
              "      <td>0</td>\n",
              "      <td>Yes</td>\n",
              "      <td>No</td>\n",
              "      <td>1</td>\n",
              "      <td>No</td>\n",
              "      <td>No</td>\n",
              "      <td>DSL</td>\n",
              "      <td>No</td>\n",
              "      <td>Yes</td>\n",
              "      <td>No</td>\n",
              "      <td>No</td>\n",
              "      <td>No</td>\n",
              "      <td>No</td>\n",
              "      <td>Month-to-month</td>\n",
              "      <td>Yes</td>\n",
              "      <td>Electronic check</td>\n",
              "      <td>29.85</td>\n",
              "      <td>29.85</td>\n",
              "      <td>0</td>\n",
              "      <td>0-1 Year</td>\n",
              "      <td>1</td>\n",
              "      <td>14.925000</td>\n",
              "    </tr>\n",
              "    <tr>\n",
              "      <th>1</th>\n",
              "      <td>Male</td>\n",
              "      <td>0</td>\n",
              "      <td>No</td>\n",
              "      <td>No</td>\n",
              "      <td>34</td>\n",
              "      <td>Yes</td>\n",
              "      <td>No</td>\n",
              "      <td>DSL</td>\n",
              "      <td>Yes</td>\n",
              "      <td>No</td>\n",
              "      <td>Yes</td>\n",
              "      <td>No</td>\n",
              "      <td>No</td>\n",
              "      <td>No</td>\n",
              "      <td>One year</td>\n",
              "      <td>No</td>\n",
              "      <td>Mailed check</td>\n",
              "      <td>56.95</td>\n",
              "      <td>1889.50</td>\n",
              "      <td>0</td>\n",
              "      <td>2-4 Years</td>\n",
              "      <td>2</td>\n",
              "      <td>1.627143</td>\n",
              "    </tr>\n",
              "    <tr>\n",
              "      <th>2</th>\n",
              "      <td>Male</td>\n",
              "      <td>0</td>\n",
              "      <td>No</td>\n",
              "      <td>No</td>\n",
              "      <td>2</td>\n",
              "      <td>Yes</td>\n",
              "      <td>No</td>\n",
              "      <td>DSL</td>\n",
              "      <td>Yes</td>\n",
              "      <td>Yes</td>\n",
              "      <td>No</td>\n",
              "      <td>No</td>\n",
              "      <td>No</td>\n",
              "      <td>No</td>\n",
              "      <td>Month-to-month</td>\n",
              "      <td>Yes</td>\n",
              "      <td>Mailed check</td>\n",
              "      <td>53.85</td>\n",
              "      <td>108.15</td>\n",
              "      <td>1</td>\n",
              "      <td>0-1 Year</td>\n",
              "      <td>2</td>\n",
              "      <td>17.950000</td>\n",
              "    </tr>\n",
              "    <tr>\n",
              "      <th>3</th>\n",
              "      <td>Male</td>\n",
              "      <td>0</td>\n",
              "      <td>No</td>\n",
              "      <td>No</td>\n",
              "      <td>45</td>\n",
              "      <td>No</td>\n",
              "      <td>No</td>\n",
              "      <td>DSL</td>\n",
              "      <td>Yes</td>\n",
              "      <td>No</td>\n",
              "      <td>Yes</td>\n",
              "      <td>Yes</td>\n",
              "      <td>No</td>\n",
              "      <td>No</td>\n",
              "      <td>One year</td>\n",
              "      <td>No</td>\n",
              "      <td>Bank transfer (automatic)</td>\n",
              "      <td>42.30</td>\n",
              "      <td>1840.75</td>\n",
              "      <td>0</td>\n",
              "      <td>2-4 Years</td>\n",
              "      <td>3</td>\n",
              "      <td>0.919565</td>\n",
              "    </tr>\n",
              "    <tr>\n",
              "      <th>4</th>\n",
              "      <td>Female</td>\n",
              "      <td>0</td>\n",
              "      <td>No</td>\n",
              "      <td>No</td>\n",
              "      <td>2</td>\n",
              "      <td>Yes</td>\n",
              "      <td>No</td>\n",
              "      <td>Fiber optic</td>\n",
              "      <td>No</td>\n",
              "      <td>No</td>\n",
              "      <td>No</td>\n",
              "      <td>No</td>\n",
              "      <td>No</td>\n",
              "      <td>No</td>\n",
              "      <td>Month-to-month</td>\n",
              "      <td>Yes</td>\n",
              "      <td>Electronic check</td>\n",
              "      <td>70.70</td>\n",
              "      <td>151.65</td>\n",
              "      <td>1</td>\n",
              "      <td>0-1 Year</td>\n",
              "      <td>0</td>\n",
              "      <td>23.566667</td>\n",
              "    </tr>\n",
              "  </tbody>\n",
              "</table>\n",
              "</div>"
            ],
            "text/plain": [
              "   gender  SeniorCitizen Partner Dependents  tenure PhoneService  \\\n",
              "0  Female              0     Yes         No       1           No   \n",
              "1    Male              0      No         No      34          Yes   \n",
              "2    Male              0      No         No       2          Yes   \n",
              "3    Male              0      No         No      45           No   \n",
              "4  Female              0      No         No       2          Yes   \n",
              "\n",
              "  MultipleLines InternetService OnlineSecurity OnlineBackup DeviceProtection  \\\n",
              "0            No             DSL             No          Yes               No   \n",
              "1            No             DSL            Yes           No              Yes   \n",
              "2            No             DSL            Yes          Yes               No   \n",
              "3            No             DSL            Yes           No              Yes   \n",
              "4            No     Fiber optic             No           No               No   \n",
              "\n",
              "  TechSupport StreamingTV StreamingMovies        Contract PaperlessBilling  \\\n",
              "0          No          No              No  Month-to-month              Yes   \n",
              "1          No          No              No        One year               No   \n",
              "2          No          No              No  Month-to-month              Yes   \n",
              "3         Yes          No              No        One year               No   \n",
              "4          No          No              No  Month-to-month              Yes   \n",
              "\n",
              "               PaymentMethod  MonthlyCharges  TotalCharges  Churn  \\\n",
              "0           Electronic check           29.85         29.85      0   \n",
              "1               Mailed check           56.95       1889.50      0   \n",
              "2               Mailed check           53.85        108.15      1   \n",
              "3  Bank transfer (automatic)           42.30       1840.75      0   \n",
              "4           Electronic check           70.70        151.65      1   \n",
              "\n",
              "  tenure_group  num_add_services  monthly_charge_ratio  \n",
              "0     0-1 Year                 1             14.925000  \n",
              "1    2-4 Years                 2              1.627143  \n",
              "2     0-1 Year                 2             17.950000  \n",
              "3    2-4 Years                 3              0.919565  \n",
              "4     0-1 Year                 0             23.566667  "
            ]
          },
          "execution_count": 11,
          "metadata": {},
          "output_type": "execute_result"
        }
      ],
      "source": [
        "df_eng = df.copy()\n",
        "\n",
        "# 1. Binning 'tenure'\n",
        "bins = [0, 12, 24, 48, 60, 72, 84]\n",
        "labels = ['0-1 Year', '1-2 Years', '2-4 Years', '4-5 Years', '5-6 Years', '6+ Years']\n",
        "df_eng['tenure_group'] = pd.cut(df_eng['tenure'], bins=bins, labels=labels, right=False)\n",
        "\n",
        "# 2. Simplifying categorical features\n",
        "df_eng['MultipleLines'] = df_eng['MultipleLines'].replace({'No phone service': 'No'})\n",
        "for col in ['OnlineSecurity', 'OnlineBackup', 'DeviceProtection', 'TechSupport', 'StreamingTV', 'StreamingMovies']:\n",
        "    df_eng[col] = df_eng[col].replace({'No internet service': 'No'})\n",
        "\n",
        "# 3. Creating interaction/combination features\n",
        "df_eng['num_add_services'] = (df_eng[['OnlineSecurity', 'OnlineBackup', 'DeviceProtection', 'TechSupport', 'StreamingTV', 'StreamingMovies']] == 'Yes').sum(axis=1)\n",
        "\n",
        "# 4. Create a feature for monthly charge to tenure ratio\n",
        "df_eng['monthly_charge_ratio'] = df_eng['MonthlyCharges'] / (df_eng['tenure'] + 1) # +1 to avoid division by zero\n",
        "\n",
        "print(\"Feature engineering complete. New features added.\")\n",
        "df_eng.head()"
      ]
    },
    {
      "cell_type": "markdown",
      "metadata": {
        "id": "fG1S2B5wYpEJ"
      },
      "source": [
        "df_eng['monthly_charge_ratio'] = df_eng['MonthlyCharges'] / (df_eng['tenure'] + 1): This line calculates a new feature monthly_charge_ratio by dividing MonthlyCharges by tenure plus 1. Adding 1 to tenure is done to avoid division by zero for customers with tenure of 0. This feature might capture how much a customer pays relative to how long they have been a customer."
      ]
    },
    {
      "cell_type": "code",
      "execution_count": 12,
      "metadata": {},
      "outputs": [],
      "source": [
        "df_eng.drop(columns=['OnlineSecurity', 'OnlineBackup', 'DeviceProtection', 'TechSupport', 'StreamingTV', 'StreamingMovies'], inplace=True)"
      ]
    },
    {
      "cell_type": "code",
      "execution_count": 13,
      "metadata": {},
      "outputs": [
        {
          "data": {
            "text/html": [
              "<div>\n",
              "<style scoped>\n",
              "    .dataframe tbody tr th:only-of-type {\n",
              "        vertical-align: middle;\n",
              "    }\n",
              "\n",
              "    .dataframe tbody tr th {\n",
              "        vertical-align: top;\n",
              "    }\n",
              "\n",
              "    .dataframe thead th {\n",
              "        text-align: right;\n",
              "    }\n",
              "</style>\n",
              "<table border=\"1\" class=\"dataframe\">\n",
              "  <thead>\n",
              "    <tr style=\"text-align: right;\">\n",
              "      <th></th>\n",
              "      <th>gender</th>\n",
              "      <th>SeniorCitizen</th>\n",
              "      <th>Partner</th>\n",
              "      <th>Dependents</th>\n",
              "      <th>tenure</th>\n",
              "      <th>PhoneService</th>\n",
              "      <th>MultipleLines</th>\n",
              "      <th>InternetService</th>\n",
              "      <th>Contract</th>\n",
              "      <th>PaperlessBilling</th>\n",
              "      <th>PaymentMethod</th>\n",
              "      <th>MonthlyCharges</th>\n",
              "      <th>TotalCharges</th>\n",
              "      <th>Churn</th>\n",
              "      <th>tenure_group</th>\n",
              "      <th>num_add_services</th>\n",
              "      <th>monthly_charge_ratio</th>\n",
              "    </tr>\n",
              "  </thead>\n",
              "  <tbody>\n",
              "    <tr>\n",
              "      <th>0</th>\n",
              "      <td>Female</td>\n",
              "      <td>0</td>\n",
              "      <td>Yes</td>\n",
              "      <td>No</td>\n",
              "      <td>1</td>\n",
              "      <td>No</td>\n",
              "      <td>No</td>\n",
              "      <td>DSL</td>\n",
              "      <td>Month-to-month</td>\n",
              "      <td>Yes</td>\n",
              "      <td>Electronic check</td>\n",
              "      <td>29.85</td>\n",
              "      <td>29.85</td>\n",
              "      <td>0</td>\n",
              "      <td>0-1 Year</td>\n",
              "      <td>1</td>\n",
              "      <td>14.925000</td>\n",
              "    </tr>\n",
              "    <tr>\n",
              "      <th>1</th>\n",
              "      <td>Male</td>\n",
              "      <td>0</td>\n",
              "      <td>No</td>\n",
              "      <td>No</td>\n",
              "      <td>34</td>\n",
              "      <td>Yes</td>\n",
              "      <td>No</td>\n",
              "      <td>DSL</td>\n",
              "      <td>One year</td>\n",
              "      <td>No</td>\n",
              "      <td>Mailed check</td>\n",
              "      <td>56.95</td>\n",
              "      <td>1889.50</td>\n",
              "      <td>0</td>\n",
              "      <td>2-4 Years</td>\n",
              "      <td>2</td>\n",
              "      <td>1.627143</td>\n",
              "    </tr>\n",
              "    <tr>\n",
              "      <th>2</th>\n",
              "      <td>Male</td>\n",
              "      <td>0</td>\n",
              "      <td>No</td>\n",
              "      <td>No</td>\n",
              "      <td>2</td>\n",
              "      <td>Yes</td>\n",
              "      <td>No</td>\n",
              "      <td>DSL</td>\n",
              "      <td>Month-to-month</td>\n",
              "      <td>Yes</td>\n",
              "      <td>Mailed check</td>\n",
              "      <td>53.85</td>\n",
              "      <td>108.15</td>\n",
              "      <td>1</td>\n",
              "      <td>0-1 Year</td>\n",
              "      <td>2</td>\n",
              "      <td>17.950000</td>\n",
              "    </tr>\n",
              "    <tr>\n",
              "      <th>3</th>\n",
              "      <td>Male</td>\n",
              "      <td>0</td>\n",
              "      <td>No</td>\n",
              "      <td>No</td>\n",
              "      <td>45</td>\n",
              "      <td>No</td>\n",
              "      <td>No</td>\n",
              "      <td>DSL</td>\n",
              "      <td>One year</td>\n",
              "      <td>No</td>\n",
              "      <td>Bank transfer (automatic)</td>\n",
              "      <td>42.30</td>\n",
              "      <td>1840.75</td>\n",
              "      <td>0</td>\n",
              "      <td>2-4 Years</td>\n",
              "      <td>3</td>\n",
              "      <td>0.919565</td>\n",
              "    </tr>\n",
              "    <tr>\n",
              "      <th>4</th>\n",
              "      <td>Female</td>\n",
              "      <td>0</td>\n",
              "      <td>No</td>\n",
              "      <td>No</td>\n",
              "      <td>2</td>\n",
              "      <td>Yes</td>\n",
              "      <td>No</td>\n",
              "      <td>Fiber optic</td>\n",
              "      <td>Month-to-month</td>\n",
              "      <td>Yes</td>\n",
              "      <td>Electronic check</td>\n",
              "      <td>70.70</td>\n",
              "      <td>151.65</td>\n",
              "      <td>1</td>\n",
              "      <td>0-1 Year</td>\n",
              "      <td>0</td>\n",
              "      <td>23.566667</td>\n",
              "    </tr>\n",
              "  </tbody>\n",
              "</table>\n",
              "</div>"
            ],
            "text/plain": [
              "   gender  SeniorCitizen Partner Dependents  tenure PhoneService  \\\n",
              "0  Female              0     Yes         No       1           No   \n",
              "1    Male              0      No         No      34          Yes   \n",
              "2    Male              0      No         No       2          Yes   \n",
              "3    Male              0      No         No      45           No   \n",
              "4  Female              0      No         No       2          Yes   \n",
              "\n",
              "  MultipleLines InternetService        Contract PaperlessBilling  \\\n",
              "0            No             DSL  Month-to-month              Yes   \n",
              "1            No             DSL        One year               No   \n",
              "2            No             DSL  Month-to-month              Yes   \n",
              "3            No             DSL        One year               No   \n",
              "4            No     Fiber optic  Month-to-month              Yes   \n",
              "\n",
              "               PaymentMethod  MonthlyCharges  TotalCharges  Churn  \\\n",
              "0           Electronic check           29.85         29.85      0   \n",
              "1               Mailed check           56.95       1889.50      0   \n",
              "2               Mailed check           53.85        108.15      1   \n",
              "3  Bank transfer (automatic)           42.30       1840.75      0   \n",
              "4           Electronic check           70.70        151.65      1   \n",
              "\n",
              "  tenure_group  num_add_services  monthly_charge_ratio  \n",
              "0     0-1 Year                 1             14.925000  \n",
              "1    2-4 Years                 2              1.627143  \n",
              "2     0-1 Year                 2             17.950000  \n",
              "3    2-4 Years                 3              0.919565  \n",
              "4     0-1 Year                 0             23.566667  "
            ]
          },
          "execution_count": 13,
          "metadata": {},
          "output_type": "execute_result"
        }
      ],
      "source": [
        "df_eng.head()"
      ]
    },
    {
      "cell_type": "code",
      "execution_count": 14,
      "metadata": {},
      "outputs": [
        {
          "data": {
            "text/html": [
              "<div>\n",
              "<style scoped>\n",
              "    .dataframe tbody tr th:only-of-type {\n",
              "        vertical-align: middle;\n",
              "    }\n",
              "\n",
              "    .dataframe tbody tr th {\n",
              "        vertical-align: top;\n",
              "    }\n",
              "\n",
              "    .dataframe thead th {\n",
              "        text-align: right;\n",
              "    }\n",
              "</style>\n",
              "<table border=\"1\" class=\"dataframe\">\n",
              "  <thead>\n",
              "    <tr style=\"text-align: right;\">\n",
              "      <th></th>\n",
              "      <th>tenure</th>\n",
              "      <th>MonthlyCharges</th>\n",
              "      <th>TotalCharges</th>\n",
              "    </tr>\n",
              "  </thead>\n",
              "  <tbody>\n",
              "    <tr>\n",
              "      <th>count</th>\n",
              "      <td>7043.000000</td>\n",
              "      <td>7043.000000</td>\n",
              "      <td>7043.000000</td>\n",
              "    </tr>\n",
              "    <tr>\n",
              "      <th>mean</th>\n",
              "      <td>32.371149</td>\n",
              "      <td>64.761692</td>\n",
              "      <td>2281.916928</td>\n",
              "    </tr>\n",
              "    <tr>\n",
              "      <th>std</th>\n",
              "      <td>24.559481</td>\n",
              "      <td>30.090047</td>\n",
              "      <td>2265.270398</td>\n",
              "    </tr>\n",
              "    <tr>\n",
              "      <th>min</th>\n",
              "      <td>0.000000</td>\n",
              "      <td>18.250000</td>\n",
              "      <td>18.800000</td>\n",
              "    </tr>\n",
              "    <tr>\n",
              "      <th>25%</th>\n",
              "      <td>9.000000</td>\n",
              "      <td>35.500000</td>\n",
              "      <td>402.225000</td>\n",
              "    </tr>\n",
              "    <tr>\n",
              "      <th>50%</th>\n",
              "      <td>29.000000</td>\n",
              "      <td>70.350000</td>\n",
              "      <td>1397.475000</td>\n",
              "    </tr>\n",
              "    <tr>\n",
              "      <th>75%</th>\n",
              "      <td>55.000000</td>\n",
              "      <td>89.850000</td>\n",
              "      <td>3786.600000</td>\n",
              "    </tr>\n",
              "    <tr>\n",
              "      <th>max</th>\n",
              "      <td>72.000000</td>\n",
              "      <td>118.750000</td>\n",
              "      <td>8684.800000</td>\n",
              "    </tr>\n",
              "  </tbody>\n",
              "</table>\n",
              "</div>"
            ],
            "text/plain": [
              "            tenure  MonthlyCharges  TotalCharges\n",
              "count  7043.000000     7043.000000   7043.000000\n",
              "mean     32.371149       64.761692   2281.916928\n",
              "std      24.559481       30.090047   2265.270398\n",
              "min       0.000000       18.250000     18.800000\n",
              "25%       9.000000       35.500000    402.225000\n",
              "50%      29.000000       70.350000   1397.475000\n",
              "75%      55.000000       89.850000   3786.600000\n",
              "max      72.000000      118.750000   8684.800000"
            ]
          },
          "execution_count": 14,
          "metadata": {},
          "output_type": "execute_result"
        }
      ],
      "source": [
        "df_eng[['tenure', 'MonthlyCharges', 'TotalCharges']].describe()"
      ]
    },
    {
      "cell_type": "code",
      "execution_count": 15,
      "metadata": {},
      "outputs": [
        {
          "data": {
            "text/plain": [
              "<Axes: >"
            ]
          },
          "execution_count": 15,
          "metadata": {},
          "output_type": "execute_result"
        },
        {
          "data": {
            "image/png": "[encoded data removed]",
            "text/plain": [
              "<Figure size 640x480 with 1 Axes>"
            ]
          },
          "metadata": {},
          "output_type": "display_data"
        }
      ],
      "source": [
        "df.tenure.hist()"
      ]
    },
    {
      "cell_type": "code",
      "execution_count": 16,
      "metadata": {},
      "outputs": [
        {
          "data": {
            "text/plain": [
              "<Axes: >"
            ]
          },
          "execution_count": 16,
          "metadata": {},
          "output_type": "execute_result"
        },
        {
          "data": {
            "image/png": "[encoded data removed]",
            "text/plain": [
              "<Figure size 640x480 with 1 Axes>"
            ]
          },
          "metadata": {},
          "output_type": "display_data"
        }
      ],
      "source": [
        "df.MonthlyCharges.hist()"
      ]
    },
    {
      "cell_type": "markdown",
      "metadata": {},
      "source": [
        "Creating a new feature by interaction of `tenure * MonthlyCharges`"
      ]
    },
    {
      "cell_type": "code",
      "execution_count": 17,
      "metadata": {},
      "outputs": [
        {
          "data": {
            "text/plain": [
              "<Axes: >"
            ]
          },
          "execution_count": 17,
          "metadata": {},
          "output_type": "execute_result"
        },
        {
          "data": {
            "image/png": "[encoded data removed]",
            "text/plain": [
              "<Figure size 640x480 with 1 Axes>"
            ]
          },
          "metadata": {},
          "output_type": "display_data"
        }
      ],
      "source": [
        "df_eng['tenure * MonthlyCharges'] = (df_eng['tenure'] + 1 * df_eng['MonthlyCharges'])\n",
        "df_eng['tenure * MonthlyCharges'].hist()"
      ]
    },
    {
      "cell_type": "code",
      "execution_count": 18,
      "metadata": {},
      "outputs": [
        {
          "data": {
            "image/png": "[encoded data removed]",
            "text/plain": [
              "<Figure size 640x480 with 1 Axes>"
            ]
          },
          "metadata": {},
          "output_type": "display_data"
        },
        {
          "data": {
            "image/png": "[encoded data removed]",
            "text/plain": [
              "<Figure size 640x480 with 1 Axes>"
            ]
          },
          "metadata": {},
          "output_type": "display_data"
        },
        {
          "data": {
            "image/png": "[encoded data removed]",
            "text/plain": [
              "<Figure size 640x480 with 1 Axes>"
            ]
          },
          "metadata": {},
          "output_type": "display_data"
        },
        {
          "data": {
            "image/png": "[encoded data removed]",
            "text/plain": [
              "<Figure size 640x480 with 1 Axes>"
            ]
          },
          "metadata": {},
          "output_type": "display_data"
        }
      ],
      "source": [
        "df_eng[\"SeniorCitizen\"].value_counts().plot(kind='barh')\n",
        "plt.show()\n",
        "df_eng[\"gender\"].value_counts().plot(kind='barh')\n",
        "plt.show()\n",
        "df_eng[\"Partner\"].value_counts().plot(kind='barh')\n",
        "plt.show()\n",
        "df_eng[\"Dependents\"].value_counts().plot(kind='barh')\n",
        "plt.show()"
      ]
    },
    {
      "cell_type": "markdown",
      "metadata": {},
      "source": [
        "We can cluster all family related features together -> to create a new feature"
      ]
    },
    {
      "cell_type": "code",
      "execution_count": 19,
      "metadata": {},
      "outputs": [
        {
          "name": "stderr",
          "output_type": "stream",
          "text": [
            "Running KMeans: 100%|██████████| 8/8 [00:03<00:00,  2.48k/s]\n"
          ]
        }
      ],
      "source": [
        "from sklearn.preprocessing import MinMaxScaler\n",
        "from sklearn.cluster import KMeans\n",
        "from sklearn.decomposition import PCA\n",
        "from sklearn.metrics import silhouette_score\n",
        "from tqdm import tqdm\n",
        "\n",
        "family_features = [\"gender\", \"SeniorCitizen\", \"Partner\", \"Dependents\"]\n",
        "_min_max_scaler = MinMaxScaler()\n",
        "family_df = df_eng[family_features].copy()\n",
        "family_df[\"gender\"] = family_df[\"gender\"].apply(lambda x: 0 if x == \"Female\" else 1)\n",
        "family_df[\"Dependents\"] = family_df[\"Dependents\"].apply(\n",
        "    lambda x: 0 if x == \"Yes\" else 1\n",
        ")\n",
        "family_df[\"Partner\"] = family_df[\"Partner\"].apply(lambda x: 0 if x == \"Yes\" else 1)\n",
        "_pca = PCA(n_components=3, random_state=42)\n",
        "family_df_scaled = pd.DataFrame(\n",
        "    _pca.fit_transform(_min_max_scaler.fit_transform(family_df)),\n",
        "    columns=[\"PC1\", \"PC2\", \"PC3\"],\n",
        ")\n",
        "\n",
        "results = []\n",
        "inertias = []\n",
        "\n",
        "\n",
        "def run_kmeans(X, k):\n",
        "    kmeans = KMeans(n_clusters=k, init=\"k-means++\", random_state=42)\n",
        "    score = silhouette_score(X, kmeans.fit_predict(X))\n",
        "    return score, kmeans.inertia_\n",
        "\n",
        "\n",
        "for i in tqdm(range(2, 10), desc=\"Running KMeans\", unit=\"k\"):\n",
        "    score, inertia = run_kmeans(X=family_df_scaled, k=i)\n",
        "    results.append(score)\n",
        "    inertias.append(inertia)"
      ]
    },
    {
      "cell_type": "code",
      "execution_count": 20,
      "metadata": {},
      "outputs": [
        {
          "data": {
            "image/png": "[encoded data removed]",
            "text/plain": [
              "<Figure size 2000x600 with 2 Axes>"
            ]
          },
          "metadata": {},
          "output_type": "display_data"
        }
      ],
      "source": [
        "plt.figure(figsize=(20, 6))\n",
        "plt.subplot(1, 2, 1)\n",
        "sns.lineplot(x=np.arange(2, 10), y=results, marker=\"X\", label='silhouette_score')\n",
        "plt.xlabel('K')\n",
        "plt.subplot(1, 2, 2)\n",
        "sns.lineplot(x=np.arange(2, 10), y=inertias, marker=\"o\", label='inertia')\n",
        "plt.xlabel('K')\n",
        "plt.show()"
      ]
    },
    {
      "cell_type": "markdown",
      "metadata": {},
      "source": [
        "Based on the elbow plot, **k=4** appears to be the optimal number of clusters, as this is where the inertia curve shows the most pronounced \"elbow\" - the point where adding more clusters provides diminishing returns."
      ]
    },
    {
      "cell_type": "code",
      "execution_count": 21,
      "metadata": {},
      "outputs": [
        {
          "data": {
            "application/vnd.plotly.v1+json": {
              "config": {
                "plotlyServerURL": "https://plot.ly"
              },
              "data": [
                {
                  "hovertemplate": "Cluster=0<br>PC1=%{x}<br>PC2=%{y}<br>PC3=%{z}<extra></extra>",
                  "legendgroup": "0",
                  "marker": {
                    "color": "#636efa",
                    "symbol": "circle"
                  },
                  "mode": "markers",
                  "name": "0",
                  "scene": "scene",
                  "showlegend": true,
                  "type": "scatter3d",
                  "x": {
                    "bdata": "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",
                    "dtype": "f8"
                  },
                  "y": {
                    "bdata": "q6vlb2yM4L+rq+VvbIzgv5+VAyELaOC/n5UDIQto4L+rq+VvbIzgv6CJyoI1U9+/NDSAOKC14L+flQMhC2jgv5+VAyELaOC/n5UDIQto4L+flQMhC2jgv6ur5W9sjOC/n5UDIQto4L80NIA4oLXgvzQ0gDigteC/Jx6e6T6R4L+flQMhC2jgv5+VAyELaOC/q6vlb2yM4L+flQMhC2jgv5+VAyELaOC/n5UDIQto4L+gicqCNVPfv5+VAyELaOC/n5UDIQto4L+gicqCNVPfv5+VAyELaOC/q6vlb2yM4L+rq+VvbIzgv6ur5W9sjOC/n5UDIQto4L+flQMhC2jgvzQ0gDigteC/n5UDIQto4L80NIA4oLXgv5+VAyELaOC/NDSAOKC14L+flQMhC2jgv5+VAyELaOC/n5UDIQto4L+flQMhC2jgv5+VAyELaOC/n5UDIQto4L+flQMhC2jgvzQ0gDigteC/Jx6e6T6R4L+rq+VvbIzgv5+VAyELaOC/n5UDIQto4L+flQMhC2jgv5+VAyELaOC/n5UDIQto4L+gicqCNVPfv6ur5W9sjOC/n5UDIQto4L+flQMhC2jgv6ur5W9sjOC/q6vlb2yM4L+rq+VvbIzgv5+VAyELaOC/q6vlb2yM4L+rq+VvbIzgv5+VAyELaOC/n5UDIQto4L+rq+VvbIzgv6ur5W9sjOC/n5UDIQto4L+rq+VvbIzgv6ur5W9sjOC/n5UDIQto4L+rq+VvbIzgv5+VAyELaOC/n5UDIQto4L80NIA4oLXgv6ur5W9sjOC/n5UDIQto4L+flQMhC2jgv5+VAyELaOC/q6vlb2yM4L80NIA4oLXgv6ur5W9sjOC/n5UDIQto4L+rq+VvbIzgv6ur5W9sjOC/oInKgjVT37+flQMhC2jgv6CJyoI1U9+/n5UDIQto4L80NIA4oLXgv5+VAyELaOC/n5UDIQto4L+flQMhC2jgv6ur5W9sjOC/NDSAOKC14L8nHp7pPpHgv5+VAyELaOC/q6vlb2yM4L+flQMhC2jgv6CJyoI1U9+/q6vlb2yM4L80NIA4oLXgv5+VAyELaOC/q6vlb2yM4L+rq+VvbIzgvzQ0gDigteC/NDSAOKC14L+flQMhC2jgv6ur5W9sjOC/q6vlb2yM4L+rq+VvbIzgvzQ0gDigteC/n5UDIQto4L+flQMhC2jgv5+VAyELaOC/n5UDIQto4L80NIA4oLXgv5+VAyELaOC/q6vlb2yM4L+flQMhC2jgv5+VAyELaOC/n5UDIQto4L+rq+VvbIzgv6CJyoI1U9+/q6vlb2yM4L+flQMhC2jgv5+VAyELaOC/q6vlb2yM4L+flQMhC2jgv6ur5W9sjOC/oInKgjVT37+flQMhC2jgv5+VAyELaOC/n5UDIQto4L+gicqCNVPfv6ur5W9sjOC/q6vlb2yM4L+flQMhC2jgv5+VAyELaOC/q6vlb2yM4L+rq+VvbIzgvzQ0gDigteC/n5UDIQto4L+flQMhC2jgv5+VAyELaOC/NDSAOKC14L80NIA4oLXgvzQ0gDigteC/n5UDIQto4L+rq+VvbIzgv5+VAyELaOC/q6vlb2yM4L+flQMhC2jgv5+VAyELaOC/n5UDIQto4L+flQMhC2jgv5+VAyELaOC/n5UDIQto4L80NIA4oLXgv5+VAyELaOC/n5UDIQto4L+flQMhC2jgvzQ0gDigteC/n5UDIQto4L+rq+VvbIzgvzQ0gDigteC/q6vlb2yM4L+flQMhC2jgv6ur5W9sjOC/n5UDIQto4L+flQMhC2jgv5+VAyELaOC/q6vlb2yM4L+flQMhC2jgv5+VAyELaOC/q6vlb2yM4L+rq+VvbIzgv6CJyoI1U9+/q6vlb2yM4L+flQMhC2jgv5+VAyELaOC/n5UDIQto4L+rq+VvbIzgvzQ0gDigteC/n5UDIQto4L80NIA4oLXgv6ur5W9sjOC/oInKgjVT37+flQMhC2jgv5+VAyELaOC/q6vlb2yM4L+rq+VvbIzgv5+VAyELaOC/q6vlb2yM4L+flQMhC2jgv6ur5W9sjOC/n5UDIQto4L+flQMhC2jgv5+VAyELaOC/oInKgjVT37+flQMhC2jgv5+VAyELaOC/NDSAOKC14L+rq+VvbIzgv5+VAyELaOC/q6vlb2yM4L+flQMhC2jgv6ur5W9sjOC/n5UDIQto4L+flQMhC2jgv6ur5W9sjOC/n5UDIQto4L+flQMhC2jgv6ur5W9sjOC/n5UDIQto4L+flQMhC2jgv5+VAyELaOC/n5UDIQto4L+flQMhC2jgv6CJyoI1U9+/q6vlb2yM4L+rq+VvbIzgv6CJyoI1U9+/q6vlb2yM4L+flQMhC2jgv5+VAyELaOC/q6vlb2yM4L+rq+VvbIzgv6CJyoI1U9+/q6vlb2yM4L+flQMhC2jgv5+VAyELaOC/n5UDIQto4L80NIA4oLXgv5+VAyELaOC/q6vlb2yM4L+gicqCNVPfv6CJyoI1U9+/q6vlb2yM4L+flQMhC2jgvycenuk+keC/n5UDIQto4L+flQMhC2jgv5+VAyELaOC/n5UDIQto4L+flQMhC2jgvzQ0gDigteC/q6vlb2yM4L+flQMhC2jgv5+VAyELaOC/NDSAOKC14L+flQMhC2jgv5+VAyELaOC/NDSAOKC14L80NIA4oLXgvycenuk+keC/n5UDIQto4L+rq+VvbIzgv6ur5W9sjOC/oInKgjVT37+flQMhC2jgv5+VAyELaOC/n5UDIQto4L80NIA4oLXgv6ur5W9sjOC/n5UDIQto4L+flQMhC2jgv5+VAyELaOC/n5UDIQto4L+flQMhC2jgv6ur5W9sjOC/n5UDIQto4L+rq+VvbIzgv6ur5W9sjOC/q6vlb2yM4L+flQMhC2jgv5+VAyELaOC/q6vlb2yM4L80NIA4oLXgv5+VAyELaOC/NDSAOKC14L+flQMhC2jgv6CJyoI1U9+/q6vlb2yM4L+rq+VvbIzgv5+VAyELaOC/NDSAOKC14L+rq+VvbIzgvzQ0gDigteC/NDSAOKC14L80NIA4oLXgvycenuk+keC/q6vlb2yM4L+rq+VvbIzgvzQ0gDigteC/q6vlb2yM4L+gicqCNVPfv5+VAyELaOC/n5UDIQto4L+flQMhC2jgv5+VAyELaOC/q6vlb2yM4L+rq+VvbIzgv6ur5W9sjOC/n5UDIQto4L+flQMhC2jgv6ur5W9sjOC/n5UDIQto4L+flQMhC2jgv6ur5W9sjOC/NDSAOKC14L+flQMhC2jgv6ur5W9sjOC/q6vlb2yM4L80NIA4oLXgv5+VAyELaOC/q6vlb2yM4L80NIA4oLXgv5+VAyELaOC/NDSAOKC14L+rq+VvbIzgv5+VAyELaOC/n5UDIQto4L+flQMhC2jgv6ur5W9sjOC/n5UDIQto4L+flQMhC2jgv5+VAyELaOC/q6vlb2yM4L+flQMhC2jgv5+VAyELaOC/q6vlb2yM4L+rq+VvbIzgv5+VAyELaOC/n5UDIQto4L+rq+VvbIzgv6ur5W9sjOC/q6vlb2yM4L+flQMhC2jgv6ur5W9sjOC/q6vlb2yM4L+flQMhC2jgv6ur5W9sjOC/q6vlb2yM4L+rq+VvbIzgv5+VAyELaOC/n5UDIQto4L+flQMhC2jgv5+VAyELaOC/q6vlb2yM4L+flQMhC2jgvzQ0gDigteC/n5UDIQto4L+flQMhC2jgv5+VAyELaOC/oInKgjVT37+rq+VvbIzgv5+VAyELaOC/q6vlb2yM4L+flQMhC2jgv6ur5W9sjOC/n5UDIQto4L+gicqCNVPfv6ur5W9sjOC/NDSAOKC14L80NIA4oLXgv5+VAyELaOC/q6vlb2yM4L+rq+VvbIzgvzQ0gDigteC/n5UDIQto4L80NIA4oLXgv5+VAyELaOC/NDSAOKC14L+flQMhC2jgv5+VAyELaOC/n5UDIQto4L8nHp7pPpHgv5+VAyELaOC/n5UDIQto4L+gicqCNVPfv6ur5W9sjOC/q6vlb2yM4L+flQMhC2jgv6ur5W9sjOC/n5UDIQto4L+flQMhC2jgv5+VAyELaOC/n5UDIQto4L+rq+VvbIzgv6ur5W9sjOC/n5UDIQto4L+flQMhC2jgv6ur5W9sjOC/n5UDIQto4L+rq+VvbIzgv5+VAyELaOC/n5UDIQto4L+gicqCNVPfvzQ0gDigteC/n5UDIQto4L80NIA4oLXgv5+VAyELaOC/n5UDIQto4L+flQMhC2jgv5+VAyELaOC/n5UDIQto4L+gicqCNVPfv6ur5W9sjOC/n5UDIQto4L+rq+VvbIzgv6ur5W9sjOC/n5UDIQto4L+rq+VvbIzgv6ur5W9sjOC/q6vlb2yM4L80NIA4oLXgvzQ0gDigteC/n5UDIQto4L+flQMhC2jgv6ur5W9sjOC/n5UDIQto4L+flQMhC2jgvzQ0gDigteC/q6vlb2yM4L+flQMhC2jgvzQ0gDigteC/q6vlb2yM4L+gicqCNVPfv5+VAyELaOC/n5UDIQto4L+flQMhC2jgv6ur5W9sjOC/NDSAOKC14L+rq+VvbIzgv5+VAyELaOC/n5UDIQto4L+rq+VvbIzgv6ur5W9sjOC/q6vlb2yM4L+rq+VvbIzgv5+VAyELaOC/n5UDIQto4L+rq+VvbIzgvzQ0gDigteC/q6vlb2yM4L+flQMhC2jgv6ur5W9sjOC/n5UDIQto4L+gicqCNVPfvzQ0gDigteC/q6vlb2yM4L+rq+VvbIzgv5+VAyELaOC/q6vlb2yM4L+rq+VvbIzgv5+VAyELaOC/n5UDIQto4L+rq+VvbIzgv5+VAyELaOC/q6vlb2yM4L+gicqCNVPfv5+VAyELaOC/NDSAOKC14L+rq+VvbIzgv6ur5W9sjOC/n5UDIQto4L+flQMhC2jgvzQ0gDigteC/q6vlb2yM4L+rq+VvbIzgv6ur5W9sjOC/NDSAOKC14L+flQMhC2jgv5+VAyELaOC/n5UDIQto4L+flQMhC2jgv6ur5W9sjOC/NDSAOKC14L+flQMhC2jgv6ur5W9sjOC/n5UDIQto4L+flQMhC2jgvzQ0gDigteC/Jx6e6T6R4L+flQMhC2jgv5+VAyELaOC/q6vlb2yM4L+rq+VvbIzgv5+VAyELaOC/n5UDIQto4L+flQMhC2jgv5+VAyELaOC/q6vlb2yM4L+flQMhC2jgv5+VAyELaOC/q6vlb2yM4L+flQMhC2jgv5+VAyELaOC/q6vlb2yM4L+flQMhC2jgv5+VAyELaOC/n5UDIQto4L+flQMhC2jgv5+VAyELaOC/n5UDIQto4L+flQMhC2jgv6ur5W9sjOC/n5UDIQto4L+gicqCNVPfv6ur5W9sjOC/oInKgjVT37+flQMhC2jgvzQ0gDigteC/n5UDIQto4L+rq+VvbIzgv5+VAyELaOC/q6vlb2yM4L+gicqCNVPfv5+VAyELaOC/oInKgjVT37+rq+VvbIzgv6ur5W9sjOC/n5UDIQto4L+rq+VvbIzgv5+VAyELaOC/n5UDIQto4L+flQMhC2jgvzQ0gDigteC/n5UDIQto4L+gicqCNVPfv6ur5W9sjOC/q6vlb2yM4L+rq+VvbIzgv5+VAyELaOC/n5UDIQto4L+flQMhC2jgv5+VAyELaOC/n5UDIQto4L+flQMhC2jgv6CJyoI1U9+/q6vlb2yM4L+gicqCNVPfv6ur5W9sjOC/n5UDIQto4L+flQMhC2jgvzQ0gDigteC/q6vlb2yM4L+flQMhC2jgv6ur5W9sjOC/n5UDIQto4L+flQMhC2jgv6ur5W9sjOC/NDSAOKC14L+rq+VvbIzgv5+VAyELaOC/q6vlb2yM4L+flQMhC2jgv5+VAyELaOC/n5UDIQto4L+flQMhC2jgvzQ0gDigteC/n5UDIQto4L+flQMhC2jgvycenuk+keC/n5UDIQto4L80NIA4oLXgv6ur5W9sjOC/n5UDIQto4L+flQMhC2jgv6CJyoI1U9+/oInKgjVT37+rq+VvbIzgv6ur5W9sjOC/NDSAOKC14L+flQMhC2jgv6ur5W9sjOC/n5UDIQto4L+rq+VvbIzgv5+VAyELaOC/q6vlb2yM4L+flQMhC2jgvycenuk+keC/n5UDIQto4L+flQMhC2jgv5+VAyELaOC/oInKgjVT3780NIA4oLXgv5+VAyELaOC/q6vlb2yM4L80NIA4oLXgvzQ0gDigteC/q6vlb2yM4L+rq+VvbIzgv5+VAyELaOC/n5UDIQto4L+rq+VvbIzgv6ur5W9sjOC/oInKgjVT37+flQMhC2jgv6ur5W9sjOC/q6vlb2yM4L+gicqCNVPfv6ur5W9sjOC/n5UDIQto4L80NIA4oLXgv6ur5W9sjOC/oInKgjVT37+flQMhC2jgv5+VAyELaOC/n5UDIQto4L80NIA4oLXgvzQ0gDigteC/n5UDIQto4L+rq+VvbIzgv6CJyoI1U9+/q6vlb2yM4L+flQMhC2jgv5+VAyELaOC/q6vlb2yM4L+flQMhC2jgv6ur5W9sjOC/q6vlb2yM4L+rq+VvbIzgvycenuk+keC/q6vlb2yM4L80NIA4oLXgv5+VAyELaOC/oInKgjVT37+flQMhC2jgv5+VAyELaOC/n5UDIQto4L+flQMhC2jgv6ur5W9sjOC/q6vlb2yM4L+flQMhC2jgv6ur5W9sjOC/n5UDIQto4L+flQMhC2jgv6ur5W9sjOC/q6vlb2yM4L+rq+VvbIzgv6ur5W9sjOC/n5UDIQto4L80NIA4oLXgv6ur5W9sjOC/q6vlb2yM4L+flQMhC2jgv5+VAyELaOC/q6vlb2yM4L80NIA4oLXgv5+VAyELaOC/n5UDIQto4L+rq+VvbIzgv5+VAyELaOC/n5UDIQto4L+rq+VvbIzgv5+VAyELaOC/n5UDIQto4L+flQMhC2jgv6ur5W9sjOC/n5UDIQto4L+rq+VvbIzgv5+VAyELaOC/Jx6e6T6R4L+xmv8TnaXfv6CJyoI1U9+/q6vlb2yM4L+flQMhC2jgvzQ0gDigteC/n5UDIQto4L+flQMhC2jgv6ur5W9sjOC/q6vlb2yM4L+flQMhC2jgv5+VAyELaOC/n5UDIQto4L+gicqCNVPfv5+VAyELaOC/n5UDIQto4L+gicqCNVPfv6ur5W9sjOC/q6vlb2yM4L80NIA4oLXgv5+VAyELaOC/q6vlb2yM4L+rq+VvbIzgv5+VAyELaOC/oInKgjVT37+flQMhC2jgv6ur5W9sjOC/n5UDIQto4L+rq+VvbIzgvzQ0gDigteC/q6vlb2yM4L+flQMhC2jgv5+VAyELaOC/q6vlb2yM4L+rq+VvbIzgv5+VAyELaOC/q6vlb2yM4L+flQMhC2jgvycenuk+keC/oInKgjVT37+rq+VvbIzgvzQ0gDigteC/n5UDIQto4L+rq+VvbIzgv6ur5W9sjOC/n5UDIQto4L+flQMhC2jgv5+VAyELaOC/q6vlb2yM4L+gicqCNVPfv5+VAyELaOC/n5UDIQto4L+rq+VvbIzgv6CJyoI1U9+/q6vlb2yM4L+flQMhC2jgv5+VAyELaOC/q6vlb2yM4L8nHp7pPpHgv5+VAyELaOC/n5UDIQto4L+rq+VvbIzgv6ur5W9sjOC/n5UDIQto4L+rq+VvbIzgvzQ0gDigteC/n5UDIQto4L+flQMhC2jgv5+VAyELaOC/NDSAOKC14L+rq+VvbIzgv6ur5W9sjOC/n5UDIQto4L+flQMhC2jgv6ur5W9sjOC/n5UDIQto4L+flQMhC2jgv6ur5W9sjOC/n5UDIQto4L+rq+VvbIzgvycenuk+keC/sZr/E52l378nHp7pPpHgv6ur5W9sjOC/Jx6e6T6R4L+flQMhC2jgv6ur5W9sjOC/n5UDIQto4L+flQMhC2jgv5+VAyELaOC/q6vlb2yM4L+rq+VvbIzgv5+VAyELaOC/q6vlb2yM4L+xmv8TnaXfv5+VAyELaOC/n5UDIQto4L+flQMhC2jgv5+VAyELaOC/n5UDIQto4L+flQMhC2jgv5+VAyELaOC/n5UDIQto4L+flQMhC2jgv5+VAyELaOC/q6vlb2yM4L+flQMhC2jgv5+VAyELaOC/NDSAOKC14L+flQMhC2jgv5+VAyELaOC/n5UDIQto4L+rq+VvbIzgvzQ0gDigteC/q6vlb2yM4L80NIA4oLXgvzQ0gDigteC/q6vlb2yM4L+rq+VvbIzgv6ur5W9sjOC/n5UDIQto4L+gicqCNVPfv6CJyoI1U9+/n5UDIQto4L+flQMhC2jgv5+VAyELaOC/q6vlb2yM4L+rq+VvbIzgv6ur5W9sjOC/q6vlb2yM4L+gicqCNVPfvycenuk+keC/NDSAOKC14L+rq+VvbIzgv5+VAyELaOC/NDSAOKC14L+flQMhC2jgv5+VAyELaOC/n5UDIQto4L+rq+VvbIzgv5+VAyELaOC/q6vlb2yM4L+rq+VvbIzgv6ur5W9sjOC/q6vlb2yM4L+rq+VvbIzgv6ur5W9sjOC/n5UDIQto4L+flQMhC2jgv5+VAyELaOC/NDSAOKC14L+flQMhC2jgv6ur5W9sjOC/n5UDIQto4L+flQMhC2jgv5+VAyELaOC/n5UDIQto4L+flQMhC2jgv5+VAyELaOC/n5UDIQto4L+rq+VvbIzgv5+VAyELaOC/n5UDIQto4L+flQMhC2jgvycenuk+keC/n5UDIQto4L+flQMhC2jgv5+VAyELaOC/oInKgjVT37+flQMhC2jgv6ur5W9sjOC/n5UDIQto4L+flQMhC2jgv5+VAyELaOC/oInKgjVT37+flQMhC2jgv5+VAyELaOC/n5UDIQto4L+rq+VvbIzgv5+VAyELaOC/n5UDIQto4L+flQMhC2jgv6ur5W9sjOC/q6vlb2yM4L+rq+VvbIzgv6CJyoI1U9+/q6vlb2yM4L+flQMhC2jgv5+VAyELaOC/q6vlb2yM4L+rq+VvbIzgv6ur5W9sjOC/n5UDIQto4L+gicqCNVPfv6ur5W9sjOC/n5UDIQto4L+flQMhC2jgv5+VAyELaOC/n5UDIQto4L+flQMhC2jgv6ur5W9sjOC/q6vlb2yM4L+flQMhC2jgv5+VAyELaOC/q6vlb2yM4L+flQMhC2jgv6CJyoI1U9+/n5UDIQto4L80NIA4oLXgvzQ0gDigteC/n5UDIQto4L+flQMhC2jgv5+VAyELaOC/q6vlb2yM4L+flQMhC2jgv6ur5W9sjOC/n5UDIQto4L+rq+VvbIzgv5+VAyELaOC/n5UDIQto4L+rq+VvbIzgv5+VAyELaOC/q6vlb2yM4L8nHp7pPpHgv5+VAyELaOC/q6vlb2yM4L+flQMhC2jgv6ur5W9sjOC/n5UDIQto4L80NIA4oLXgv5+VAyELaOC/q6vlb2yM4L+flQMhC2jgvzQ0gDigteC/q6vlb2yM4L+flQMhC2jgv6ur5W9sjOC/n5UDIQto4L+rq+VvbIzgvzQ0gDigteC/oInKgjVT37+flQMhC2jgv6ur5W9sjOC/oInKgjVT37+gicqCNVPfv6CJyoI1U9+/n5UDIQto4L+flQMhC2jgv5+VAyELaOC/oInKgjVT37+rq+VvbIzgv5+VAyELaOC/n5UDIQto4L+rq+VvbIzgvzQ0gDigteC/NDSAOKC14L+flQMhC2jgv5+VAyELaOC/n5UDIQto4L8nHp7pPpHgv6ur5W9sjOC/NDSAOKC14L+rq+VvbIzgv6ur5W9sjOC/oInKgjVT3780NIA4oLXgvzQ0gDigteC/q6vlb2yM4L+flQMhC2jgvzQ0gDigteC/q6vlb2yM4L+rq+VvbIzgv5+VAyELaOC/n5UDIQto4L8nHp7pPpHgv5+VAyELaOC/q6vlb2yM4L+rq+VvbIzgv5+VAyELaOC/n5UDIQto4L+flQMhC2jgv6ur5W9sjOC/n5UDIQto4L+rq+VvbIzgv5+VAyELaOC/n5UDIQto4L+flQMhC2jgv5+VAyELaOC/q6vlb2yM4L+rq+VvbIzgv5+VAyELaOC/q6vlb2yM4L+flQMhC2jgv6CJyoI1U9+/q6vlb2yM4L+flQMhC2jgv6ur5W9sjOC/n5UDIQto4L80NIA4oLXgv6ur5W9sjOC/q6vlb2yM4L+flQMhC2jgv6ur5W9sjOC/n5UDIQto4L+gicqCNVPfv6ur5W9sjOC/oInKgjVT37+flQMhC2jgv6ur5W9sjOC/n5UDIQto4L+flQMhC2jgv6ur5W9sjOC/q6vlb2yM4L+flQMhC2jgv5+VAyELaOC/q6vlb2yM4L+flQMhC2jgv6ur5W9sjOC/n5UDIQto4L+rq+VvbIzgv5+VAyELaOC/q6vlb2yM4L+gicqCNVPfv6CJyoI1U9+/n5UDIQto4L+rq+VvbIzgv5+VAyELaOC/q6vlb2yM4L+flQMhC2jgv5+VAyELaOC/q6vlb2yM4L80NIA4oLXgv6ur5W9sjOC/q6vlb2yM4L+flQMhC2jgv5+VAyELaOC/NDSAOKC14L+flQMhC2jgv6ur5W9sjOC/NDSAOKC14L+flQMhC2jgv6ur5W9sjOC/q6vlb2yM4L+flQMhC2jgv6ur5W9sjOC/q6vlb2yM4L+flQMhC2jgv6ur5W9sjOC/oInKgjVT37+rq+VvbIzgv6CJyoI1U9+/n5UDIQto4L+flQMhC2jgv6CJyoI1U9+/q6vlb2yM4L80NIA4oLXgv5+VAyELaOC/NDSAOKC14L+rq+VvbIzgv6ur5W9sjOC/n5UDIQto4L+flQMhC2jgv6CJyoI1U9+/oInKgjVT3780NIA4oLXgv6ur5W9sjOC/n5UDIQto4L+flQMhC2jgv5+VAyELaOC/n5UDIQto4L+rq+VvbIzgv6CJyoI1U9+/q6vlb2yM4L+flQMhC2jgv5+VAyELaOC/q6vlb2yM4L+rq+VvbIzgv5+VAyELaOC/NDSAOKC14L+rq+VvbIzgv5+VAyELaOC/n5UDIQto4L+flQMhC2jgv6ur5W9sjOC/n5UDIQto4L8nHp7pPpHgv6ur5W9sjOC/n5UDIQto4L80NIA4oLXgv6ur5W9sjOC/oInKgjVT37+flQMhC2jgvzQ0gDigteC/q6vlb2yM4L+flQMhC2jgv5+VAyELaOC/NDSAOKC14L+rq+VvbIzgv5+VAyELaOC/n5UDIQto4L+flQMhC2jgv6ur5W9sjOC/q6vlb2yM4L+flQMhC2jgv5+VAyELaOC/q6vlb2yM4L+rq+VvbIzgv6ur5W9sjOC/n5UDIQto4L+gicqCNVPfv5+VAyELaOC/n5UDIQto4L+gicqCNVPfv5+VAyELaOC/n5UDIQto4L8nHp7pPpHgv6ur5W9sjOC/q6vlb2yM4L80NIA4oLXgv6ur5W9sjOC/NDSAOKC14L+flQMhC2jgv6CJyoI1U9+/q6vlb2yM4L+flQMhC2jgv5+VAyELaOC/q6vlb2yM4L+rq+VvbIzgvzQ0gDigteC/q6vlb2yM4L+rq+VvbIzgv6ur5W9sjOC/n5UDIQto4L+rq+VvbIzgv5+VAyELaOC/NDSAOKC14L+flQMhC2jgv5+VAyELaOC/n5UDIQto4L+rq+VvbIzgv6ur5W9sjOC/q6vlb2yM4L+gicqCNVPfv6ur5W9sjOC/n5UDIQto4L+flQMhC2jgv6ur5W9sjOC/q6vlb2yM4L+rq+VvbIzgv6ur5W9sjOC/q6vlb2yM4L+rq+VvbIzgv5+VAyELaOC/q6vlb2yM4L+rq+VvbIzgv6ur5W9sjOC/n5UDIQto4L+rq+VvbIzgv6ur5W9sjOC/n5UDIQto4L+rq+VvbIzgv5+VAyELaOC/Jx6e6T6R4L+flQMhC2jgv5+VAyELaOC/q6vlb2yM4L+rq+VvbIzgv6CJyoI1U9+/q6vlb2yM4L+flQMhC2jgv6CJyoI1U9+/n5UDIQto4L+flQMhC2jgv6ur5W9sjOC/oInKgjVT37+rq+VvbIzgv6ur5W9sjOC/q6vlb2yM4L80NIA4oLXgv6ur5W9sjOC/NDSAOKC14L+flQMhC2jgvzQ0gDigteC/oInKgjVT37+flQMhC2jgv5+VAyELaOC/oInKgjVT37+rq+VvbIzgv5+VAyELaOC/Jx6e6T6R4L80NIA4oLXgv6ur5W9sjOC/q6vlb2yM4L+rq+VvbIzgv6ur5W9sjOC/n5UDIQto4L80NIA4oLXgv5+VAyELaOC/oInKgjVT37+flQMhC2jgv5+VAyELaOC/n5UDIQto4L+rq+VvbIzgv6ur5W9sjOC/q6vlb2yM4L80NIA4oLXgvzQ0gDigteC/q6vlb2yM4L+rq+VvbIzgv5+VAyELaOC/q6vlb2yM4L+rq+VvbIzgv5+VAyELaOC/n5UDIQto4L+flQMhC2jgv5+VAyELaOC/n5UDIQto4L+flQMhC2jgv6ur5W9sjOC/oInKgjVT37+rq+VvbIzgv6ur5W9sjOC/n5UDIQto4L+flQMhC2jgv5+VAyELaOC/q6vlb2yM4L+flQMhC2jgv5+VAyELaOC/n5UDIQto4L+flQMhC2jgv5+VAyELaOC/n5UDIQto4L+flQMhC2jgv6ur5W9sjOC/oInKgjVT37+flQMhC2jgv6CJyoI1U9+/q6vlb2yM4L+rq+VvbIzgvzQ0gDigteC/NDSAOKC14L+flQMhC2jgvzQ0gDigteC/q6vlb2yM4L+flQMhC2jgv5+VAyELaOC/n5UDIQto4L+rq+VvbIzgv6ur5W9sjOC/n5UDIQto4L+rq+VvbIzgv5+VAyELaOC/n5UDIQto4L+flQMhC2jgv6ur5W9sjOC/NDSAOKC14L+rq+VvbIzgv5+VAyELaOC/n5UDIQto4L+flQMhC2jgv5+VAyELaOC/q6vlb2yM4L+rq+VvbIzgv6ur5W9sjOC/oInKgjVT37+rq+VvbIzgvycenuk+keC/q6vlb2yM4L80NIA4oLXgvzQ0gDigteC/q6vlb2yM4L+rq+VvbIzgv5+VAyELaOC/n5UDIQto4L+gicqCNVPfv6ur5W9sjOC/oInKgjVT37+flQMhC2jgv6ur5W9sjOC/oInKgjVT37+flQMhC2jgv6ur5W9sjOC/oInKgjVT37+flQMhC2jgvzQ0gDigteC/n5UDIQto4L+rq+VvbIzgv6ur5W9sjOC/NDSAOKC14L+flQMhC2jgv5+VAyELaOC/NDSAOKC14L+gicqCNVPfv5+VAyELaOC/n5UDIQto4L+rq+VvbIzgv5+VAyELaOC/n5UDIQto4L+flQMhC2jgv5+VAyELaOC/n5UDIQto4L8nHp7pPpHgv6CJyoI1U9+/q6vlb2yM4L+rq+VvbIzgv6ur5W9sjOC/q6vlb2yM4L+flQMhC2jgv5+VAyELaOC/Jx6e6T6R4L+rq+VvbIzgv6ur5W9sjOC/n5UDIQto4L80NIA4oLXgvzQ0gDigteC/NDSAOKC14L+flQMhC2jgv6ur5W9sjOC/oInKgjVT37+flQMhC2jgv5+VAyELaOC/n5UDIQto4L+rq+VvbIzgv6ur5W9sjOC/NDSAOKC14L+rq+VvbIzgv5+VAyELaOC/n5UDIQto4L+rq+VvbIzgvycenuk+keC/NDSAOKC14L80NIA4oLXgv5+VAyELaOC/NDSAOKC14L+flQMhC2jgvycenuk+keC/q6vlb2yM4L+flQMhC2jgv6ur5W9sjOC/oInKgjVT37+gicqCNVPfv5+VAyELaOC/n5UDIQto4L+flQMhC2jgv5+VAyELaOC/n5UDIQto4L+flQMhC2jgv6ur5W9sjOC/n5UDIQto4L+flQMhC2jgv6CJyoI1U9+/q6vlb2yM4L+flQMhC2jgv6ur5W9sjOC/NDSAOKC14L+rq+VvbIzgv5+VAyELaOC/q6vlb2yM4L+flQMhC2jgv5+VAyELaOC/q6vlb2yM4L80NIA4oLXgv6ur5W9sjOC/n5UDIQto4L80NIA4oLXgv6ur5W9sjOC/n5UDIQto4L+flQMhC2jgv5+VAyELaOC/q6vlb2yM4L+rq+VvbIzgv6ur5W9sjOC/oInKgjVT37+rq+VvbIzgvycenuk+keC/q6vlb2yM4L+gicqCNVPfv5+VAyELaOC/q6vlb2yM4L+rq+VvbIzgvzQ0gDigteC/n5UDIQto4L80NIA4oLXgv5+VAyELaOC/q6vlb2yM4L80NIA4oLXgv5+VAyELaOC/q6vlb2yM4L+rq+VvbIzgvycenuk+keC/NDSAOKC14L+rq+VvbIzgv6ur5W9sjOC/q6vlb2yM4L80NIA4oLXgv5+VAyELaOC/q6vlb2yM4L+flQMhC2jgvzQ0gDigteC/n5UDIQto4L+flQMhC2jgv5+VAyELaOC/q6vlb2yM4L+gicqCNVPfv6ur5W9sjOC/n5UDIQto4L+rq+VvbIzgv5+VAyELaOC/NDSAOKC14L+flQMhC2jgvzQ0gDigteC/NDSAOKC14L+flQMhC2jgv5+VAyELaOC/q6vlb2yM4L+rq+VvbIzgv6ur5W9sjOC/q6vlb2yM4L+flQMhC2jgvzQ0gDigteC/q6vlb2yM4L+rq+VvbIzgv5+VAyELaOC/n5UDIQto4L+rq+VvbIzgv6ur5W9sjOC/n5UDIQto4L+flQMhC2jgv6ur5W9sjOC/q6vlb2yM4L+rq+VvbIzgv6CJyoI1U9+/q6vlb2yM4L+gicqCNVPfv5+VAyELaOC/n5UDIQto4L+flQMhC2jgv6ur5W9sjOC/q6vlb2yM4L+rq+VvbIzgv6CJyoI1U9+/n5UDIQto4L+flQMhC2jgv5+VAyELaOC/q6vlb2yM4L80NIA4oLXgv5+VAyELaOC/NDSAOKC14L+rq+VvbIzgv5+VAyELaOC/n5UDIQto4L+gicqCNVPfv5+VAyELaOC/q6vlb2yM4L+gicqCNVPfv5+VAyELaOC/q6vlb2yM4L+flQMhC2jgvzQ0gDigteC/n5UDIQto4L+flQMhC2jgv5+VAyELaOC/NDSAOKC14L+flQMhC2jgv6ur5W9sjOC/oInKgjVT37+flQMhC2jgvzQ0gDigteC/NDSAOKC14L+flQMhC2jgv6CJyoI1U9+/n5UDIQto4L+flQMhC2jgv6ur5W9sjOC/n5UDIQto4L80NIA4oLXgv5+VAyELaOC/n5UDIQto4L+rq+VvbIzgv5+VAyELaOC/n5UDIQto4L80NIA4oLXgv6ur5W9sjOC/q6vlb2yM4L80NIA4oLXgv5+VAyELaOC/n5UDIQto4L+flQMhC2jgvzQ0gDigteC/n5UDIQto4L+flQMhC2jgv5+VAyELaOC/n5UDIQto4L80NIA4oLXgv5+VAyELaOC/n5UDIQto4L80NIA4oLXgv6ur5W9sjOC/oInKgjVT37+flQMhC2jgv6ur5W9sjOC/q6vlb2yM4L8nHp7pPpHgv6ur5W9sjOC/q6vlb2yM4L+gicqCNVPfv5+VAyELaOC/q6vlb2yM4L80NIA4oLXgv5+VAyELaOC/q6vlb2yM4L+rq+VvbIzgv5+VAyELaOC/oInKgjVT3780NIA4oLXgvzQ0gDigteC/q6vlb2yM4L80NIA4oLXgv6ur5W9sjOC/q6vlb2yM4L+rq+VvbIzgv5+VAyELaOC/q6vlb2yM4L8nHp7pPpHgv6ur5W9sjOC/NDSAOKC14L+flQMhC2jgv5+VAyELaOC/NDSAOKC14L+flQMhC2jgv5+VAyELaOC/n5UDIQto4L+flQMhC2jgv5+VAyELaOC/n5UDIQto4L+flQMhC2jgvzQ0gDigteC/n5UDIQto4L80NIA4oLXgv5+VAyELaOC/NDSAOKC14L+rq+VvbIzgv6ur5W9sjOC/n5UDIQto4L+rq+VvbIzgv6ur5W9sjOC/q6vlb2yM4L+rq+VvbIzgv5+VAyELaOC/n5UDIQto4L+flQMhC2jgv6CJyoI1U9+/n5UDIQto4L+flQMhC2jgv6ur5W9sjOC/q6vlb2yM4L+flQMhC2jgv6ur5W9sjOC/n5UDIQto4L+flQMhC2jgv6ur5W9sjOC/n5UDIQto4L+rq+VvbIzgv6ur5W9sjOC/q6vlb2yM4L+flQMhC2jgv6CJyoI1U9+/q6vlb2yM4L+flQMhC2jgv5+VAyELaOC/n5UDIQto4L+flQMhC2jgv5+VAyELaOC/q6vlb2yM4L+flQMhC2jgvzQ0gDigteC/n5UDIQto4L80NIA4oLXgv6ur5W9sjOC/Jx6e6T6R4L+flQMhC2jgv6CJyoI1U9+/n5UDIQto4L+flQMhC2jgv5+VAyELaOC/q6vlb2yM4L+flQMhC2jgv6ur5W9sjOC/n5UDIQto4L+flQMhC2jgv5+VAyELaOC/NDSAOKC14L+flQMhC2jgv5+VAyELaOC/q6vlb2yM4L+gicqCNVPfvycenuk+keC/q6vlb2yM4L+flQMhC2jgvzQ0gDigteC/oInKgjVT37+flQMhC2jgv5+VAyELaOC/n5UDIQto4L+gicqCNVPfv5+VAyELaOC/oInKgjVT37+flQMhC2jgv6CJyoI1U9+/n5UDIQto4L+flQMhC2jgv5+VAyELaOC/q6vlb2yM4L+rq+VvbIzgv6ur5W9sjOC/q6vlb2yM4L80NIA4oLXgv6ur5W9sjOC/q6vlb2yM4L+flQMhC2jgvzQ0gDigteC/q6vlb2yM4L+rq+VvbIzgvycenuk+keC/n5UDIQto4L+flQMhC2jgv5+VAyELaOC/q6vlb2yM4L+rq+VvbIzgv5+VAyELaOC/q6vlb2yM4L+flQMhC2jgvzQ0gDigteC/n5UDIQto4L+gicqCNVPfvzQ0gDigteC/q6vlb2yM4L+flQMhC2jgvycenuk+keC/NDSAOKC14L+gicqCNVPfv5+VAyELaOC/n5UDIQto4L+flQMhC2jgv6CJyoI1U9+/n5UDIQto4L+flQMhC2jgv5+VAyELaOC/n5UDIQto4L+flQMhC2jgvzQ0gDigteC/n5UDIQto4L+flQMhC2jgv6ur5W9sjOC/q6vlb2yM4L+rq+VvbIzgv5+VAyELaOC/q6vlb2yM4L+rq+VvbIzgv5+VAyELaOC/n5UDIQto4L+rq+VvbIzgv5+VAyELaOC/oInKgjVT37+gicqCNVPfv6ur5W9sjOC/n5UDIQto4L80NIA4oLXgv5+VAyELaOC/n5UDIQto4L+rq+VvbIzgv6ur5W9sjOC/n5UDIQto4L+flQMhC2jgv6ur5W9sjOC/n5UDIQto4L+flQMhC2jgv6ur5W9sjOC/oInKgjVT37+flQMhC2jgvzQ0gDigteC/n5UDIQto4L+rq+VvbIzgv5+VAyELaOC/q6vlb2yM4L+flQMhC2jgv6ur5W9sjOC/q6vlb2yM4L+flQMhC2jgv5+VAyELaOC/NDSAOKC14L+gicqCNVPfv5+VAyELaOC/n5UDIQto4L+flQMhC2jgv6ur5W9sjOC/NDSAOKC14L+flQMhC2jgv6ur5W9sjOC/n5UDIQto4L+flQMhC2jgv5+VAyELaOC/n5UDIQto4L+flQMhC2jgv5+VAyELaOC/n5UDIQto4L+gicqCNVPfv5+VAyELaOC/n5UDIQto4L+gicqCNVPfv6ur5W9sjOC/oInKgjVT37+flQMhC2jgv6ur5W9sjOC/q6vlb2yM4L+gicqCNVPfv6ur5W9sjOC/n5UDIQto4L+flQMhC2jgv5+VAyELaOC/n5UDIQto4L+flQMhC2jgv5+VAyELaOC/n5UDIQto4L+rq+VvbIzgv6ur5W9sjOC/oInKgjVT37+flQMhC2jgv6ur5W9sjOC/n5UDIQto4L+flQMhC2jgv6ur5W9sjOC/NDSAOKC14L+flQMhC2jgv5+VAyELaOC/oInKgjVT37+flQMhC2jgv5+VAyELaOC/n5UDIQto4L+flQMhC2jgv5+VAyELaOC/q6vlb2yM4L+rq+VvbIzgv5+VAyELaOC/n5UDIQto4L+rq+VvbIzgv5+VAyELaOC/q6vlb2yM4L80NIA4oLXgv6ur5W9sjOC/n5UDIQto4L+flQMhC2jgvzQ0gDigteC/n5UDIQto4L+flQMhC2jgv6ur5W9sjOC/q6vlb2yM4L+flQMhC2jgvzQ0gDigteC/n5UDIQto4L+rq+VvbIzgv5+VAyELaOC/q6vlb2yM4L+gicqCNVPfv6CJyoI1U9+/q6vlb2yM4L80NIA4oLXgv5+VAyELaOC/n5UDIQto4L+flQMhC2jgv5+VAyELaOC/NDSAOKC14L+flQMhC2jgv5+VAyELaOC/q6vlb2yM4L+flQMhC2jgvzQ0gDigteC/q6vlb2yM4L80NIA4oLXgv6ur5W9sjOC/n5UDIQto4L+rq+VvbIzgv5+VAyELaOC/q6vlb2yM4L+flQMhC2jgv5+VAyELaOC/n5UDIQto4L+flQMhC2jgvzQ0gDigteC/oInKgjVT37+gicqCNVPfv5+VAyELaOC/q6vlb2yM4L+flQMhC2jgvzQ0gDigteC/q6vlb2yM4L+rq+VvbIzgvzQ0gDigteC/q6vlb2yM4L+flQMhC2jgv5+VAyELaOC/q6vlb2yM4L+flQMhC2jgv6ur5W9sjOC/n5UDIQto4L+flQMhC2jgv5+VAyELaOC/q6vlb2yM4L+rq+VvbIzgv5+VAyELaOC/q6vlb2yM4L+rq+VvbIzgv5+VAyELaOC/q6vlb2yM4L+rq+VvbIzgv6ur5W9sjOC/q6vlb2yM4L+flQMhC2jgv5+VAyELaOC/oInKgjVT37+flQMhC2jgv5+VAyELaOC/q6vlb2yM4L+flQMhC2jgv5+VAyELaOC/NDSAOKC14L+flQMhC2jgv6ur5W9sjOC/n5UDIQto4L+flQMhC2jgv6ur5W9sjOC/q6vlb2yM4L+rq+VvbIzgv6ur5W9sjOC/oInKgjVT37+rq+VvbIzgv5+VAyELaOC/n5UDIQto4L+flQMhC2jgv5+VAyELaOC/n5UDIQto4L+gicqCNVPfv5+VAyELaOC/n5UDIQto4L80NIA4oLXgv6ur5W9sjOC/NDSAOKC14L+rq+VvbIzgvzQ0gDigteC/NDSAOKC14L80NIA4oLXgv6ur5W9sjOC/n5UDIQto4L+rq+VvbIzgv5+VAyELaOC/n5UDIQto4L+rq+VvbIzgv5+VAyELaOC/n5UDIQto4L80NIA4oLXgv5+VAyELaOC/n5UDIQto4L+rq+VvbIzgv6ur5W9sjOC/NDSAOKC14L+rq+VvbIzgvzQ0gDigteC/q6vlb2yM4L+flQMhC2jgv5+VAyELaOC/",
                    "dtype": "f8"
                  },
                  "z": {
                    "bdata": "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",
                    "dtype": "f8"
                  }
                },
                {
                  "hovertemplate": "Cluster=1<br>PC1=%{x}<br>PC2=%{y}<br>PC3=%{z}<extra></extra>",
                  "legendgroup": "1",
                  "marker": {
                    "color": "#EF553B",
                    "symbol": "circle"
                  },
                  "mode": "markers",
                  "name": "1",
                  "scene": "scene",
                  "showlegend": true,
                  "type": "scatter3d",
                  "x": {
                    "bdata": "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",
                    "dtype": "f8"
                  },
                  "y": {
                    "bdata": "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",
                    "dtype": "f8"
                  },
                  "z": {
                    "bdata": "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",
                    "dtype": "f8"
                  }
                },
                {
                  "hovertemplate": "Cluster=2<br>PC1=%{x}<br>PC2=%{y}<br>PC3=%{z}<extra></extra>",
                  "legendgroup": "2",
                  "marker": {
                    "color": "#00cc96",
                    "symbol": "circle"
                  },
                  "mode": "markers",
                  "name": "2",
                  "scene": "scene",
                  "showlegend": true,
                  "type": "scatter3d",
                  "x": {
                    "bdata": "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",
                    "dtype": "f8"
                  },
                  "y": {
                    "bdata": "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",
                    "dtype": "f8"
                  },
                  "z": {
                    "bdata": "YEBDQCoB5b9gQENAKgHlv80DwIdcrca/A1kzd14I0T9gQENAKgHlvwNZM3deCNE/zQPAh1ytxr/NA8CHXK3Gv80DwIdcrca/A1kzd14I0T9r5uQpF2DwP80DwIdcrca/Yh9A9qeQ4j8DWTN3XgjRPwNZM3deCNE/Yh9A9qeQ4j/NA8CHXK3GvwNZM3deCNE/zQPAh1ytxr/NA8CHXK3Gv80DwIdcrca/A1kzd14I0T/NA8CHXK3GvwNZM3deCNE/zQPAh1ytxr/NA8CHXK3GvwNZM3deCNE/YEBDQCoB5b9r5uQpF2DwP2BAQ0AqAeW/zQPAh1ytxr/NA8CHXK3Gv80DwIdcrca/zQPAh1ytxr8DWTN3XgjRPwNZM3deCNE/a+bkKRdg8D8DWTN3XgjRPwNZM3deCNE/A1kzd14I0T/NA8CHXK3Gv80DwIdcrca/A1kzd14I0T/NA8CHXK3Gv80DwIdcrca/zQPAh1ytxr9gQENAKgHlv80DwIdcrca/YEBDQCoB5b/NA8CHXK3GvwNZM3deCNE/YEBDQCoB5b9r5uQpF2DwP80DwIdcrca/A1kzd14I0T/NA8CHXK3Gv80DwIdcrca/A1kzd14I0T8DWTN3XgjRP2vm5CkXYPA/YEBDQCoB5b9r5uQpF2DwPwNZM3deCNE/a+bkKRdg8D8DWTN3XgjRP2vm5CkXYPA/zQPAh1ytxr8DWTN3XgjRP80DwIdcrca/a+bkKRdg8D/NA8CHXK3Gv2BAQ0AqAeW/zQPAh1ytxr9r5uQpF2DwP80DwIdcrca/Yh9A9qeQ4j9gQENAKgHlv80DwIdcrca/a+bkKRdg8D8DWTN3XgjRP80DwIdcrca/A1kzd14I0T/NA8CHXK3Gv2BAQ0AqAeW/zQPAh1ytxr8DWTN3XgjRP2vm5CkXYPA/zQPAh1ytxr9gQENAKgHlvwNZM3deCNE/A1kzd14I0T8DWTN3XgjRP80DwIdcrca/zQPAh1ytxr9gQENAKgHlv2IfQPankOI/a+bkKRdg8D9gQENAKgHlv2vm5CkXYPA/a+bkKRdg8D/NA8CHXK3Gv80DwIdcrca/Yh9A9qeQ4j8DWTN3XgjRP2BAQ0AqAeW/zQPAh1ytxr9r5uQpF2DwPwNZM3deCNE/A1kzd14I0T/NA8CHXK3GvwNZM3deCNE/zQPAh1ytxr/NA8CHXK3GvwNZM3deCNE/zQPAh1ytxr8DWTN3XgjRP2BAQ0AqAeW/zQPAh1ytxr9r5uQpF2DwP2vm5CkXYPA/zQPAh1ytxr8DWTN3XgjRPwNZM3deCNE/Yh9A9qeQ4j/NA8CHXK3Gv80DwIdcrca/YEBDQCoB5b/NA8CHXK3Gv2vm5CkXYPA/A1kzd14I0T9gQENAKgHlv2BAQ0AqAeW/A1kzd14I0T9iH0D2p5DiP80DwIdcrca/a+bkKRdg8D/NA8CHXK3GvwNZM3deCNE/Yh9A9qeQ4j/NA8CHXK3Gv80DwIdcrca/zQPAh1ytxr9iH0D2p5DiP80DwIdcrca/zQPAh1ytxr9r5uQpF2DwP80DwIdcrca/zQPAh1ytxr8DWTN3XgjRPwNZM3deCNE/zQPAh1ytxr/NA8CHXK3Gv80DwIdcrca/zQPAh1ytxr8DWTN3XgjRPwNZM3deCNE/A1kzd14I0T/NA8CHXK3Gv2vm5CkXYPA/zQPAh1ytxr8DWTN3XgjRP80DwIdcrca/A1kzd14I0T/NA8CHXK3Gv80DwIdcrca/A1kzd14I0T8DWTN3XgjRPwNZM3deCNE/zQPAh1ytxr9gQENAKgHlv80DwIdcrca/zQPAh1ytxr9gQENAKgHlv2IfQPankOI/zQPAh1ytxr8DWTN3XgjRP2vm5CkXYPA/Yh9A9qeQ4j/NA8CHXK3Gv2IfQPankOI/A1kzd14I0T/NA8CHXK3Gv2vm5CkXYPA/zQPAh1ytxr/NA8CHXK3Gv80DwIdcrca/A1kzd14I0T/NA8CHXK3GvwNZM3deCNE/zQPAh1ytxr/NA8CHXK3GvwNZM3deCNE/zQPAh1ytxr/NA8CHXK3Gv2BAQ0AqAeW/A1kzd14I0T/NA8CHXK3Gv2IfQPankOI/zQPAh1ytxr/NA8CHXK3GvwNZM3deCNE/zQPAh1ytxr8DWTN3XgjRP2vm5CkXYPA/zQPAh1ytxr/NA8CHXK3Gv2vm5CkXYPA/a+bkKRdg8D/NA8CHXK3Gv80DwIdcrca/A1kzd14I0T9iH0D2p5DiPwNZM3deCNE/zQPAh1ytxr/NA8CHXK3Gv2BAQ0AqAeW/A1kzd14I0T/NA8CHXK3GvwNZM3deCNE/A1kzd14I0T/NA8CHXK3Gv80DwIdcrca/YEBDQCoB5b/NA8CHXK3GvwNZM3deCNE/zQPAh1ytxr8DWTN3XgjRPwNZM3deCNE/zQPAh1ytxr8DWTN3XgjRPwNZM3deCNE/zQPAh1ytxr9r5uQpF2DwP80DwIdcrca/zQPAh1ytxr/NA8CHXK3Gv2IfQPankOI/zQPAh1ytxr8DWTN3XgjRP2BAQ0AqAeW/zQPAh1ytxr/NA8CHXK3Gv2vm5CkXYPA/A1kzd14I0T8DWTN3XgjRPwNZM3deCNE/YEBDQCoB5b/NA8CHXK3Gv2BAQ0AqAeW/YEBDQCoB5b/NA8CHXK3Gv80DwIdcrca/zQPAh1ytxr8DWTN3XgjRPwNZM3deCNE/zQPAh1ytxr/NA8CHXK3Gv80DwIdcrca/a+bkKRdg8D8DWTN3XgjRPwNZM3deCNE/A1kzd14I0T/NA8CHXK3Gv80DwIdcrca/A1kzd14I0T9r5uQpF2DwP2vm5CkXYPA/YEBDQCoB5b8DWTN3XgjRP2vm5CkXYPA/a+bkKRdg8D/NA8CHXK3Gv2BAQ0AqAeW/zQPAh1ytxr8DWTN3XgjRP2vm5CkXYPA/zQPAh1ytxr/NA8CHXK3Gv2vm5CkXYPA/zQPAh1ytxr/NA8CHXK3GvwNZM3deCNE/A1kzd14I0T/NA8CHXK3Gv80DwIdcrca/zQPAh1ytxr8DWTN3XgjRPwNZM3deCNE/zQPAh1ytxr8DWTN3XgjRP80DwIdcrca/zQPAh1ytxr8DWTN3XgjRPwNZM3deCNE/A1kzd14I0T9r5uQpF2DwP80DwIdcrca/a+bkKRdg8D8DWTN3XgjRP80DwIdcrca/zQPAh1ytxr/NA8CHXK3Gv80DwIdcrca/YEBDQCoB5b/NA8CHXK3Gv80DwIdcrca/A1kzd14I0T8DWTN3XgjRP80DwIdcrca/zQPAh1ytxr9r5uQpF2DwP80DwIdcrca/YEBDQCoB5b/NA8CHXK3Gv80DwIdcrca/a+bkKRdg8D9gQENAKgHlv2IfQPankOI/A1kzd14I0T/NA8CHXK3GvwNZM3deCNE/YEBDQCoB5b/NA8CHXK3Gv80DwIdcrca/A1kzd14I0T9r5uQpF2DwP80DwIdcrca/zQPAh1ytxr8DWTN3XgjRPwNZM3deCNE/A1kzd14I0T/NA8CHXK3GvwNZM3deCNE/zQPAh1ytxr/NA8CHXK3GvwNZM3deCNE/zQPAh1ytxr/NA8CHXK3GvwNZM3deCNE/zQPAh1ytxr/NA8CHXK3Gv2BAQ0AqAeW/a+bkKRdg8D9r5uQpF2DwP80DwIdcrca/qP9mv6bWuT8DWTN3XgjRPwNZM3deCNE/zQPAh1ytxr/NA8CHXK3Gv80DwIdcrca/a+bkKRdg8D/NA8CHXK3GvwNZM3deCNE/zQPAh1ytxr9r5uQpF2DwP2vm5CkXYPA/A1kzd14I0T/NA8CHXK3GvwNZM3deCNE/a+bkKRdg8D/NA8CHXK3GvwNZM3deCNE/YEBDQCoB5b/NA8CHXK3Gv80DwIdcrca/A1kzd14I0T8DWTN3XgjRPwNZM3deCNE/YEBDQCoB5b/NA8CHXK3GvwNZM3deCNE/zQPAh1ytxr/NA8CHXK3Gv80DwIdcrca/A1kzd14I0T8DWTN3XgjRPwNZM3deCNE/a+bkKRdg8D9gQENAKgHlv80DwIdcrca/zQPAh1ytxr/NA8CHXK3Gv80DwIdcrca/A1kzd14I0T/NA8CHXK3GvwNZM3deCNE/YEBDQCoB5b9gQENAKgHlv2BAQ0AqAeW/zQPAh1ytxr/NA8CHXK3Gv80DwIdcrca/A1kzd14I0T8DWTN3XgjRP2vm5CkXYPA/zQPAh1ytxr8DWTN3XgjRP80DwIdcrca/A1kzd14I0T9gQENAKgHlv2BAQ0AqAeW/YEBDQCoB5b/NA8CHXK3Gv80DwIdcrca/A1kzd14I0T8DWTN3XgjRPwNZM3deCNE/zQPAh1ytxr/NA8CHXK3GvwNZM3deCNE/zQPAh1ytxr/NA8CHXK3Gv80DwIdcrca/zQPAh1ytxr9r5uQpF2DwPwNZM3deCNE/A1kzd14I0T8DWTN3XgjRPwNZM3deCNE/zQPAh1ytxr/NA8CHXK3Gv2vm5CkXYPA/zQPAh1ytxr/NA8CHXK3GvwNZM3deCNE/zQPAh1ytxr9r5uQpF2DwP2BAQ0AqAeW/zQPAh1ytxr9gQENAKgHlv80DwIdcrca/a+bkKRdg8D8DWTN3XgjRP80DwIdcrca/zQPAh1ytxr8DWTN3XgjRPwNZM3deCNE/A1kzd14I0T/NA8CHXK3Gv2IfQPankOI/a+bkKRdg8D8DWTN3XgjRP80DwIdcrca/zQPAh1ytxr8DWTN3XgjRP80DwIdcrca/A1kzd14I0T9r5uQpF2DwP80DwIdcrca/A1kzd14I0T8DWTN3XgjRP80DwIdcrca/Yh9A9qeQ4j8DWTN3XgjRPwNZM3deCNE/zQPAh1ytxr/NA8CHXK3Gv80DwIdcrca/A1kzd14I0T8DWTN3XgjRP6j/Zr+m1rk/zQPAh1ytxr/NA8CHXK3Gv80DwIdcrca/qP9mv6bWuT/NA8CHXK3GvwNZM3deCNE/zQPAh1ytxr9r5uQpF2DwP80DwIdcrca/zQPAh1ytxr/NA8CHXK3Gv80DwIdcrca/zQPAh1ytxr8DWTN3XgjRP80DwIdcrca/zQPAh1ytxr9gQENAKgHlvwNZM3deCNE/A1kzd14I0T8DWTN3XgjRPwNZM3deCNE/Yh9A9qeQ4j/NA8CHXK3Gv80DwIdcrca/A1kzd14I0T8DWTN3XgjRP80DwIdcrca/zQPAh1ytxr/NA8CHXK3Gv80DwIdcrca/A1kzd14I0T/NA8CHXK3Gv2vm5CkXYPA/zQPAh1ytxr9r5uQpF2DwP2BAQ0AqAeW/zQPAh1ytxr8DWTN3XgjRP80DwIdcrca/zQPAh1ytxr/NA8CHXK3Gv80DwIdcrca/zQPAh1ytxr9r5uQpF2DwPwNZM3deCNE/zQPAh1ytxr9r5uQpF2DwP80DwIdcrca/a+bkKRdg8D/NA8CHXK3GvwNZM3deCNE/YEBDQCoB5b9r5uQpF2DwP80DwIdcrca/A1kzd14I0T/NA8CHXK3Gv80DwIdcrca/A1kzd14I0T/NA8CHXK3GvwNZM3deCNE/A1kzd14I0T/NA8CHXK3Gv80DwIdcrca/zQPAh1ytxr9gQENAKgHlv2BAQ0AqAeW/a+bkKRdg8D/NA8CHXK3Gv80DwIdcrca/zQPAh1ytxr/NA8CHXK3GvwNZM3deCNE/zQPAh1ytxr/NA8CHXK3Gv80DwIdcrca/zQPAh1ytxr/NA8CHXK3Gv80DwIdcrca/YEBDQCoB5b9gQENAKgHlv80DwIdcrca/zQPAh1ytxr8DWTN3XgjRPwNZM3deCNE/YEBDQCoB5b/NA8CHXK3GvwNZM3deCNE/YEBDQCoB5b8DWTN3XgjRP2vm5CkXYPA/zQPAh1ytxr/NA8CHXK3Gv80DwIdcrca/zQPAh1ytxr/NA8CHXK3GvwNZM3deCNE/A1kzd14I0T8DWTN3XgjRP80DwIdcrca/A1kzd14I0T9gQENAKgHlv80DwIdcrca/a+bkKRdg8D8DWTN3XgjRPwNZM3deCNE/zQPAh1ytxr/NA8CHXK3Gv80DwIdcrca/zQPAh1ytxr/NA8CHXK3Gv2vm5CkXYPA/YEBDQCoB5b/NA8CHXK3Gv80DwIdcrca/a+bkKRdg8D9gQENAKgHlv2BAQ0AqAeW/zQPAh1ytxr8DWTN3XgjRP2BAQ0AqAeW/A1kzd14I0T9gQENAKgHlv2vm5CkXYPA/zQPAh1ytxr8DWTN3XgjRP80DwIdcrca/zQPAh1ytxr/NA8CHXK3GvwNZM3deCNE/A1kzd14I0T/NA8CHXK3Gv80DwIdcrca/zQPAh1ytxr9gQENAKgHlv80DwIdcrca/zQPAh1ytxr9r5uQpF2DwP2BAQ0AqAeW/A1kzd14I0T8DWTN3XgjRP2vm5CkXYPA/zQPAh1ytxr9r5uQpF2DwP2vm5CkXYPA/zQPAh1ytxr9r5uQpF2DwPwNZM3deCNE/a+bkKRdg8D/NA8CHXK3Gv80DwIdcrca/zQPAh1ytxr8DWTN3XgjRP80DwIdcrca/A1kzd14I0T9r5uQpF2DwP2BAQ0AqAeW/A1kzd14I0T/NA8CHXK3Gv2vm5CkXYPA/zQPAh1ytxr/NA8CHXK3Gv2vm5CkXYPA/A1kzd14I0T8DWTN3XgjRP80DwIdcrca/a+bkKRdg8D/NA8CHXK3GvwNZM3deCNE/zQPAh1ytxr/NA8CHXK3Gv80DwIdcrca/zQPAh1ytxr/NA8CHXK3Gv80DwIdcrca/a+bkKRdg8D9r5uQpF2DwP2vm5CkXYPA/YEBDQCoB5b8DWTN3XgjRP80DwIdcrca/zQPAh1ytxr9iH0D2p5DiP2BAQ0AqAeW/A1kzd14I0T9r5uQpF2DwP2vm5CkXYPA/A1kzd14I0T/NA8CHXK3Gv80DwIdcrca/A1kzd14I0T/NA8CHXK3Gv80DwIdcrca/zQPAh1ytxr/NA8CHXK3Gv80DwIdcrca/zQPAh1ytxr/NA8CHXK3Gv2vm5CkXYPA/A1kzd14I0T/NA8CHXK3Gv80DwIdcrca/zQPAh1ytxr/NA8CHXK3Gv80DwIdcrca/zQPAh1ytxr8DWTN3XgjRP80DwIdcrca/zQPAh1ytxr8DWTN3XgjRPwNZM3deCNE/zQPAh1ytxr9gQENAKgHlv2vm5CkXYPA/zQPAh1ytxr/NA8CHXK3Gv2vm5CkXYPA/zQPAh1ytxr+o/2a/pta5P2BAQ0AqAeW/zQPAh1ytxr9gQENAKgHlv80DwIdcrca/zQPAh1ytxr9gQENAKgHlv2vm5CkXYPA/zQPAh1ytxr/NA8CHXK3Gv80DwIdcrca/zQPAh1ytxr/NA8CHXK3Gv2vm5CkXYPA/a+bkKRdg8D9gQENAKgHlvwNZM3deCNE/zQPAh1ytxr/NA8CHXK3GvwNZM3deCNE/A1kzd14I0T8DWTN3XgjRP80DwIdcrca/a+bkKRdg8D9r5uQpF2DwP2IfQPankOI/zQPAh1ytxr9gQENAKgHlvwNZM3deCNE/A1kzd14I0T9gQENAKgHlv80DwIdcrca/zQPAh1ytxr/NA8CHXK3GvwNZM3deCNE/a+bkKRdg8D/NA8CHXK3GvwNZM3deCNE/a+bkKRdg8D/NA8CHXK3Gv2BAQ0AqAeW/zQPAh1ytxr/NA8CHXK3GvwNZM3deCNE/zQPAh1ytxr9gQENAKgHlvwNZM3deCNE/A1kzd14I0T/NA8CHXK3GvwNZM3deCNE/zQPAh1ytxr8DWTN3XgjRP2BAQ0AqAeW/A1kzd14I0T/NA8CHXK3GvwNZM3deCNE/A1kzd14I0T/NA8CHXK3Gv80DwIdcrca/A1kzd14I0T9iH0D2p5DiP80DwIdcrca/A1kzd14I0T9r5uQpF2DwPwNZM3deCNE/A1kzd14I0T9gQENAKgHlv80DwIdcrca/a+bkKRdg8D9gQENAKgHlv2BAQ0AqAeW/zQPAh1ytxr8DWTN3XgjRP80DwIdcrca/A1kzd14I0T8DWTN3XgjRP2IfQPankOI/zQPAh1ytxr8DWTN3XgjRPwNZM3deCNE/a+bkKRdg8D/NA8CHXK3Gv80DwIdcrca/YEBDQCoB5b8DWTN3XgjRP2vm5CkXYPA/zQPAh1ytxr/NA8CHXK3GvwNZM3deCNE/zQPAh1ytxr/NA8CHXK3Gv80DwIdcrca/A1kzd14I0T9r5uQpF2DwP2vm5CkXYPA/zQPAh1ytxr9gQENAKgHlv80DwIdcrca/YEBDQCoB5b9gQENAKgHlv2vm5CkXYPA/A1kzd14I0T8DWTN3XgjRP2BAQ0AqAeW/zQPAh1ytxr8DWTN3XgjRP80DwIdcrca/a+bkKRdg8D8DWTN3XgjRPwNZM3deCNE/A1kzd14I0T/NA8CHXK3Gv80DwIdcrca/a+bkKRdg8D8DWTN3XgjRP80DwIdcrca/zQPAh1ytxr9r5uQpF2DwPwNZM3deCNE/A1kzd14I0T8DWTN3XgjRPwNZM3deCNE/A1kzd14I0T9r5uQpF2DwP80DwIdcrca/zQPAh1ytxr/NA8CHXK3GvwNZM3deCNE/A1kzd14I0T9r5uQpF2DwP80DwIdcrca/a+bkKRdg8D8DWTN3XgjRP80DwIdcrca/YEBDQCoB5b/NA8CHXK3Gv2vm5CkXYPA/zQPAh1ytxr8DWTN3XgjRPwNZM3deCNE/A1kzd14I0T/NA8CHXK3Gv2vm5CkXYPA/A1kzd14I0T/NA8CHXK3GvwNZM3deCNE/A1kzd14I0T/NA8CHXK3Gv2BAQ0AqAeW/zQPAh1ytxr/NA8CHXK3GvwNZM3deCNE/YEBDQCoB5b/NA8CHXK3GvwNZM3deCNE/a+bkKRdg8D/NA8CHXK3Gv2BAQ0AqAeW/zQPAh1ytxr+o/2a/pta5P80DwIdcrca/a+bkKRdg8D/NA8CHXK3Gv2BAQ0AqAeW/zQPAh1ytxr9gQENAKgHlv80DwIdcrca/zQPAh1ytxr9r5uQpF2DwPwNZM3deCNE/YEBDQCoB5b8DWTN3XgjRP80DwIdcrca/YEBDQCoB5b/NA8CHXK3Gv80DwIdcrca/A1kzd14I0T9r5uQpF2DwPwNZM3deCNE/zQPAh1ytxr8DWTN3XgjRPwNZM3deCNE/zQPAh1ytxr/NA8CHXK3Gv2BAQ0AqAeW/YEBDQCoB5b9r5uQpF2DwP80DwIdcrca/A1kzd14I0T8DWTN3XgjRP2IfQPankOI/zQPAh1ytxr9gQENAKgHlvwNZM3deCNE/A1kzd14I0T8DWTN3XgjRP80DwIdcrca/zQPAh1ytxr9gQENAKgHlvwNZM3deCNE/zQPAh1ytxr8DWTN3XgjRP80DwIdcrca/YEBDQCoB5b8DWTN3XgjRP2vm5CkXYPA/zQPAh1ytxr8DWTN3XgjRP2vm5CkXYPA/zQPAh1ytxr/NA8CHXK3GvwNZM3deCNE/A1kzd14I0T9gQENAKgHlvwNZM3deCNE/A1kzd14I0T8DWTN3XgjRPwNZM3deCNE/A1kzd14I0T/NA8CHXK3Gv80DwIdcrca/zQPAh1ytxr/NA8CHXK3Gv2vm5CkXYPA/zQPAh1ytxr9gQENAKgHlv2vm5CkXYPA/A1kzd14I0T/NA8CHXK3Gv80DwIdcrca/zQPAh1ytxr/NA8CHXK3Gv80DwIdcrca/a+bkKRdg8D/NA8CHXK3Gv80DwIdcrca/A1kzd14I0T8DWTN3XgjRPwNZM3deCNE/A1kzd14I0T/NA8CHXK3Gv2vm5CkXYPA/a+bkKRdg8D8DWTN3XgjRP2vm5CkXYPA/A1kzd14I0T/NA8CHXK3Gv2BAQ0AqAeW/zQPAh1ytxr8DWTN3XgjRPwNZM3deCNE/A1kzd14I0T8DWTN3XgjRPwNZM3deCNE/a+bkKRdg8D/NA8CHXK3GvwNZM3deCNE/A1kzd14I0T8DWTN3XgjRP2vm5CkXYPA/zQPAh1ytxr9gQENAKgHlvwNZM3deCNE/zQPAh1ytxr9gQENAKgHlv2vm5CkXYPA/YEBDQCoB5b8DWTN3XgjRPwNZM3deCNE/a+bkKRdg8D9r5uQpF2DwPwNZM3deCNE/zQPAh1ytxr9r5uQpF2DwP2vm5CkXYPA/zQPAh1ytxr/NA8CHXK3Gv80DwIdcrca/A1kzd14I0T9iH0D2p5DiP2vm5CkXYPA/A1kzd14I0T/NA8CHXK3GvwNZM3deCNE/zQPAh1ytxr/NA8CHXK3Gv80DwIdcrca/A1kzd14I0T/NA8CHXK3GvwNZM3deCNE/a+bkKRdg8D/NA8CHXK3Gv80DwIdcrca/zQPAh1ytxr/NA8CHXK3GvwNZM3deCNE/A1kzd14I0T8DWTN3XgjRP2vm5CkXYPA/zQPAh1ytxr/NA8CHXK3Gv80DwIdcrca/zQPAh1ytxr/NA8CHXK3Gv80DwIdcrca/zQPAh1ytxr8DWTN3XgjRP2vm5CkXYPA/A1kzd14I0T/NA8CHXK3GvwNZM3deCNE/Yh9A9qeQ4j/NA8CHXK3GvwNZM3deCNE/Yh9A9qeQ4j/NA8CHXK3Gv2vm5CkXYPA/a+bkKRdg8D9gQENAKgHlv80DwIdcrca/a+bkKRdg8D9gQENAKgHlv80DwIdcrca/A1kzd14I0T9r5uQpF2DwPwNZM3deCNE/A1kzd14I0T8DWTN3XgjRP80DwIdcrca/A1kzd14I0T9r5uQpF2DwPwNZM3deCNE/A1kzd14I0T/NA8CHXK3Gv2BAQ0AqAeW/YEBDQCoB5b/NA8CHXK3Gv80DwIdcrca/a+bkKRdg8D/NA8CHXK3Gv2BAQ0AqAeW/zQPAh1ytxr/NA8CHXK3Gv2BAQ0AqAeW/A1kzd14I0T8DWTN3XgjRPwNZM3deCNE/A1kzd14I0T9iH0D2p5DiPwNZM3deCNE/Yh9A9qeQ4j/NA8CHXK3Gv2vm5CkXYPA/zQPAh1ytxr8DWTN3XgjRPwNZM3deCNE/A1kzd14I0T8DWTN3XgjRPwNZM3deCNE/zQPAh1ytxr/NA8CHXK3GvwNZM3deCNE/Yh9A9qeQ4j9r5uQpF2DwPwNZM3deCNE/zQPAh1ytxr9r5uQpF2DwPwNZM3deCNE/a+bkKRdg8D9r5uQpF2DwP2vm5CkXYPA/a+bkKRdg8D8DWTN3XgjRP80DwIdcrca/A1kzd14I0T9gQENAKgHlv80DwIdcrca/A1kzd14I0T8DWTN3XgjRP80DwIdcrca/Yh9A9qeQ4j/NA8CHXK3Gv80DwIdcrca/A1kzd14I0T8DWTN3XgjRP80DwIdcrca/A1kzd14I0T/NA8CHXK3GvwNZM3deCNE/zQPAh1ytxr/NA8CHXK3Gv2vm5CkXYPA/A1kzd14I0T/NA8CHXK3Gv80DwIdcrca/A1kzd14I0T9r5uQpF2DwPwNZM3deCNE/A1kzd14I0T8DWTN3XgjRP80DwIdcrca/zQPAh1ytxr/NA8CHXK3GvwNZM3deCNE/A1kzd14I0T/NA8CHXK3Gv2BAQ0AqAeW/a+bkKRdg8D8DWTN3XgjRP2BAQ0AqAeW/zQPAh1ytxr/NA8CHXK3Gv80DwIdcrca/A1kzd14I0T/NA8CHXK3GvwNZM3deCNE/a+bkKRdg8D/NA8CHXK3Gv2IfQPankOI/zQPAh1ytxr/NA8CHXK3Gv80DwIdcrca/zQPAh1ytxr9r5uQpF2DwP2vm5CkXYPA/zQPAh1ytxr/NA8CHXK3Gv2vm5CkXYPA/zQPAh1ytxr9r5uQpF2DwPwNZM3deCNE/zQPAh1ytxr8DWTN3XgjRP2BAQ0AqAeW/A1kzd14I0T/NA8CHXK3Gv80DwIdcrca/A1kzd14I0T/NA8CHXK3GvwNZM3deCNE/A1kzd14I0T8DWTN3XgjRP80DwIdcrca/a+bkKRdg8D9gQENAKgHlv2vm5CkXYPA/A1kzd14I0T/NA8CHXK3Gv2BAQ0AqAeW/zQPAh1ytxr8DWTN3XgjRPwNZM3deCNE/a+bkKRdg8D8DWTN3XgjRP2vm5CkXYPA/A1kzd14I0T/NA8CHXK3GvwNZM3deCNE/zQPAh1ytxr8DWTN3XgjRPwNZM3deCNE/zQPAh1ytxr/NA8CHXK3Gv2BAQ0AqAeW/zQPAh1ytxr9gQENAKgHlv2vm5CkXYPA/YEBDQCoB5b8DWTN3XgjRPwNZM3deCNE/A1kzd14I0T/NA8CHXK3GvwNZM3deCNE/a+bkKRdg8D/NA8CHXK3GvwNZM3deCNE/zQPAh1ytxr/NA8CHXK3Gv80DwIdcrca/zQPAh1ytxr/NA8CHXK3Gv80DwIdcrca/zQPAh1ytxr/NA8CHXK3Gv80DwIdcrca/A1kzd14I0T8DWTN3XgjRP80DwIdcrca/a+bkKRdg8D/NA8CHXK3GvwNZM3deCNE/A1kzd14I0T/NA8CHXK3Gv80DwIdcrca/a+bkKRdg8D/NA8CHXK3GvwNZM3deCNE/YEBDQCoB5b9r5uQpF2DwP80DwIdcrca/zQPAh1ytxr/NA8CHXK3GvwNZM3deCNE/A1kzd14I0T8DWTN3XgjRP2BAQ0AqAeW/zQPAh1ytxr9r5uQpF2DwPwNZM3deCNE/zQPAh1ytxr/NA8CHXK3Gv2vm5CkXYPA/A1kzd14I0T9iH0D2p5DiP2vm5CkXYPA/zQPAh1ytxr/NA8CHXK3Gv80DwIdcrca/A1kzd14I0T/NA8CHXK3Gv2BAQ0AqAeW/zQPAh1ytxr/NA8CHXK3Gv80DwIdcrca/zQPAh1ytxr9gQENAKgHlv2vm5CkXYPA/A1kzd14I0T9gQENAKgHlvwNZM3deCNE/A1kzd14I0T9gQENAKgHlv80DwIdcrca/zQPAh1ytxr8DWTN3XgjRPwNZM3deCNE/zQPAh1ytxr/NA8CHXK3GvwNZM3deCNE/A1kzd14I0T8DWTN3XgjRP80DwIdcrca/zQPAh1ytxr8DWTN3XgjRP2vm5CkXYPA/zQPAh1ytxr/NA8CHXK3GvwNZM3deCNE/A1kzd14I0T8DWTN3XgjRP80DwIdcrca/zQPAh1ytxr9r5uQpF2DwP80DwIdcrca/a+bkKRdg8D9gQENAKgHlv80DwIdcrca/zQPAh1ytxr8DWTN3XgjRP2vm5CkXYPA/A1kzd14I0T/NA8CHXK3GvwNZM3deCNE/zQPAh1ytxr/NA8CHXK3GvwNZM3deCNE/zQPAh1ytxr/NA8CHXK3GvwNZM3deCNE/zQPAh1ytxr/NA8CHXK3GvwNZM3deCNE/zQPAh1ytxr/NA8CHXK3Gv80DwIdcrca/zQPAh1ytxr8DWTN3XgjRPwNZM3deCNE/YEBDQCoB5b/NA8CHXK3GvwNZM3deCNE/zQPAh1ytxr8DWTN3XgjRPwNZM3deCNE/A1kzd14I0T9r5uQpF2DwP80DwIdcrca/a+bkKRdg8D/NA8CHXK3Gv80DwIdcrca/zQPAh1ytxr8DWTN3XgjRPwNZM3deCNE/YEBDQCoB5b9gQENAKgHlv80DwIdcrca/YEBDQCoB5b8DWTN3XgjRPwNZM3deCNE/A1kzd14I0T9gQENAKgHlv80DwIdcrca/A1kzd14I0T9r5uQpF2DwP2BAQ0AqAeW/zQPAh1ytxr/NA8CHXK3GvwNZM3deCNE/A1kzd14I0T/NA8CHXK3GvwNZM3deCNE/zQPAh1ytxr9r5uQpF2DwPwNZM3deCNE/A1kzd14I0T8DWTN3XgjRP80DwIdcrca/zQPAh1ytxr/NA8CHXK3Gv2IfQPankOI/zQPAh1ytxr9gQENAKgHlvwNZM3deCNE/A1kzd14I0T/NA8CHXK3GvwNZM3deCNE/zQPAh1ytxr9r5uQpF2DwP2BAQ0AqAeW/A1kzd14I0T/NA8CHXK3Gv2vm5CkXYPA/A1kzd14I0T8DWTN3XgjRP80DwIdcrca/A1kzd14I0T/NA8CHXK3Gv80DwIdcrca/zQPAh1ytxr8DWTN3XgjRP80DwIdcrca/a+bkKRdg8D/NA8CHXK3Gv80DwIdcrca/A1kzd14I0T8DWTN3XgjRP2BAQ0AqAeW/zQPAh1ytxr8DWTN3XgjRPwNZM3deCNE/A1kzd14I0T9r5uQpF2DwP80DwIdcrca/zQPAh1ytxr8DWTN3XgjRP2vm5CkXYPA/zQPAh1ytxr9r5uQpF2DwPwNZM3deCNE/a+bkKRdg8D9gQENAKgHlv80DwIdcrca/A1kzd14I0T8DWTN3XgjRPwNZM3deCNE/A1kzd14I0T9r5uQpF2DwPwNZM3deCNE/zQPAh1ytxr9r5uQpF2DwP80DwIdcrca/zQPAh1ytxr/NA8CHXK3Gv80DwIdcrca/a+bkKRdg8D9gQENAKgHlvwNZM3deCNE/A1kzd14I0T/NA8CHXK3Gv2vm5CkXYPA/A1kzd14I0T/NA8CHXK3Gv80DwIdcrca/A1kzd14I0T8DWTN3XgjRP80DwIdcrca/zQPAh1ytxr8DWTN3XgjRP2vm5CkXYPA/zQPAh1ytxr8DWTN3XgjRP80DwIdcrca/zQPAh1ytxr9r5uQpF2DwP2BAQ0AqAeW/zQPAh1ytxr/NA8CHXK3GvwNZM3deCNE/zQPAh1ytxr8DWTN3XgjRPwNZM3deCNE/YEBDQCoB5b8DWTN3XgjRP2BAQ0AqAeW/A1kzd14I0T9r5uQpF2DwPwNZM3deCNE/zQPAh1ytxr/NA8CHXK3Gv80DwIdcrca/a+bkKRdg8D/NA8CHXK3Gv80DwIdcrca/A1kzd14I0T/NA8CHXK3GvwNZM3deCNE/zQPAh1ytxr9r5uQpF2DwP80DwIdcrca/zQPAh1ytxr9gQENAKgHlvwNZM3deCNE/a+bkKRdg8D9gQENAKgHlv2BAQ0AqAeW/zQPAh1ytxr9gQENAKgHlv80DwIdcrca/a+bkKRdg8D/NA8CHXK3Gv2vm5CkXYPA/Yh9A9qeQ4j9gQENAKgHlv2BAQ0AqAeW/zQPAh1ytxr9gQENAKgHlv2vm5CkXYPA/A1kzd14I0T8DWTN3XgjRP80DwIdcrca/zQPAh1ytxr8DWTN3XgjRP80DwIdcrca/zQPAh1ytxr/NA8CHXK3Gv2vm5CkXYPA/zQPAh1ytxr/NA8CHXK3Gv2BAQ0AqAeW/a+bkKRdg8D/NA8CHXK3Gv80DwIdcrca/a+bkKRdg8D9r5uQpF2DwP2vm5CkXYPA/zQPAh1ytxr9r5uQpF2DwP80DwIdcrca/YEBDQCoB5b9gQENAKgHlv80DwIdcrca/zQPAh1ytxr8DWTN3XgjRP80DwIdcrca/YEBDQCoB5b9r5uQpF2DwP80DwIdcrca/zQPAh1ytxr8DWTN3XgjRPwNZM3deCNE/zQPAh1ytxr9gQENAKgHlv80DwIdcrca/zQPAh1ytxr9r5uQpF2DwP80DwIdcrca/zQPAh1ytxr9gQENAKgHlvwNZM3deCNE/YEBDQCoB5b/NA8CHXK3Gv80DwIdcrca/A1kzd14I0T/NA8CHXK3Gv80DwIdcrca/zQPAh1ytxr9gQENAKgHlv80DwIdcrca/A1kzd14I0T8DWTN3XgjRP80DwIdcrca/zQPAh1ytxr/NA8CHXK3Gv2BAQ0AqAeW/zQPAh1ytxr9r5uQpF2DwP80DwIdcrca/A1kzd14I0T/NA8CHXK3Gv2vm5CkXYPA/A1kzd14I0T9gQENAKgHlvwNZM3deCNE/A1kzd14I0T/NA8CHXK3Gv80DwIdcrca/A1kzd14I0T8DWTN3XgjRPwNZM3deCNE/YEBDQCoB5b/NA8CHXK3Gv80DwIdcrca/YEBDQCoB5b8DWTN3XgjRP80DwIdcrca/zQPAh1ytxr9gQENAKgHlv2vm5CkXYPA/zQPAh1ytxr/NA8CHXK3Gv80DwIdcrca/a+bkKRdg8D/NA8CHXK3Gv2vm5CkXYPA/A1kzd14I0T8DWTN3XgjRP2IfQPankOI/zQPAh1ytxr8DWTN3XgjRP80DwIdcrca/zQPAh1ytxr8DWTN3XgjRP80DwIdcrca/YEBDQCoB5b9r5uQpF2DwP80DwIdcrca/A1kzd14I0T9r5uQpF2DwPwNZM3deCNE/zQPAh1ytxr8DWTN3XgjRPwNZM3deCNE/A1kzd14I0T8DWTN3XgjRP80DwIdcrca/zQPAh1ytxr8DWTN3XgjRP80DwIdcrca/A1kzd14I0T8DWTN3XgjRP80DwIdcrca/zQPAh1ytxr9gQENAKgHlvwNZM3deCNE/zQPAh1ytxr8DWTN3XgjRP2vm5CkXYPA/a+bkKRdg8D8DWTN3XgjRP2BAQ0AqAeW/A1kzd14I0T/NA8CHXK3Gv2BAQ0AqAeW/A1kzd14I0T8DWTN3XgjRP2BAQ0AqAeW/zQPAh1ytxr9r5uQpF2DwPwNZM3deCNE/A1kzd14I0T8DWTN3XgjRP2vm5CkXYPA/zQPAh1ytxr8DWTN3XgjRP80DwIdcrca/zQPAh1ytxr/NA8CHXK3Gv2vm5CkXYPA/A1kzd14I0T/NA8CHXK3Gv2vm5CkXYPA/Yh9A9qeQ4j9gQENAKgHlv2vm5CkXYPA/zQPAh1ytxr/NA8CHXK3Gv2vm5CkXYPA/zQPAh1ytxr9r5uQpF2DwP2vm5CkXYPA/A1kzd14I0T/NA8CHXK3Gv2vm5CkXYPA/a+bkKRdg8D9r5uQpF2DwPwNZM3deCNE/zQPAh1ytxr/NA8CHXK3GvwNZM3deCNE/A1kzd14I0T/NA8CHXK3Gv80DwIdcrca/A1kzd14I0T9r5uQpF2DwPwNZM3deCNE/a+bkKRdg8D8DWTN3XgjRP2vm5CkXYPA/A1kzd14I0T8DWTN3XgjRP80DwIdcrca/zQPAh1ytxr9gQENAKgHlvwNZM3deCNE/zQPAh1ytxr9r5uQpF2DwP80DwIdcrca/zQPAh1ytxr9gQENAKgHlv80DwIdcrca/a+bkKRdg8D/NA8CHXK3Gv2vm5CkXYPA/a+bkKRdg8D/NA8CHXK3GvwNZM3deCNE/a+bkKRdg8D8DWTN3XgjRP2vm5CkXYPA/zQPAh1ytxr8DWTN3XgjRP2vm5CkXYPA/zQPAh1ytxr9gQENAKgHlv2vm5CkXYPA/zQPAh1ytxr9r5uQpF2DwP80DwIdcrca/zQPAh1ytxr/NA8CHXK3GvwNZM3deCNE/A1kzd14I0T/NA8CHXK3Gv80DwIdcrca/zQPAh1ytxr/NA8CHXK3Gv2vm5CkXYPA/a+bkKRdg8D8DWTN3XgjRP2IfQPankOI/zQPAh1ytxr8DWTN3XgjRP2BAQ0AqAeW/zQPAh1ytxr9r5uQpF2DwPwNZM3deCNE/A1kzd14I0T/NA8CHXK3Gv80DwIdcrca/A1kzd14I0T8DWTN3XgjRP80DwIdcrca/zQPAh1ytxr/NA8CHXK3GvwNZM3deCNE/zQPAh1ytxr9r5uQpF2DwP2BAQ0AqAeW/zQPAh1ytxr/NA8CHXK3GvwNZM3deCNE/YEBDQCoB5b8DWTN3XgjRP80DwIdcrca/YEBDQCoB5b/NA8CHXK3Gv2vm5CkXYPA/zQPAh1ytxr/NA8CHXK3GvwNZM3deCNE/a+bkKRdg8D9r5uQpF2DwP2vm5CkXYPA/A1kzd14I0T9r5uQpF2DwPwNZM3deCNE/A1kzd14I0T/NA8CHXK3Gv80DwIdcrca/zQPAh1ytxr8DWTN3XgjRP2IfQPankOI/A1kzd14I0T8DWTN3XgjRP2BAQ0AqAeW/zQPAh1ytxr9r5uQpF2DwP80DwIdcrca/zQPAh1ytxr8DWTN3XgjRPwNZM3deCNE/zQPAh1ytxr9r5uQpF2DwP2BAQ0AqAeW/a+bkKRdg8D/NA8CHXK3Gv2vm5CkXYPA/zQPAh1ytxr8DWTN3XgjRP2vm5CkXYPA/zQPAh1ytxr8DWTN3XgjRP80DwIdcrca/zQPAh1ytxr/NA8CHXK3Gv80DwIdcrca/A1kzd14I0T8DWTN3XgjRP80DwIdcrca/zQPAh1ytxr/NA8CHXK3Gv80DwIdcrca/A1kzd14I0T8DWTN3XgjRPwNZM3deCNE/zQPAh1ytxr/NA8CHXK3Gv80DwIdcrca/zQPAh1ytxr/NA8CHXK3Gv2BAQ0AqAeW/A1kzd14I0T9iH0D2p5DiP2vm5CkXYPA/a+bkKRdg8D8DWTN3XgjRP2BAQ0AqAeW/a+bkKRdg8D/NA8CHXK3Gv2vm5CkXYPA/zQPAh1ytxr/NA8CHXK3Gv2vm5CkXYPA/YEBDQCoB5b/NA8CHXK3Gv80DwIdcrca/YEBDQCoB5b/NA8CHXK3Gv80DwIdcrca/YEBDQCoB5b9r5uQpF2DwP80DwIdcrca/zQPAh1ytxr/NA8CHXK3Gv2BAQ0AqAeW/A1kzd14I0T9iH0D2p5DiPwNZM3deCNE/YEBDQCoB5b/NA8CHXK3GvwNZM3deCNE/A1kzd14I0T8DWTN3XgjRP80DwIdcrca/YEBDQCoB5b9r5uQpF2DwP80DwIdcrca/zQPAh1ytxr/NA8CHXK3Gv2vm5CkXYPA/YEBDQCoB5b/NA8CHXK3Gv2BAQ0AqAeW/YEBDQCoB5b/NA8CHXK3Gv80DwIdcrca/zQPAh1ytxr/NA8CHXK3Gv80DwIdcrca/zQPAh1ytxr/NA8CHXK3Gv2vm5CkXYPA/zQPAh1ytxr8DWTN3XgjRP2vm5CkXYPA/A1kzd14I0T/NA8CHXK3Gv80DwIdcrca/A1kzd14I0T/NA8CHXK3Gv2BAQ0AqAeW/Yh9A9qeQ4j9iH0D2p5DiP2vm5CkXYPA/A1kzd14I0T/NA8CHXK3Gv80DwIdcrca/a+bkKRdg8D8DWTN3XgjRPwNZM3deCNE/A1kzd14I0T/NA8CHXK3Gv80DwIdcrca/zQPAh1ytxr9r5uQpF2DwP80DwIdcrca/A1kzd14I0T8DWTN3XgjRPwNZM3deCNE/a+bkKRdg8D/NA8CHXK3Gv80DwIdcrca/a+bkKRdg8D/NA8CHXK3GvwNZM3deCNE/YEBDQCoB5b/NA8CHXK3Gv2BAQ0AqAeW/zQPAh1ytxr9gQENAKgHlv80DwIdcrca/zQPAh1ytxr9r5uQpF2DwP2vm5CkXYPA/A1kzd14I0T9r5uQpF2DwP80DwIdcrca/A1kzd14I0T9gQENAKgHlv80DwIdcrca/A1kzd14I0T/NA8CHXK3Gv80DwIdcrca/A1kzd14I0T8DWTN3XgjRPwNZM3deCNE/A1kzd14I0T9r5uQpF2DwPwNZM3deCNE/zQPAh1ytxr9gQENAKgHlv80DwIdcrca/zQPAh1ytxr/NA8CHXK3Gv2BAQ0AqAeW/zQPAh1ytxr9r5uQpF2DwPwNZM3deCNE/A1kzd14I0T8DWTN3XgjRP80DwIdcrca/zQPAh1ytxr8DWTN3XgjRP80DwIdcrca/zQPAh1ytxr/NA8CHXK3GvwNZM3deCNE/A1kzd14I0T/NA8CHXK3Gv2BAQ0AqAeW/A1kzd14I0T8DWTN3XgjRPwNZM3deCNE/zQPAh1ytxr8DWTN3XgjRP80DwIdcrca/zQPAh1ytxr/NA8CHXK3GvwNZM3deCNE/zQPAh1ytxr9r5uQpF2DwPwNZM3deCNE/zQPAh1ytxr/NA8CHXK3Gv80DwIdcrca/zQPAh1ytxr/NA8CHXK3GvwNZM3deCNE/YEBDQCoB5b9r5uQpF2DwP80DwIdcrca/a+bkKRdg8D9gQENAKgHlv2IfQPankOI/zQPAh1ytxr8DWTN3XgjRP80DwIdcrca/a+bkKRdg8D8DWTN3XgjRP2BAQ0AqAeW/zQPAh1ytxr9gQENAKgHlv80DwIdcrca/YEBDQCoB5b/NA8CHXK3Gv80DwIdcrca/zQPAh1ytxr/NA8CHXK3Gv80DwIdcrca/a+bkKRdg8D8DWTN3XgjRP80DwIdcrca/A1kzd14I0T9r5uQpF2DwP80DwIdcrca/zQPAh1ytxr8DWTN3XgjRP2vm5CkXYPA/YEBDQCoB5b/NA8CHXK3Gv2BAQ0AqAeW/zQPAh1ytxr/NA8CHXK3Gv80DwIdcrca/A1kzd14I0T9gQENAKgHlv2vm5CkXYPA/zQPAh1ytxr/NA8CHXK3GvwNZM3deCNE/YEBDQCoB5b9gQENAKgHlv2BAQ0AqAeW/a+bkKRdg8D9gQENAKgHlv2BAQ0AqAeW/A1kzd14I0T/NA8CHXK3Gv80DwIdcrca/A1kzd14I0T/NA8CHXK3Gv80DwIdcrca/zQPAh1ytxr/NA8CHXK3Gv80DwIdcrca/YEBDQCoB5b9gQENAKgHlv2BAQ0AqAeW/zQPAh1ytxr8DWTN3XgjRP80DwIdcrca/YEBDQCoB5b8DWTN3XgjRP2vm5CkXYPA/a+bkKRdg8D/NA8CHXK3Gv80DwIdcrca/A1kzd14I0T9r5uQpF2DwP80DwIdcrca/a+bkKRdg8D8=",
                    "dtype": "f8"
                  }
                }
              ],
              "layout": {
                "legend": {
                  "title": {
                    "text": "Cluster"
                  },
                  "tracegroupgap": 0
                },
                "scene": {
                  "domain": {
                    "x": [
                      0,
                      1
                    ],
                    "y": [
                      0,
                      1
                    ]
                  },
                  "xaxis": {
                    "title": {
                      "text": "PC1"
                    }
                  },
                  "yaxis": {
                    "title": {
                      "text": "PC2"
                    }
                  },
                  "zaxis": {
                    "title": {
                      "text": "PC3"
                    }
                  }
                },
                "template": {
                  "data": {
                    "bar": [
                      {
                        "error_x": {
                          "color": "#2a3f5f"
                        },
                        "error_y": {
                          "color": "#2a3f5f"
                        },
                        "marker": {
                          "line": {
                            "color": "#E5ECF6",
                            "width": 0.5
                          },
                          "pattern": {
                            "fillmode": "overlay",
                            "size": 10,
                            "solidity": 0.2
                          }
                        },
                        "type": "bar"
                      }
                    ],
                    "barpolar": [
                      {
                        "marker": {
                          "line": {
                            "color": "#E5ECF6",
                            "width": 0.5
                          },
                          "pattern": {
                            "fillmode": "overlay",
                            "size": 10,
                            "solidity": 0.2
                          }
                        },
                        "type": "barpolar"
                      }
                    ],
                    "carpet": [
                      {
                        "aaxis": {
                          "endlinecolor": "#2a3f5f",
                          "gridcolor": "white",
                          "linecolor": "white",
                          "minorgridcolor": "white",
                          "startlinecolor": "#2a3f5f"
                        },
                        "baxis": {
                          "endlinecolor": "#2a3f5f",
                          "gridcolor": "white",
                          "linecolor": "white",
                          "minorgridcolor": "white",
                          "startlinecolor": "#2a3f5f"
                        },
                        "type": "carpet"
                      }
                    ],
                    "choropleth": [
                      {
                        "colorbar": {
                          "outlinewidth": 0,
                          "ticks": ""
                        },
                        "type": "choropleth"
                      }
                    ],
                    "contour": [
                      {
                        "colorbar": {
                          "outlinewidth": 0,
                          "ticks": ""
                        },
                        "colorscale": [
                          [
                            0,
                            "#0d0887"
                          ],
                          [
                            0.1111111111111111,
                            "#46039f"
                          ],
                          [
                            0.2222222222222222,
                            "#7201a8"
                          ],
                          [
                            0.3333333333333333,
                            "#9c179e"
                          ],
                          [
                            0.4444444444444444,
                            "#bd3786"
                          ],
                          [
                            0.5555555555555556,
                            "#d8576b"
                          ],
                          [
                            0.6666666666666666,
                            "#ed7953"
                          ],
                          [
                            0.7777777777777778,
                            "#fb9f3a"
                          ],
                          [
                            0.8888888888888888,
                            "#fdca26"
                          ],
                          [
                            1,
                            "#f0f921"
                          ]
                        ],
                        "type": "contour"
                      }
                    ],
                    "contourcarpet": [
                      {
                        "colorbar": {
                          "outlinewidth": 0,
                          "ticks": ""
                        },
                        "type": "contourcarpet"
                      }
                    ],
                    "heatmap": [
                      {
                        "colorbar": {
                          "outlinewidth": 0,
                          "ticks": ""
                        },
                        "colorscale": [
                          [
                            0,
                            "#0d0887"
                          ],
                          [
                            0.1111111111111111,
                            "#46039f"
                          ],
                          [
                            0.2222222222222222,
                            "#7201a8"
                          ],
                          [
                            0.3333333333333333,
                            "#9c179e"
                          ],
                          [
                            0.4444444444444444,
                            "#bd3786"
                          ],
                          [
                            0.5555555555555556,
                            "#d8576b"
                          ],
                          [
                            0.6666666666666666,
                            "#ed7953"
                          ],
                          [
                            0.7777777777777778,
                            "#fb9f3a"
                          ],
                          [
                            0.8888888888888888,
                            "#fdca26"
                          ],
                          [
                            1,
                            "#f0f921"
                          ]
                        ],
                        "type": "heatmap"
                      }
                    ],
                    "histogram": [
                      {
                        "marker": {
                          "pattern": {
                            "fillmode": "overlay",
                            "size": 10,
                            "solidity": 0.2
                          }
                        },
                        "type": "histogram"
                      }
                    ],
                    "histogram2d": [
                      {
                        "colorbar": {
                          "outlinewidth": 0,
                          "ticks": ""
                        },
                        "colorscale": [
                          [
                            0,
                            "#0d0887"
                          ],
                          [
                            0.1111111111111111,
                            "#46039f"
                          ],
                          [
                            0.2222222222222222,
                            "#7201a8"
                          ],
                          [
                            0.3333333333333333,
                            "#9c179e"
                          ],
                          [
                            0.4444444444444444,
                            "#bd3786"
                          ],
                          [
                            0.5555555555555556,
                            "#d8576b"
                          ],
                          [
                            0.6666666666666666,
                            "#ed7953"
                          ],
                          [
                            0.7777777777777778,
                            "#fb9f3a"
                          ],
                          [
                            0.8888888888888888,
                            "#fdca26"
                          ],
                          [
                            1,
                            "#f0f921"
                          ]
                        ],
                        "type": "histogram2d"
                      }
                    ],
                    "histogram2dcontour": [
                      {
                        "colorbar": {
                          "outlinewidth": 0,
                          "ticks": ""
                        },
                        "colorscale": [
                          [
                            0,
                            "#0d0887"
                          ],
                          [
                            0.1111111111111111,
                            "#46039f"
                          ],
                          [
                            0.2222222222222222,
                            "#7201a8"
                          ],
                          [
                            0.3333333333333333,
                            "#9c179e"
                          ],
                          [
                            0.4444444444444444,
                            "#bd3786"
                          ],
                          [
                            0.5555555555555556,
                            "#d8576b"
                          ],
                          [
                            0.6666666666666666,
                            "#ed7953"
                          ],
                          [
                            0.7777777777777778,
                            "#fb9f3a"
                          ],
                          [
                            0.8888888888888888,
                            "#fdca26"
                          ],
                          [
                            1,
                            "#f0f921"
                          ]
                        ],
                        "type": "histogram2dcontour"
                      }
                    ],
                    "mesh3d": [
                      {
                        "colorbar": {
                          "outlinewidth": 0,
                          "ticks": ""
                        },
                        "type": "mesh3d"
                      }
                    ],
                    "parcoords": [
                      {
                        "line": {
                          "colorbar": {
                            "outlinewidth": 0,
                            "ticks": ""
                          }
                        },
                        "type": "parcoords"
                      }
                    ],
                    "pie": [
                      {
                        "automargin": true,
                        "type": "pie"
                      }
                    ],
                    "scatter": [
                      {
                        "fillpattern": {
                          "fillmode": "overlay",
                          "size": 10,
                          "solidity": 0.2
                        },
                        "type": "scatter"
                      }
                    ],
                    "scatter3d": [
                      {
                        "line": {
                          "colorbar": {
                            "outlinewidth": 0,
                            "ticks": ""
                          }
                        },
                        "marker": {
                          "colorbar": {
                            "outlinewidth": 0,
                            "ticks": ""
                          }
                        },
                        "type": "scatter3d"
                      }
                    ],
                    "scattercarpet": [
                      {
                        "marker": {
                          "colorbar": {
                            "outlinewidth": 0,
                            "ticks": ""
                          }
                        },
                        "type": "scattercarpet"
                      }
                    ],
                    "scattergeo": [
                      {
                        "marker": {
                          "colorbar": {
                            "outlinewidth": 0,
                            "ticks": ""
                          }
                        },
                        "type": "scattergeo"
                      }
                    ],
                    "scattergl": [
                      {
                        "marker": {
                          "colorbar": {
                            "outlinewidth": 0,
                            "ticks": ""
                          }
                        },
                        "type": "scattergl"
                      }
                    ],
                    "scattermap": [
                      {
                        "marker": {
                          "colorbar": {
                            "outlinewidth": 0,
                            "ticks": ""
                          }
                        },
                        "type": "scattermap"
                      }
                    ],
                    "scattermapbox": [
                      {
                        "marker": {
                          "colorbar": {
                            "outlinewidth": 0,
                            "ticks": ""
                          }
                        },
                        "type": "scattermapbox"
                      }
                    ],
                    "scatterpolar": [
                      {
                        "marker": {
                          "colorbar": {
                            "outlinewidth": 0,
                            "ticks": ""
                          }
                        },
                        "type": "scatterpolar"
                      }
                    ],
                    "scatterpolargl": [
                      {
                        "marker": {
                          "colorbar": {
                            "outlinewidth": 0,
                            "ticks": ""
                          }
                        },
                        "type": "scatterpolargl"
                      }
                    ],
                    "scatterternary": [
                      {
                        "marker": {
                          "colorbar": {
                            "outlinewidth": 0,
                            "ticks": ""
                          }
                        },
                        "type": "scatterternary"
                      }
                    ],
                    "surface": [
                      {
                        "colorbar": {
                          "outlinewidth": 0,
                          "ticks": ""
                        },
                        "colorscale": [
                          [
                            0,
                            "#0d0887"
                          ],
                          [
                            0.1111111111111111,
                            "#46039f"
                          ],
                          [
                            0.2222222222222222,
                            "#7201a8"
                          ],
                          [
                            0.3333333333333333,
                            "#9c179e"
                          ],
                          [
                            0.4444444444444444,
                            "#bd3786"
                          ],
                          [
                            0.5555555555555556,
                            "#d8576b"
                          ],
                          [
                            0.6666666666666666,
                            "#ed7953"
                          ],
                          [
                            0.7777777777777778,
                            "#fb9f3a"
                          ],
                          [
                            0.8888888888888888,
                            "#fdca26"
                          ],
                          [
                            1,
                            "#f0f921"
                          ]
                        ],
                        "type": "surface"
                      }
                    ],
                    "table": [
                      {
                        "cells": {
                          "fill": {
                            "color": "#EBF0F8"
                          },
                          "line": {
                            "color": "white"
                          }
                        },
                        "header": {
                          "fill": {
                            "color": "#C8D4E3"
                          },
                          "line": {
                            "color": "white"
                          }
                        },
                        "type": "table"
                      }
                    ]
                  },
                  "layout": {
                    "annotationdefaults": {
                      "arrowcolor": "#2a3f5f",
                      "arrowhead": 0,
                      "arrowwidth": 1
                    },
                    "autotypenumbers": "strict",
                    "coloraxis": {
                      "colorbar": {
                        "outlinewidth": 0,
                        "ticks": ""
                      }
                    },
                    "colorscale": {
                      "diverging": [
                        [
                          0,
                          "#8e0152"
                        ],
                        [
                          0.1,
                          "#c51b7d"
                        ],
                        [
                          0.2,
                          "#de77ae"
                        ],
                        [
                          0.3,
                          "#f1b6da"
                        ],
                        [
                          0.4,
                          "#fde0ef"
                        ],
                        [
                          0.5,
                          "#f7f7f7"
                        ],
                        [
                          0.6,
                          "#e6f5d0"
                        ],
                        [
                          0.7,
                          "#b8e186"
                        ],
                        [
                          0.8,
                          "#7fbc41"
                        ],
                        [
                          0.9,
                          "#4d9221"
                        ],
                        [
                          1,
                          "#276419"
                        ]
                      ],
                      "sequential": [
                        [
                          0,
                          "#0d0887"
                        ],
                        [
                          0.1111111111111111,
                          "#46039f"
                        ],
                        [
                          0.2222222222222222,
                          "#7201a8"
                        ],
                        [
                          0.3333333333333333,
                          "#9c179e"
                        ],
                        [
                          0.4444444444444444,
                          "#bd3786"
                        ],
                        [
                          0.5555555555555556,
                          "#d8576b"
                        ],
                        [
                          0.6666666666666666,
                          "#ed7953"
                        ],
                        [
                          0.7777777777777778,
                          "#fb9f3a"
                        ],
                        [
                          0.8888888888888888,
                          "#fdca26"
                        ],
                        [
                          1,
                          "#f0f921"
                        ]
                      ],
                      "sequentialminus": [
                        [
                          0,
                          "#0d0887"
                        ],
                        [
                          0.1111111111111111,
                          "#46039f"
                        ],
                        [
                          0.2222222222222222,
                          "#7201a8"
                        ],
                        [
                          0.3333333333333333,
                          "#9c179e"
                        ],
                        [
                          0.4444444444444444,
                          "#bd3786"
                        ],
                        [
                          0.5555555555555556,
                          "#d8576b"
                        ],
                        [
                          0.6666666666666666,
                          "#ed7953"
                        ],
                        [
                          0.7777777777777778,
                          "#fb9f3a"
                        ],
                        [
                          0.8888888888888888,
                          "#fdca26"
                        ],
                        [
                          1,
                          "#f0f921"
                        ]
                      ]
                    },
                    "colorway": [
                      "#636efa",
                      "#EF553B",
                      "#00cc96",
                      "#ab63fa",
                      "#FFA15A",
                      "#19d3f3",
                      "#FF6692",
                      "#B6E880",
                      "#FF97FF",
                      "#FECB52"
                    ],
                    "font": {
                      "color": "#2a3f5f"
                    },
                    "geo": {
                      "bgcolor": "white",
                      "lakecolor": "white",
                      "landcolor": "#E5ECF6",
                      "showlakes": true,
                      "showland": true,
                      "subunitcolor": "white"
                    },
                    "hoverlabel": {
                      "align": "left"
                    },
                    "hovermode": "closest",
                    "mapbox": {
                      "style": "light"
                    },
                    "paper_bgcolor": "white",
                    "plot_bgcolor": "#E5ECF6",
                    "polar": {
                      "angularaxis": {
                        "gridcolor": "white",
                        "linecolor": "white",
                        "ticks": ""
                      },
                      "bgcolor": "#E5ECF6",
                      "radialaxis": {
                        "gridcolor": "white",
                        "linecolor": "white",
                        "ticks": ""
                      }
                    },
                    "scene": {
                      "xaxis": {
                        "backgroundcolor": "#E5ECF6",
                        "gridcolor": "white",
                        "gridwidth": 2,
                        "linecolor": "white",
                        "showbackground": true,
                        "ticks": "",
                        "zerolinecolor": "white"
                      },
                      "yaxis": {
                        "backgroundcolor": "#E5ECF6",
                        "gridcolor": "white",
                        "gridwidth": 2,
                        "linecolor": "white",
                        "showbackground": true,
                        "ticks": "",
                        "zerolinecolor": "white"
                      },
                      "zaxis": {
                        "backgroundcolor": "#E5ECF6",
                        "gridcolor": "white",
                        "gridwidth": 2,
                        "linecolor": "white",
                        "showbackground": true,
                        "ticks": "",
                        "zerolinecolor": "white"
                      }
                    },
                    "shapedefaults": {
                      "line": {
                        "color": "#2a3f5f"
                      }
                    },
                    "ternary": {
                      "aaxis": {
                        "gridcolor": "white",
                        "linecolor": "white",
                        "ticks": ""
                      },
                      "baxis": {
                        "gridcolor": "white",
                        "linecolor": "white",
                        "ticks": ""
                      },
                      "bgcolor": "#E5ECF6",
                      "caxis": {
                        "gridcolor": "white",
                        "linecolor": "white",
                        "ticks": ""
                      }
                    },
                    "title": {
                      "x": 0.05
                    },
                    "xaxis": {
                      "automargin": true,
                      "gridcolor": "white",
                      "linecolor": "white",
                      "ticks": "",
                      "title": {
                        "standoff": 15
                      },
                      "zerolinecolor": "white",
                      "zerolinewidth": 2
                    },
                    "yaxis": {
                      "automargin": true,
                      "gridcolor": "white",
                      "linecolor": "white",
                      "ticks": "",
                      "title": {
                        "standoff": 15
                      },
                      "zerolinecolor": "white",
                      "zerolinewidth": 2
                    }
                  }
                },
                "title": {
                  "text": "Family Feature Clusters (KMeans, k=3)"
                }
              }
            }
          },
          "metadata": {},
          "output_type": "display_data"
        }
      ],
      "source": [
        "import plotly.express as px\n",
        "\n",
        "kmeans = KMeans(n_clusters=3, init=\"k-means++\", random_state=42)\n",
        "family_clusters = kmeans.fit_predict(family_df_scaled)\n",
        "df_eng['Family Clusters'] = family_clusters\n",
        "\n",
        "fig = px.scatter_3d(\n",
        "    family_df_scaled,\n",
        "    x=\"PC1\",\n",
        "    y=\"PC2\",\n",
        "    z=\"PC3\",\n",
        "    color=family_clusters.astype(str),\n",
        "    title=\"Family Feature Clusters (KMeans, k=3)\",\n",
        "    labels={\"color\": \"Cluster\"}\n",
        ")\n",
        "fig.show()"
      ]
    },
    {
      "cell_type": "code",
      "execution_count": 22,
      "metadata": {},
      "outputs": [
        {
          "data": {
            "text/html": [
              "<div>\n",
              "<style scoped>\n",
              "    .dataframe tbody tr th:only-of-type {\n",
              "        vertical-align: middle;\n",
              "    }\n",
              "\n",
              "    .dataframe tbody tr th {\n",
              "        vertical-align: top;\n",
              "    }\n",
              "\n",
              "    .dataframe thead th {\n",
              "        text-align: right;\n",
              "    }\n",
              "</style>\n",
              "<table border=\"1\" class=\"dataframe\">\n",
              "  <thead>\n",
              "    <tr style=\"text-align: right;\">\n",
              "      <th></th>\n",
              "      <th>gender</th>\n",
              "      <th>SeniorCitizen</th>\n",
              "      <th>Partner</th>\n",
              "      <th>Dependents</th>\n",
              "      <th>tenure</th>\n",
              "      <th>PhoneService</th>\n",
              "      <th>MultipleLines</th>\n",
              "      <th>InternetService</th>\n",
              "      <th>Contract</th>\n",
              "      <th>PaperlessBilling</th>\n",
              "      <th>PaymentMethod</th>\n",
              "      <th>MonthlyCharges</th>\n",
              "      <th>TotalCharges</th>\n",
              "      <th>Churn</th>\n",
              "      <th>tenure_group</th>\n",
              "      <th>num_add_services</th>\n",
              "      <th>monthly_charge_ratio</th>\n",
              "      <th>tenure * MonthlyCharges</th>\n",
              "      <th>Family Clusters</th>\n",
              "    </tr>\n",
              "  </thead>\n",
              "  <tbody>\n",
              "    <tr>\n",
              "      <th>0</th>\n",
              "      <td>Female</td>\n",
              "      <td>0</td>\n",
              "      <td>Yes</td>\n",
              "      <td>No</td>\n",
              "      <td>1</td>\n",
              "      <td>No</td>\n",
              "      <td>No</td>\n",
              "      <td>DSL</td>\n",
              "      <td>Month-to-month</td>\n",
              "      <td>Yes</td>\n",
              "      <td>Electronic check</td>\n",
              "      <td>29.85</td>\n",
              "      <td>29.85</td>\n",
              "      <td>0</td>\n",
              "      <td>0-1 Year</td>\n",
              "      <td>1</td>\n",
              "      <td>14.925000</td>\n",
              "      <td>30.85</td>\n",
              "      <td>0</td>\n",
              "    </tr>\n",
              "    <tr>\n",
              "      <th>1</th>\n",
              "      <td>Male</td>\n",
              "      <td>0</td>\n",
              "      <td>No</td>\n",
              "      <td>No</td>\n",
              "      <td>34</td>\n",
              "      <td>Yes</td>\n",
              "      <td>No</td>\n",
              "      <td>DSL</td>\n",
              "      <td>One year</td>\n",
              "      <td>No</td>\n",
              "      <td>Mailed check</td>\n",
              "      <td>56.95</td>\n",
              "      <td>1889.50</td>\n",
              "      <td>0</td>\n",
              "      <td>2-4 Years</td>\n",
              "      <td>2</td>\n",
              "      <td>1.627143</td>\n",
              "      <td>90.95</td>\n",
              "      <td>1</td>\n",
              "    </tr>\n",
              "    <tr>\n",
              "      <th>2</th>\n",
              "      <td>Male</td>\n",
              "      <td>0</td>\n",
              "      <td>No</td>\n",
              "      <td>No</td>\n",
              "      <td>2</td>\n",
              "      <td>Yes</td>\n",
              "      <td>No</td>\n",
              "      <td>DSL</td>\n",
              "      <td>Month-to-month</td>\n",
              "      <td>Yes</td>\n",
              "      <td>Mailed check</td>\n",
              "      <td>53.85</td>\n",
              "      <td>108.15</td>\n",
              "      <td>1</td>\n",
              "      <td>0-1 Year</td>\n",
              "      <td>2</td>\n",
              "      <td>17.950000</td>\n",
              "      <td>55.85</td>\n",
              "      <td>1</td>\n",
              "    </tr>\n",
              "    <tr>\n",
              "      <th>3</th>\n",
              "      <td>Male</td>\n",
              "      <td>0</td>\n",
              "      <td>No</td>\n",
              "      <td>No</td>\n",
              "      <td>45</td>\n",
              "      <td>No</td>\n",
              "      <td>No</td>\n",
              "      <td>DSL</td>\n",
              "      <td>One year</td>\n",
              "      <td>No</td>\n",
              "      <td>Bank transfer (automatic)</td>\n",
              "      <td>42.30</td>\n",
              "      <td>1840.75</td>\n",
              "      <td>0</td>\n",
              "      <td>2-4 Years</td>\n",
              "      <td>3</td>\n",
              "      <td>0.919565</td>\n",
              "      <td>87.30</td>\n",
              "      <td>1</td>\n",
              "    </tr>\n",
              "    <tr>\n",
              "      <th>4</th>\n",
              "      <td>Female</td>\n",
              "      <td>0</td>\n",
              "      <td>No</td>\n",
              "      <td>No</td>\n",
              "      <td>2</td>\n",
              "      <td>Yes</td>\n",
              "      <td>No</td>\n",
              "      <td>Fiber optic</td>\n",
              "      <td>Month-to-month</td>\n",
              "      <td>Yes</td>\n",
              "      <td>Electronic check</td>\n",
              "      <td>70.70</td>\n",
              "      <td>151.65</td>\n",
              "      <td>1</td>\n",
              "      <td>0-1 Year</td>\n",
              "      <td>0</td>\n",
              "      <td>23.566667</td>\n",
              "      <td>72.70</td>\n",
              "      <td>1</td>\n",
              "    </tr>\n",
              "  </tbody>\n",
              "</table>\n",
              "</div>"
            ],
            "text/plain": [
              "   gender  SeniorCitizen Partner Dependents  tenure PhoneService  \\\n",
              "0  Female              0     Yes         No       1           No   \n",
              "1    Male              0      No         No      34          Yes   \n",
              "2    Male              0      No         No       2          Yes   \n",
              "3    Male              0      No         No      45           No   \n",
              "4  Female              0      No         No       2          Yes   \n",
              "\n",
              "  MultipleLines InternetService        Contract PaperlessBilling  \\\n",
              "0            No             DSL  Month-to-month              Yes   \n",
              "1            No             DSL        One year               No   \n",
              "2            No             DSL  Month-to-month              Yes   \n",
              "3            No             DSL        One year               No   \n",
              "4            No     Fiber optic  Month-to-month              Yes   \n",
              "\n",
              "               PaymentMethod  MonthlyCharges  TotalCharges  Churn  \\\n",
              "0           Electronic check           29.85         29.85      0   \n",
              "1               Mailed check           56.95       1889.50      0   \n",
              "2               Mailed check           53.85        108.15      1   \n",
              "3  Bank transfer (automatic)           42.30       1840.75      0   \n",
              "4           Electronic check           70.70        151.65      1   \n",
              "\n",
              "  tenure_group  num_add_services  monthly_charge_ratio  \\\n",
              "0     0-1 Year                 1             14.925000   \n",
              "1    2-4 Years                 2              1.627143   \n",
              "2     0-1 Year                 2             17.950000   \n",
              "3    2-4 Years                 3              0.919565   \n",
              "4     0-1 Year                 0             23.566667   \n",
              "\n",
              "   tenure * MonthlyCharges  Family Clusters  \n",
              "0                    30.85                0  \n",
              "1                    90.95                1  \n",
              "2                    55.85                1  \n",
              "3                    87.30                1  \n",
              "4                    72.70                1  "
            ]
          },
          "execution_count": 22,
          "metadata": {},
          "output_type": "execute_result"
        }
      ],
      "source": [
        "df_eng.head()"
      ]
    },
    {
      "cell_type": "markdown",
      "metadata": {},
      "source": [
        "We can create a new binary feature from the Payment method based on whether it is automatic or not."
      ]
    },
    {
      "cell_type": "code",
      "execution_count": 23,
      "metadata": {},
      "outputs": [
        {
          "data": {
            "image/png": "[encoded data removed]",
            "text/plain": [
              "<Figure size 640x480 with 1 Axes>"
            ]
          },
          "metadata": {},
          "output_type": "display_data"
        },
        {
          "data": {
            "text/plain": [
              "<Axes: xlabel='Automatic Payment'>"
            ]
          },
          "execution_count": 23,
          "metadata": {},
          "output_type": "execute_result"
        },
        {
          "data": {
            "image/png": "[encoded data removed]",
            "text/plain": [
              "<Figure size 640x480 with 1 Axes>"
            ]
          },
          "metadata": {},
          "output_type": "display_data"
        }
      ],
      "source": [
        "df_eng.PaymentMethod.value_counts().plot(kind='bar')\n",
        "plt.show()\n",
        "df_eng['Automatic Payment'] = df_eng.PaymentMethod.apply(lambda x: 'automatic' in x)\n",
        "df_eng['Automatic Payment'].value_counts().plot(kind='bar')"
      ]
    },
    {
      "cell_type": "code",
      "execution_count": 24,
      "metadata": {},
      "outputs": [],
      "source": [
        "df_eng.drop(columns='PaymentMethod', inplace=True)"
      ]
    },
    {
      "cell_type": "markdown",
      "metadata": {
        "id": "enhanced_model_markdown"
      },
      "source": [
        "## Model 2 - Performance with Engineered Features\n",
        "Now, we'll build a new model using our enriched dataset and see if performance improves."
      ]
    },
    {
      "cell_type": "code",
      "execution_count": 25,
      "metadata": {},
      "outputs": [
        {
          "data": {
            "text/plain": [
              "['gender',\n",
              " 'Partner',\n",
              " 'Dependents',\n",
              " 'PhoneService',\n",
              " 'MultipleLines',\n",
              " 'InternetService',\n",
              " 'Contract',\n",
              " 'PaperlessBilling',\n",
              " 'tenure_group']"
            ]
          },
          "execution_count": 25,
          "metadata": {},
          "output_type": "execute_result"
        }
      ],
      "source": [
        "df_eng.select_dtypes(include=[\"object\", \"category\"]).columns.tolist()"
      ]
    },
    {
      "cell_type": "code",
      "execution_count": 26,
      "metadata": {},
      "outputs": [
        {
          "data": {
            "text/plain": [
              "['SeniorCitizen',\n",
              " 'tenure',\n",
              " 'MonthlyCharges',\n",
              " 'TotalCharges',\n",
              " 'Churn',\n",
              " 'num_add_services',\n",
              " 'monthly_charge_ratio',\n",
              " 'tenure * MonthlyCharges',\n",
              " 'Family Clusters']"
            ]
          },
          "execution_count": 26,
          "metadata": {},
          "output_type": "execute_result"
        }
      ],
      "source": [
        "df_eng.select_dtypes(include=np.number).columns.tolist()"
      ]
    },
    {
      "cell_type": "code",
      "execution_count": 27,
      "metadata": {},
      "outputs": [],
      "source": [
        "df_eng['Family Clusters'] = df_eng['Family Clusters'].astype('category')"
      ]
    },
    {
      "cell_type": "markdown",
      "metadata": {},
      "source": [
        "> We will opt for handling the categorical features with OrdinalEncoding rather than one hot encoding to make sure the shape of the data is in proportion"
      ]
    },
    {
      "cell_type": "code",
      "execution_count": 29,
      "metadata": {
        "colab": {
          "base_uri": "https://localhost:8080/"
        },
        "id": "enhanced_split_code",
        "outputId": "aed9bd10-30da-4194-92de-07fd35f627c1"
      },
      "outputs": [
        {
          "name": "stdout",
          "output_type": "stream",
          "text": [
            "--- Enhanced Model Performance (with Feature Engineering) ---\n",
            "              precision    recall  f1-score   support\n",
            "\n",
            "           0       0.84      0.91      0.87      1035\n",
            "           1       0.66      0.52      0.58       374\n",
            "\n",
            "    accuracy                           0.80      1409\n",
            "   macro avg       0.75      0.71      0.73      1409\n",
            "weighted avg       0.79      0.80      0.79      1409\n",
            "\n"
          ]
        }
      ],
      "source": [
        "from sklearn.preprocessing import OrdinalEncoder\n",
        "\n",
        "# Drop original tenure as we have a binned version now\n",
        "df_eng.drop(\"tenure\", axis=1, inplace=True)\n",
        "\n",
        "# Define features (X) and target (y) for the engineered dataset\n",
        "X_eng = df_eng.drop(\"Churn\", axis=1)\n",
        "y_eng = df_eng[\"Churn\"]\n",
        "\n",
        "# Identify new feature types\n",
        "numerical_features_eng = X_eng.select_dtypes(include=np.number).columns.tolist()\n",
        "# Note: 'tenure_group' is now a categorical feature\n",
        "categorical_features_eng = X_eng.select_dtypes(\n",
        "    include=[\"object\", \"category\"]\n",
        ").columns.tolist()\n",
        "\n",
        "# Create the new preprocessing pipeline\n",
        "preprocessor_eng = ColumnTransformer(\n",
        "    transformers=[\n",
        "        (\"num\", StandardScaler(), numerical_features_eng),\n",
        "        (\"cat\", OrdinalEncoder(), categorical_features_eng),\n",
        "    ]\n",
        ")\n",
        "\n",
        "# Split data\n",
        "X_train_eng, X_test_eng, y_train_eng, y_test_eng = train_test_split(\n",
        "    X_eng, y_eng, test_size=0.2, random_state=42, stratify=y_eng\n",
        ")\n",
        "\n",
        "# Create the full pipeline with the same classifier for a fair comparison\n",
        "enhanced_model = Pipeline(\n",
        "    steps=[\n",
        "        (\"preprocessor\", preprocessor_eng),\n",
        "        (\"classifier\", LogisticRegression(random_state=42, max_iter=1000)),\n",
        "    ]\n",
        ")\n",
        "\n",
        "# Train and evaluate the enhanced model\n",
        "enhanced_model.fit(X_train_eng, y_train_eng)\n",
        "y_pred_eng = enhanced_model.predict(X_test_eng)\n",
        "\n",
        "print(\"--- Enhanced Model Performance (with Feature Engineering) ---\")\n",
        "print(classification_report(y_test_eng, y_pred_eng))"
      ]
    },
    {
      "cell_type": "markdown",
      "metadata": {
        "id": "comparison_markdown"
      },
      "source": [
        "## Comparison and Final Conclusion"
      ]
    },
    {
      "cell_type": "markdown",
      "metadata": {
        "id": "comparison_summary"
      },
      "source": [
        "**Performance Comparison:**\n",
        "Let's look at the F1-Score for the positive class (Churn = 1), as it's a good balanced metric for our minority class.\n",
        "\n",
        "- **Baseline Model F1-Score (for Churn=1):** ~0.59\n",
        "- **Enhanced Model F1-Score (for Churn=1):** ~0.61\n",
        "- **Overall Accuracy:** Increased from 81% to 82%.\n",
        "\n",
        "**Insight:** Our feature engineering efforts resulted in a tangible improvement in the model's ability to correctly identify customers who will churn. While the overall accuracy lift is modest, the improvement in predicting the positive class is significant. With more advanced features and model tuning, this gap would likely widen further."
      ]
    },
    {
      "cell_type": "code",
      "execution_count": 30,
      "metadata": {
        "colab": {
          "base_uri": "https://localhost:8080/",
          "height": 872
        },
        "id": "feature_importance_code",
        "outputId": "9891b0c2-7215-4cfe-a30c-d95aad066f76"
      },
      "outputs": [
        {
          "data": {
            "image/png": "[encoded data removed]",
            "text/plain": [
              "<Figure size 1200x1000 with 1 Axes>"
            ]
          },
          "metadata": {},
          "output_type": "display_data"
        }
      ],
      "source": [
        "# To get feature importance, let's quickly train a RandomForest model with the engineered data\n",
        "rf_pipeline = Pipeline(\n",
        "    steps=[\n",
        "        (\"preprocessor\", preprocessor_eng),\n",
        "        (\"classifier\", RandomForestClassifier(random_state=42)),\n",
        "    ]\n",
        ")\n",
        "rf_pipeline.fit(X_train_eng, y_train_eng)\n",
        "\n",
        "# Extract feature names after one-hot encoding\n",
        "feature_names = rf_pipeline.named_steps[\"preprocessor\"].get_feature_names_out()\n",
        "importances = rf_pipeline.named_steps[\"classifier\"].feature_importances_\n",
        "\n",
        "feature_importance_df = pd.DataFrame(\n",
        "    {\"Feature\": feature_names, \"Importance\": importances}\n",
        ")\n",
        "feature_importance_df = feature_importance_df.sort_values(\n",
        "    by=\"Importance\", ascending=False\n",
        ").head(15)\n",
        "\n",
        "plt.figure(figsize=(12, 10))\n",
        "sns.barplot(\n",
        "    x=\"Importance\",\n",
        "    y=\"Feature\",\n",
        "    data=feature_importance_df,\n",
        "    palette=\"rocket\",\n",
        "    hue=\"Feature\",\n",
        "    legend=False,\n",
        ")\n",
        "plt.title(\"Top 15 Most Important Features (from Enhanced Model)\")\n",
        "plt.show()"
      ]
    },
    {
      "cell_type": "markdown",
      "metadata": {
        "id": "conclusion_markdown"
      },
      "source": [
        "In this capstone project, we directly demonstrated the value of feature engineering in a real-world classification problem.\n",
        "\n",
        "**Key Steps Undertaken:**\n",
        "1.  **Established a Benchmark:** We created a baseline model to have a clear metric to beat.\n",
        "2.  **Engineered Intelligent Features:** We moved beyond raw data, creating features like `tenure_group` and `num_add_services` that better capture customer behavior.\n",
        "3.  **Proved the Impact:** Our enhanced model showed a measurable improvement in accuracy and, more importantly, in its ability to predict the minority class (customer churn).\n",
        "4.  **Identified Key Drivers:** Feature importance analysis revealed that our engineered features, alongside variables like `Contract`, `TotalCharges`, and `monthly_charge_ratio`, were highly influential in the final prediction.\n",
        "\n",
        "This project serves as a practical blueprint for how to approach a classification task where the quality of features is paramount. It proves that thoughtful feature creation is not just a preliminary step, but a core component of building effective and insightful machine learning models."
      ]
    },
    {
      "cell_type": "markdown",
      "metadata": {
        "id": "tUj4WbkSmJU_"
      },
      "source": [
        "\n",
        "\n",
        "---\n",
        "\n"
      ]
    },
    {
      "cell_type": "markdown",
      "metadata": {
        "id": "Jkl0TvwClmby"
      },
      "source": [
        "## Feature Selection - Refining the Feature Set"
      ]
    },
    {
      "cell_type": "markdown",
      "metadata": {
        "id": "00ea5626"
      },
      "source": [
        "## Perform feature selection\n",
        "\n",
        "### Subtask:\n",
        "Use a method like SelectKBest or RFE within a pipeline to select the most important features from the engineered dataset.\n"
      ]
    },
    {
      "cell_type": "markdown",
      "metadata": {
        "id": "11a2b3f5"
      },
      "source": [
        "**Reasoning**:\n",
        "Instantiate the feature selection model and pipeline, fit it to the training data, and transform the training and test data to select features based on importance.\n",
        "\n"
      ]
    },
    {
      "cell_type": "code",
      "execution_count": 31,
      "metadata": {
        "colab": {
          "base_uri": "https://localhost:8080/"
        },
        "id": "4b766dc6",
        "outputId": "8911cec2-7d56-4b9f-e853-58337cfa1cfc"
      },
      "outputs": [
        {
          "name": "stdout",
          "output_type": "stream",
          "text": [
            "Original training data shape: (5634, 17)\n",
            "Selected training data shape: (5634, 8)\n"
          ]
        }
      ],
      "source": [
        "from sklearn.feature_selection import SelectFromModel\n",
        "from sklearn.ensemble import RandomForestClassifier\n",
        "\n",
        "# Instantiate a RandomForestClassifier to use as the base estimator for feature selection\n",
        "rf_selector = RandomForestClassifier(random_state=42)\n",
        "\n",
        "# Instantiate SelectFromModel\n",
        "# Using 'median' as the threshold means features with importance greater than the median importance will be selected.\n",
        "selector = SelectFromModel(estimator=rf_selector, threshold=\"median\", prefit=False)\n",
        "\n",
        "# Create a pipeline for feature selection\n",
        "feature_selection_pipeline = Pipeline(\n",
        "    steps=[(\"preprocessor\", preprocessor_eng), (\"selector\", selector)]\n",
        ")\n",
        "\n",
        "# Fit the pipeline to the training data\n",
        "feature_selection_pipeline.fit(X_train_eng, y_train_eng)\n",
        "\n",
        "# Transform the training and testing data to get the selected features\n",
        "X_train_selected = feature_selection_pipeline.transform(X_train_eng)\n",
        "X_test_selected = feature_selection_pipeline.transform(X_test_eng)\n",
        "\n",
        "# Print the shapes to compare\n",
        "print(f\"Original training data shape: {X_train_eng.shape}\")\n",
        "print(f\"Selected training data shape: {X_train_selected.shape}\")"
      ]
    },
    {
      "cell_type": "markdown",
      "metadata": {
        "id": "f74f020a"
      },
      "source": [
        "## Train model with selected features\n",
        "\n",
        "### Subtask:\n",
        "Build and train a new model using only the features selected in the previous step.\n"
      ]
    },
    {
      "cell_type": "markdown",
      "metadata": {
        "id": "1f2d47b6"
      },
      "source": [
        "**Reasoning**:\n",
        "Build and train a new model using the selected features by creating a pipeline with the preprocessor and a logistic regression classifier, then fitting it to the selected training data.\n",
        "\n"
      ]
    },
    {
      "cell_type": "code",
      "execution_count": 32,
      "metadata": {
        "colab": {
          "base_uri": "https://localhost:8080/",
          "height": 249
        },
        "id": "9a4c9708",
        "outputId": "aba5feb1-740b-4fad-ca46-1bbde5cfdf5c"
      },
      "outputs": [
        {
          "data": {
            "text/html": [
              "<style>#sk-container-id-1 {\n",
              "  /* Definition of color scheme common for light and dark mode */\n",
              "  --sklearn-color-text: #000;\n",
              "  --sklearn-color-text-muted: #666;\n",
              "  --sklearn-color-line: gray;\n",
              "  /* Definition of color scheme for unfitted estimators */\n",
              "  --sklearn-color-unfitted-level-0: #fff5e6;\n",
              "  --sklearn-color-unfitted-level-1: #f6e4d2;\n",
              "  --sklearn-color-unfitted-level-2: #ffe0b3;\n",
              "  --sklearn-color-unfitted-level-3: chocolate;\n",
              "  /* Definition of color scheme for fitted estimators */\n",
              "  --sklearn-color-fitted-level-0: #f0f8ff;\n",
              "  --sklearn-color-fitted-level-1: #d4ebff;\n",
              "  --sklearn-color-fitted-level-2: #b3dbfd;\n",
              "  --sklearn-color-fitted-level-3: cornflowerblue;\n",
              "\n",
              "  /* Specific color for light theme */\n",
              "  --sklearn-color-text-on-default-background: var(--sg-text-color, var(--theme-code-foreground, var(--jp-content-font-color1, black)));\n",
              "  --sklearn-color-background: var(--sg-background-color, var(--theme-background, var(--jp-layout-color0, white)));\n",
              "  --sklearn-color-border-box: var(--sg-text-color, var(--theme-code-foreground, var(--jp-content-font-color1, black)));\n",
              "  --sklearn-color-icon: #696969;\n",
              "\n",
              "  @media (prefers-color-scheme: dark) {\n",
              "    /* Redefinition of color scheme for dark theme */\n",
              "    --sklearn-color-text-on-default-background: var(--sg-text-color, var(--theme-code-foreground, var(--jp-content-font-color1, white)));\n",
              "    --sklearn-color-background: var(--sg-background-color, var(--theme-background, var(--jp-layout-color0, #111)));\n",
              "    --sklearn-color-border-box: var(--sg-text-color, var(--theme-code-foreground, var(--jp-content-font-color1, white)));\n",
              "    --sklearn-color-icon: #878787;\n",
              "  }\n",
              "}\n",
              "\n",
              "#sk-container-id-1 {\n",
              "  color: var(--sklearn-color-text);\n",
              "}\n",
              "\n",
              "#sk-container-id-1 pre {\n",
              "  padding: 0;\n",
              "}\n",
              "\n",
              "#sk-container-id-1 input.sk-hidden--visually {\n",
              "  border: 0;\n",
              "  clip: rect(1px 1px 1px 1px);\n",
              "  clip: rect(1px, 1px, 1px, 1px);\n",
              "  height: 1px;\n",
              "  margin: -1px;\n",
              "  overflow: hidden;\n",
              "  padding: 0;\n",
              "  position: absolute;\n",
              "  width: 1px;\n",
              "}\n",
              "\n",
              "#sk-container-id-1 div.sk-dashed-wrapped {\n",
              "  border: 1px dashed var(--sklearn-color-line);\n",
              "  margin: 0 0.4em 0.5em 0.4em;\n",
              "  box-sizing: border-box;\n",
              "  padding-bottom: 0.4em;\n",
              "  background-color: var(--sklearn-color-background);\n",
              "}\n",
              "\n",
              "#sk-container-id-1 div.sk-container {\n",
              "  /* jupyter's `normalize.less` sets `[hidden] { display: none; }`\n",
              "     but bootstrap.min.css set `[hidden] { display: none !important; }`\n",
              "     so we also need the `!important` here to be able to override the\n",
              "     default hidden behavior on the sphinx rendered scikit-learn.org.\n",
              "     See: https://github.com/scikit-learn/scikit-learn/issues/21755 */\n",
              "  display: inline-block !important;\n",
              "  position: relative;\n",
              "}\n",
              "\n",
              "#sk-container-id-1 div.sk-text-repr-fallback {\n",
              "  display: none;\n",
              "}\n",
              "\n",
              "div.sk-parallel-item,\n",
              "div.sk-serial,\n",
              "div.sk-item {\n",
              "  /* draw centered vertical line to link estimators */\n",
              "  background-image: linear-gradient(var(--sklearn-color-text-on-default-background), var(--sklearn-color-text-on-default-background));\n",
              "  background-size: 2px 100%;\n",
              "  background-repeat: no-repeat;\n",
              "  background-position: center center;\n",
              "}\n",
              "\n",
              "/* Parallel-specific style estimator block */\n",
              "\n",
              "#sk-container-id-1 div.sk-parallel-item::after {\n",
              "  content: \"\";\n",
              "  width: 100%;\n",
              "  border-bottom: 2px solid var(--sklearn-color-text-on-default-background);\n",
              "  flex-grow: 1;\n",
              "}\n",
              "\n",
              "#sk-container-id-1 div.sk-parallel {\n",
              "  display: flex;\n",
              "  align-items: stretch;\n",
              "  justify-content: center;\n",
              "  background-color: var(--sklearn-color-background);\n",
              "  position: relative;\n",
              "}\n",
              "\n",
              "#sk-container-id-1 div.sk-parallel-item {\n",
              "  display: flex;\n",
              "  flex-direction: column;\n",
              "}\n",
              "\n",
              "#sk-container-id-1 div.sk-parallel-item:first-child::after {\n",
              "  align-self: flex-end;\n",
              "  width: 50%;\n",
              "}\n",
              "\n",
              "#sk-container-id-1 div.sk-parallel-item:last-child::after {\n",
              "  align-self: flex-start;\n",
              "  width: 50%;\n",
              "}\n",
              "\n",
              "#sk-container-id-1 div.sk-parallel-item:only-child::after {\n",
              "  width: 0;\n",
              "}\n",
              "\n",
              "/* Serial-specific style estimator block */\n",
              "\n",
              "#sk-container-id-1 div.sk-serial {\n",
              "  display: flex;\n",
              "  flex-direction: column;\n",
              "  align-items: center;\n",
              "  background-color: var(--sklearn-color-background);\n",
              "  padding-right: 1em;\n",
              "  padding-left: 1em;\n",
              "}\n",
              "\n",
              "\n",
              "/* Toggleable style: style used for estimator/Pipeline/ColumnTransformer box that is\n",
              "clickable and can be expanded/collapsed.\n",
              "- Pipeline and ColumnTransformer use this feature and define the default style\n",
              "- Estimators will overwrite some part of the style using the `sk-estimator` class\n",
              "*/\n",
              "\n",
              "/* Pipeline and ColumnTransformer style (default) */\n",
              "\n",
              "#sk-container-id-1 div.sk-toggleable {\n",
              "  /* Default theme specific background. It is overwritten whether we have a\n",
              "  specific estimator or a Pipeline/ColumnTransformer */\n",
              "  background-color: var(--sklearn-color-background);\n",
              "}\n",
              "\n",
              "/* Toggleable label */\n",
              "#sk-container-id-1 label.sk-toggleable__label {\n",
              "  cursor: pointer;\n",
              "  display: flex;\n",
              "  width: 100%;\n",
              "  margin-bottom: 0;\n",
              "  padding: 0.5em;\n",
              "  box-sizing: border-box;\n",
              "  text-align: center;\n",
              "  align-items: start;\n",
              "  justify-content: space-between;\n",
              "  gap: 0.5em;\n",
              "}\n",
              "\n",
              "#sk-container-id-1 label.sk-toggleable__label .caption {\n",
              "  font-size: 0.6rem;\n",
              "  font-weight: lighter;\n",
              "  color: var(--sklearn-color-text-muted);\n",
              "}\n",
              "\n",
              "#sk-container-id-1 label.sk-toggleable__label-arrow:before {\n",
              "  /* Arrow on the left of the label */\n",
              "  content: \"▸\";\n",
              "  float: left;\n",
              "  margin-right: 0.25em;\n",
              "  color: var(--sklearn-color-icon);\n",
              "}\n",
              "\n",
              "#sk-container-id-1 label.sk-toggleable__label-arrow:hover:before {\n",
              "  color: var(--sklearn-color-text);\n",
              "}\n",
              "\n",
              "/* Toggleable content - dropdown */\n",
              "\n",
              "#sk-container-id-1 div.sk-toggleable__content {\n",
              "  display: none;\n",
              "  text-align: left;\n",
              "  /* unfitted */\n",
              "  background-color: var(--sklearn-color-unfitted-level-0);\n",
              "}\n",
              "\n",
              "#sk-container-id-1 div.sk-toggleable__content.fitted {\n",
              "  /* fitted */\n",
              "  background-color: var(--sklearn-color-fitted-level-0);\n",
              "}\n",
              "\n",
              "#sk-container-id-1 div.sk-toggleable__content pre {\n",
              "  margin: 0.2em;\n",
              "  border-radius: 0.25em;\n",
              "  color: var(--sklearn-color-text);\n",
              "  /* unfitted */\n",
              "  background-color: var(--sklearn-color-unfitted-level-0);\n",
              "}\n",
              "\n",
              "#sk-container-id-1 div.sk-toggleable__content.fitted pre {\n",
              "  /* unfitted */\n",
              "  background-color: var(--sklearn-color-fitted-level-0);\n",
              "}\n",
              "\n",
              "#sk-container-id-1 input.sk-toggleable__control:checked~div.sk-toggleable__content {\n",
              "  /* Expand drop-down */\n",
              "  display: block;\n",
              "  width: 100%;\n",
              "  overflow: visible;\n",
              "}\n",
              "\n",
              "#sk-container-id-1 input.sk-toggleable__control:checked~label.sk-toggleable__label-arrow:before {\n",
              "  content: \"▾\";\n",
              "}\n",
              "\n",
              "/* Pipeline/ColumnTransformer-specific style */\n",
              "\n",
              "#sk-container-id-1 div.sk-label input.sk-toggleable__control:checked~label.sk-toggleable__label {\n",
              "  color: var(--sklearn-color-text);\n",
              "  background-color: var(--sklearn-color-unfitted-level-2);\n",
              "}\n",
              "\n",
              "#sk-container-id-1 div.sk-label.fitted input.sk-toggleable__control:checked~label.sk-toggleable__label {\n",
              "  background-color: var(--sklearn-color-fitted-level-2);\n",
              "}\n",
              "\n",
              "/* Estimator-specific style */\n",
              "\n",
              "/* Colorize estimator box */\n",
              "#sk-container-id-1 div.sk-estimator input.sk-toggleable__control:checked~label.sk-toggleable__label {\n",
              "  /* unfitted */\n",
              "  background-color: var(--sklearn-color-unfitted-level-2);\n",
              "}\n",
              "\n",
              "#sk-container-id-1 div.sk-estimator.fitted input.sk-toggleable__control:checked~label.sk-toggleable__label {\n",
              "  /* fitted */\n",
              "  background-color: var(--sklearn-color-fitted-level-2);\n",
              "}\n",
              "\n",
              "#sk-container-id-1 div.sk-label label.sk-toggleable__label,\n",
              "#sk-container-id-1 div.sk-label label {\n",
              "  /* The background is the default theme color */\n",
              "  color: var(--sklearn-color-text-on-default-background);\n",
              "}\n",
              "\n",
              "/* On hover, darken the color of the background */\n",
              "#sk-container-id-1 div.sk-label:hover label.sk-toggleable__label {\n",
              "  color: var(--sklearn-color-text);\n",
              "  background-color: var(--sklearn-color-unfitted-level-2);\n",
              "}\n",
              "\n",
              "/* Label box, darken color on hover, fitted */\n",
              "#sk-container-id-1 div.sk-label.fitted:hover label.sk-toggleable__label.fitted {\n",
              "  color: var(--sklearn-color-text);\n",
              "  background-color: var(--sklearn-color-fitted-level-2);\n",
              "}\n",
              "\n",
              "/* Estimator label */\n",
              "\n",
              "#sk-container-id-1 div.sk-label label {\n",
              "  font-family: monospace;\n",
              "  font-weight: bold;\n",
              "  display: inline-block;\n",
              "  line-height: 1.2em;\n",
              "}\n",
              "\n",
              "#sk-container-id-1 div.sk-label-container {\n",
              "  text-align: center;\n",
              "}\n",
              "\n",
              "/* Estimator-specific */\n",
              "#sk-container-id-1 div.sk-estimator {\n",
              "  font-family: monospace;\n",
              "  border: 1px dotted var(--sklearn-color-border-box);\n",
              "  border-radius: 0.25em;\n",
              "  box-sizing: border-box;\n",
              "  margin-bottom: 0.5em;\n",
              "  /* unfitted */\n",
              "  background-color: var(--sklearn-color-unfitted-level-0);\n",
              "}\n",
              "\n",
              "#sk-container-id-1 div.sk-estimator.fitted {\n",
              "  /* fitted */\n",
              "  background-color: var(--sklearn-color-fitted-level-0);\n",
              "}\n",
              "\n",
              "/* on hover */\n",
              "#sk-container-id-1 div.sk-estimator:hover {\n",
              "  /* unfitted */\n",
              "  background-color: var(--sklearn-color-unfitted-level-2);\n",
              "}\n",
              "\n",
              "#sk-container-id-1 div.sk-estimator.fitted:hover {\n",
              "  /* fitted */\n",
              "  background-color: var(--sklearn-color-fitted-level-2);\n",
              "}\n",
              "\n",
              "/* Specification for estimator info (e.g. \"i\" and \"?\") */\n",
              "\n",
              "/* Common style for \"i\" and \"?\" */\n",
              "\n",
              ".sk-estimator-doc-link,\n",
              "a:link.sk-estimator-doc-link,\n",
              "a:visited.sk-estimator-doc-link {\n",
              "  float: right;\n",
              "  font-size: smaller;\n",
              "  line-height: 1em;\n",
              "  font-family: monospace;\n",
              "  background-color: var(--sklearn-color-background);\n",
              "  border-radius: 1em;\n",
              "  height: 1em;\n",
              "  width: 1em;\n",
              "  text-decoration: none !important;\n",
              "  margin-left: 0.5em;\n",
              "  text-align: center;\n",
              "  /* unfitted */\n",
              "  border: var(--sklearn-color-unfitted-level-1) 1pt solid;\n",
              "  color: var(--sklearn-color-unfitted-level-1);\n",
              "}\n",
              "\n",
              ".sk-estimator-doc-link.fitted,\n",
              "a:link.sk-estimator-doc-link.fitted,\n",
              "a:visited.sk-estimator-doc-link.fitted {\n",
              "  /* fitted */\n",
              "  border: var(--sklearn-color-fitted-level-1) 1pt solid;\n",
              "  color: var(--sklearn-color-fitted-level-1);\n",
              "}\n",
              "\n",
              "/* On hover */\n",
              "div.sk-estimator:hover .sk-estimator-doc-link:hover,\n",
              ".sk-estimator-doc-link:hover,\n",
              "div.sk-label-container:hover .sk-estimator-doc-link:hover,\n",
              ".sk-estimator-doc-link:hover {\n",
              "  /* unfitted */\n",
              "  background-color: var(--sklearn-color-unfitted-level-3);\n",
              "  color: var(--sklearn-color-background);\n",
              "  text-decoration: none;\n",
              "}\n",
              "\n",
              "div.sk-estimator.fitted:hover .sk-estimator-doc-link.fitted:hover,\n",
              ".sk-estimator-doc-link.fitted:hover,\n",
              "div.sk-label-container:hover .sk-estimator-doc-link.fitted:hover,\n",
              ".sk-estimator-doc-link.fitted:hover {\n",
              "  /* fitted */\n",
              "  background-color: var(--sklearn-color-fitted-level-3);\n",
              "  color: var(--sklearn-color-background);\n",
              "  text-decoration: none;\n",
              "}\n",
              "\n",
              "/* Span, style for the box shown on hovering the info icon */\n",
              ".sk-estimator-doc-link span {\n",
              "  display: none;\n",
              "  z-index: 9999;\n",
              "  position: relative;\n",
              "  font-weight: normal;\n",
              "  right: .2ex;\n",
              "  padding: .5ex;\n",
              "  margin: .5ex;\n",
              "  width: min-content;\n",
              "  min-width: 20ex;\n",
              "  max-width: 50ex;\n",
              "  color: var(--sklearn-color-text);\n",
              "  box-shadow: 2pt 2pt 4pt #999;\n",
              "  /* unfitted */\n",
              "  background: var(--sklearn-color-unfitted-level-0);\n",
              "  border: .5pt solid var(--sklearn-color-unfitted-level-3);\n",
              "}\n",
              "\n",
              ".sk-estimator-doc-link.fitted span {\n",
              "  /* fitted */\n",
              "  background: var(--sklearn-color-fitted-level-0);\n",
              "  border: var(--sklearn-color-fitted-level-3);\n",
              "}\n",
              "\n",
              ".sk-estimator-doc-link:hover span {\n",
              "  display: block;\n",
              "}\n",
              "\n",
              "/* \"?\"-specific style due to the `<a>` HTML tag */\n",
              "\n",
              "#sk-container-id-1 a.estimator_doc_link {\n",
              "  float: right;\n",
              "  font-size: 1rem;\n",
              "  line-height: 1em;\n",
              "  font-family: monospace;\n",
              "  background-color: var(--sklearn-color-background);\n",
              "  border-radius: 1rem;\n",
              "  height: 1rem;\n",
              "  width: 1rem;\n",
              "  text-decoration: none;\n",
              "  /* unfitted */\n",
              "  color: var(--sklearn-color-unfitted-level-1);\n",
              "  border: var(--sklearn-color-unfitted-level-1) 1pt solid;\n",
              "}\n",
              "\n",
              "#sk-container-id-1 a.estimator_doc_link.fitted {\n",
              "  /* fitted */\n",
              "  border: var(--sklearn-color-fitted-level-1) 1pt solid;\n",
              "  color: var(--sklearn-color-fitted-level-1);\n",
              "}\n",
              "\n",
              "/* On hover */\n",
              "#sk-container-id-1 a.estimator_doc_link:hover {\n",
              "  /* unfitted */\n",
              "  background-color: var(--sklearn-color-unfitted-level-3);\n",
              "  color: var(--sklearn-color-background);\n",
              "  text-decoration: none;\n",
              "}\n",
              "\n",
              "#sk-container-id-1 a.estimator_doc_link.fitted:hover {\n",
              "  /* fitted */\n",
              "  background-color: var(--sklearn-color-fitted-level-3);\n",
              "}\n",
              "\n",
              ".estimator-table summary {\n",
              "    padding: .5rem;\n",
              "    font-family: monospace;\n",
              "    cursor: pointer;\n",
              "}\n",
              "\n",
              ".estimator-table details[open] {\n",
              "    padding-left: 0.1rem;\n",
              "    padding-right: 0.1rem;\n",
              "    padding-bottom: 0.3rem;\n",
              "}\n",
              "\n",
              ".estimator-table .parameters-table {\n",
              "    margin-left: auto !important;\n",
              "    margin-right: auto !important;\n",
              "}\n",
              "\n",
              ".estimator-table .parameters-table tr:nth-child(odd) {\n",
              "    background-color: #fff;\n",
              "}\n",
              "\n",
              ".estimator-table .parameters-table tr:nth-child(even) {\n",
              "    background-color: #f6f6f6;\n",
              "}\n",
              "\n",
              ".estimator-table .parameters-table tr:hover {\n",
              "    background-color: #e0e0e0;\n",
              "}\n",
              "\n",
              ".estimator-table table td {\n",
              "    border: 1px solid rgba(106, 105, 104, 0.232);\n",
              "}\n",
              "\n",
              ".user-set td {\n",
              "    color:rgb(255, 94, 0);\n",
              "    text-align: left;\n",
              "}\n",
              "\n",
              ".user-set td.value pre {\n",
              "    color:rgb(255, 94, 0) !important;\n",
              "    background-color: transparent !important;\n",
              "}\n",
              "\n",
              ".default td {\n",
              "    color: black;\n",
              "    text-align: left;\n",
              "}\n",
              "\n",
              ".user-set td i,\n",
              ".default td i {\n",
              "    color: black;\n",
              "}\n",
              "\n",
              ".copy-paste-icon {\n",
              "    background-image: url(data:image/svg+xml;base64,PHN2ZyB4bWxucz0iaHR0cDovL3d3dy53My5vcmcvMjAwMC9zdmciIHZpZXdCb3g9IjAgMCA0NDggNTEyIj48IS0tIUZvbnQgQXdlc29tZSBGcmVlIDYuNy4yIGJ5IEBmb250YXdlc29tZSAtIGh0dHBzOi8vZm9udGF3ZXNvbWUuY29tIExpY2Vuc2UgLSBodHRwczovL2ZvbnRhd2Vzb21lLmNvbS9saWNlbnNlL2ZyZWUgQ29weXJpZ2h0IDIwMjUgRm9udGljb25zLCBJbmMuLS0+PHBhdGggZD0iTTIwOCAwTDMzMi4xIDBjMTIuNyAwIDI0LjkgNS4xIDMzLjkgMTQuMWw2Ny45IDY3LjljOSA5IDE0LjEgMjEuMiAxNC4xIDMzLjlMNDQ4IDMzNmMwIDI2LjUtMjEuNSA0OC00OCA0OGwtMTkyIDBjLTI2LjUgMC00OC0yMS41LTQ4LTQ4bDAtMjg4YzAtMjYuNSAyMS41LTQ4IDQ4LTQ4ek00OCAxMjhsODAgMCAwIDY0LTY0IDAgMCAyNTYgMTkyIDAgMC0zMiA2NCAwIDAgNDhjMCAyNi41LTIxLjUgNDgtNDggNDhMNDggNTEyYy0yNi41IDAtNDgtMjEuNS00OC00OEwwIDE3NmMwLTI2LjUgMjEuNS00OCA0OC00OHoiLz48L3N2Zz4=);\n",
              "    background-repeat: no-repeat;\n",
              "    background-size: 14px 14px;\n",
              "    background-position: 0;\n",
              "    display: inline-block;\n",
              "    width: 14px;\n",
              "    height: 14px;\n",
              "    cursor: pointer;\n",
              "}\n",
              "</style><body><div id=\"sk-container-id-1\" class=\"sk-top-container\"><div class=\"sk-text-repr-fallback\"><pre>Pipeline(steps=[(&#x27;preprocessor&#x27;,\n",
              "                 ColumnTransformer(transformers=[(&#x27;num&#x27;, StandardScaler(),\n",
              "                                                  [&#x27;SeniorCitizen&#x27;,\n",
              "                                                   &#x27;MonthlyCharges&#x27;,\n",
              "                                                   &#x27;TotalCharges&#x27;,\n",
              "                                                   &#x27;num_add_services&#x27;,\n",
              "                                                   &#x27;monthly_charge_ratio&#x27;,\n",
              "                                                   &#x27;tenure * MonthlyCharges&#x27;]),\n",
              "                                                 (&#x27;cat&#x27;, OrdinalEncoder(),\n",
              "                                                  [&#x27;gender&#x27;, &#x27;Partner&#x27;,\n",
              "                                                   &#x27;Dependents&#x27;, &#x27;PhoneService&#x27;,\n",
              "                                                   &#x27;MultipleLines&#x27;,\n",
              "                                                   &#x27;InternetService&#x27;,\n",
              "                                                   &#x27;Contract&#x27;,\n",
              "                                                   &#x27;PaperlessBilling&#x27;,\n",
              "                                                   &#x27;tenure_group&#x27;,\n",
              "                                                   &#x27;Family Clusters&#x27;])])),\n",
              "                (&#x27;classifier&#x27;,\n",
              "                 LogisticRegression(max_iter=1000, random_state=42))])</pre><b>In a Jupyter environment, please rerun this cell to show the HTML representation or trust the notebook. <br />On GitHub, the HTML representation is unable to render, please try loading this page with nbviewer.org.</b></div><div class=\"sk-container\" hidden><div class=\"sk-item sk-dashed-wrapped\"><div class=\"sk-label-container\"><div class=\"sk-label fitted sk-toggleable\"><input class=\"sk-toggleable__control sk-hidden--visually\" id=\"sk-estimator-id-1\" type=\"checkbox\" ><label for=\"sk-estimator-id-1\" class=\"sk-toggleable__label fitted sk-toggleable__label-arrow\"><div><div>Pipeline</div></div><div><a class=\"sk-estimator-doc-link fitted\" rel=\"noreferrer\" target=\"_blank\" href=\"https://scikit-learn.org/1.7/modules/generated/sklearn.pipeline.Pipeline.html\">?<span>Documentation for Pipeline</span></a><span class=\"sk-estimator-doc-link fitted\">i<span>Fitted</span></span></div></label><div class=\"sk-toggleable__content fitted\" data-param-prefix=\"\">\n",
              "        <div class=\"estimator-table\">\n",
              "            <details>\n",
              "                <summary>Parameters</summary>\n",
              "                <table class=\"parameters-table\">\n",
              "                  <tbody>\n",
              "                    \n",
              "        <tr class=\"user-set\">\n",
              "            <td><i class=\"copy-paste-icon\"\n",
              "                 onclick=\"copyToClipboard('steps',\n",
              "                          this.parentElement.nextElementSibling)\"\n",
              "            ></i></td>\n",
              "            <td class=\"param\">steps&nbsp;</td>\n",
              "            <td class=\"value\">[(&#x27;preprocessor&#x27;, ...), (&#x27;classifier&#x27;, ...)]</td>\n",
              "        </tr>\n",
              "    \n",
              "\n",
              "        <tr class=\"default\">\n",
              "            <td><i class=\"copy-paste-icon\"\n",
              "                 onclick=\"copyToClipboard('transform_input',\n",
              "                          this.parentElement.nextElementSibling)\"\n",
              "            ></i></td>\n",
              "            <td class=\"param\">transform_input&nbsp;</td>\n",
              "            <td class=\"value\">None</td>\n",
              "        </tr>\n",
              "    \n",
              "\n",
              "        <tr class=\"default\">\n",
              "            <td><i class=\"copy-paste-icon\"\n",
              "                 onclick=\"copyToClipboard('memory',\n",
              "                          this.parentElement.nextElementSibling)\"\n",
              "            ></i></td>\n",
              "            <td class=\"param\">memory&nbsp;</td>\n",
              "            <td class=\"value\">None</td>\n",
              "        </tr>\n",
              "    \n",
              "\n",
              "        <tr class=\"default\">\n",
              "            <td><i class=\"copy-paste-icon\"\n",
              "                 onclick=\"copyToClipboard('verbose',\n",
              "                          this.parentElement.nextElementSibling)\"\n",
              "            ></i></td>\n",
              "            <td class=\"param\">verbose&nbsp;</td>\n",
              "            <td class=\"value\">False</td>\n",
              "        </tr>\n",
              "    \n",
              "                  </tbody>\n",
              "                </table>\n",
              "            </details>\n",
              "        </div>\n",
              "    </div></div></div><div class=\"sk-serial\"><div class=\"sk-item sk-dashed-wrapped\"><div class=\"sk-label-container\"><div class=\"sk-label fitted sk-toggleable\"><input class=\"sk-toggleable__control sk-hidden--visually\" id=\"sk-estimator-id-2\" type=\"checkbox\" ><label for=\"sk-estimator-id-2\" class=\"sk-toggleable__label fitted sk-toggleable__label-arrow\"><div><div>preprocessor: ColumnTransformer</div></div><div><a class=\"sk-estimator-doc-link fitted\" rel=\"noreferrer\" target=\"_blank\" href=\"https://scikit-learn.org/1.7/modules/generated/sklearn.compose.ColumnTransformer.html\">?<span>Documentation for preprocessor: ColumnTransformer</span></a></div></label><div class=\"sk-toggleable__content fitted\" data-param-prefix=\"preprocessor__\">\n",
              "        <div class=\"estimator-table\">\n",
              "            <details>\n",
              "                <summary>Parameters</summary>\n",
              "                <table class=\"parameters-table\">\n",
              "                  <tbody>\n",
              "                    \n",
              "        <tr class=\"user-set\">\n",
              "            <td><i class=\"copy-paste-icon\"\n",
              "                 onclick=\"copyToClipboard('transformers',\n",
              "                          this.parentElement.nextElementSibling)\"\n",
              "            ></i></td>\n",
              "            <td class=\"param\">transformers&nbsp;</td>\n",
              "            <td class=\"value\">[(&#x27;num&#x27;, ...), (&#x27;cat&#x27;, ...)]</td>\n",
              "        </tr>\n",
              "    \n",
              "\n",
              "        <tr class=\"default\">\n",
              "            <td><i class=\"copy-paste-icon\"\n",
              "                 onclick=\"copyToClipboard('remainder',\n",
              "                          this.parentElement.nextElementSibling)\"\n",
              "            ></i></td>\n",
              "            <td class=\"param\">remainder&nbsp;</td>\n",
              "            <td class=\"value\">&#x27;drop&#x27;</td>\n",
              "        </tr>\n",
              "    \n",
              "\n",
              "        <tr class=\"default\">\n",
              "            <td><i class=\"copy-paste-icon\"\n",
              "                 onclick=\"copyToClipboard('sparse_threshold',\n",
              "                          this.parentElement.nextElementSibling)\"\n",
              "            ></i></td>\n",
              "            <td class=\"param\">sparse_threshold&nbsp;</td>\n",
              "            <td class=\"value\">0.3</td>\n",
              "        </tr>\n",
              "    \n",
              "\n",
              "        <tr class=\"default\">\n",
              "            <td><i class=\"copy-paste-icon\"\n",
              "                 onclick=\"copyToClipboard('n_jobs',\n",
              "                          this.parentElement.nextElementSibling)\"\n",
              "            ></i></td>\n",
              "            <td class=\"param\">n_jobs&nbsp;</td>\n",
              "            <td class=\"value\">None</td>\n",
              "        </tr>\n",
              "    \n",
              "\n",
              "        <tr class=\"default\">\n",
              "            <td><i class=\"copy-paste-icon\"\n",
              "                 onclick=\"copyToClipboard('transformer_weights',\n",
              "                          this.parentElement.nextElementSibling)\"\n",
              "            ></i></td>\n",
              "            <td class=\"param\">transformer_weights&nbsp;</td>\n",
              "            <td class=\"value\">None</td>\n",
              "        </tr>\n",
              "    \n",
              "\n",
              "        <tr class=\"default\">\n",
              "            <td><i class=\"copy-paste-icon\"\n",
              "                 onclick=\"copyToClipboard('verbose',\n",
              "                          this.parentElement.nextElementSibling)\"\n",
              "            ></i></td>\n",
              "            <td class=\"param\">verbose&nbsp;</td>\n",
              "            <td class=\"value\">False</td>\n",
              "        </tr>\n",
              "    \n",
              "\n",
              "        <tr class=\"default\">\n",
              "            <td><i class=\"copy-paste-icon\"\n",
              "                 onclick=\"copyToClipboard('verbose_feature_names_out',\n",
              "                          this.parentElement.nextElementSibling)\"\n",
              "            ></i></td>\n",
              "            <td class=\"param\">verbose_feature_names_out&nbsp;</td>\n",
              "            <td class=\"value\">True</td>\n",
              "        </tr>\n",
              "    \n",
              "\n",
              "        <tr class=\"default\">\n",
              "            <td><i class=\"copy-paste-icon\"\n",
              "                 onclick=\"copyToClipboard('force_int_remainder_cols',\n",
              "                          this.parentElement.nextElementSibling)\"\n",
              "            ></i></td>\n",
              "            <td class=\"param\">force_int_remainder_cols&nbsp;</td>\n",
              "            <td class=\"value\">&#x27;deprecated&#x27;</td>\n",
              "        </tr>\n",
              "    \n",
              "                  </tbody>\n",
              "                </table>\n",
              "            </details>\n",
              "        </div>\n",
              "    </div></div></div><div class=\"sk-parallel\"><div class=\"sk-parallel-item\"><div class=\"sk-item\"><div class=\"sk-label-container\"><div class=\"sk-label fitted sk-toggleable\"><input class=\"sk-toggleable__control sk-hidden--visually\" id=\"sk-estimator-id-3\" type=\"checkbox\" ><label for=\"sk-estimator-id-3\" class=\"sk-toggleable__label fitted sk-toggleable__label-arrow\"><div><div>num</div></div></label><div class=\"sk-toggleable__content fitted\" data-param-prefix=\"preprocessor__num__\"><pre>[&#x27;SeniorCitizen&#x27;, &#x27;MonthlyCharges&#x27;, &#x27;TotalCharges&#x27;, &#x27;num_add_services&#x27;, &#x27;monthly_charge_ratio&#x27;, &#x27;tenure * MonthlyCharges&#x27;]</pre></div></div></div><div class=\"sk-serial\"><div class=\"sk-item\"><div class=\"sk-estimator fitted sk-toggleable\"><input class=\"sk-toggleable__control sk-hidden--visually\" id=\"sk-estimator-id-4\" type=\"checkbox\" ><label for=\"sk-estimator-id-4\" class=\"sk-toggleable__label fitted sk-toggleable__label-arrow\"><div><div>StandardScaler</div></div><div><a class=\"sk-estimator-doc-link fitted\" rel=\"noreferrer\" target=\"_blank\" href=\"https://scikit-learn.org/1.7/modules/generated/sklearn.preprocessing.StandardScaler.html\">?<span>Documentation for StandardScaler</span></a></div></label><div class=\"sk-toggleable__content fitted\" data-param-prefix=\"preprocessor__num__\">\n",
              "        <div class=\"estimator-table\">\n",
              "            <details>\n",
              "                <summary>Parameters</summary>\n",
              "                <table class=\"parameters-table\">\n",
              "                  <tbody>\n",
              "                    \n",
              "        <tr class=\"default\">\n",
              "            <td><i class=\"copy-paste-icon\"\n",
              "                 onclick=\"copyToClipboard('copy',\n",
              "                          this.parentElement.nextElementSibling)\"\n",
              "            ></i></td>\n",
              "            <td class=\"param\">copy&nbsp;</td>\n",
              "            <td class=\"value\">True</td>\n",
              "        </tr>\n",
              "    \n",
              "\n",
              "        <tr class=\"default\">\n",
              "            <td><i class=\"copy-paste-icon\"\n",
              "                 onclick=\"copyToClipboard('with_mean',\n",
              "                          this.parentElement.nextElementSibling)\"\n",
              "            ></i></td>\n",
              "            <td class=\"param\">with_mean&nbsp;</td>\n",
              "            <td class=\"value\">True</td>\n",
              "        </tr>\n",
              "    \n",
              "\n",
              "        <tr class=\"default\">\n",
              "            <td><i class=\"copy-paste-icon\"\n",
              "                 onclick=\"copyToClipboard('with_std',\n",
              "                          this.parentElement.nextElementSibling)\"\n",
              "            ></i></td>\n",
              "            <td class=\"param\">with_std&nbsp;</td>\n",
              "            <td class=\"value\">True</td>\n",
              "        </tr>\n",
              "    \n",
              "                  </tbody>\n",
              "                </table>\n",
              "            </details>\n",
              "        </div>\n",
              "    </div></div></div></div></div></div><div class=\"sk-parallel-item\"><div class=\"sk-item\"><div class=\"sk-label-container\"><div class=\"sk-label fitted sk-toggleable\"><input class=\"sk-toggleable__control sk-hidden--visually\" id=\"sk-estimator-id-5\" type=\"checkbox\" ><label for=\"sk-estimator-id-5\" class=\"sk-toggleable__label fitted sk-toggleable__label-arrow\"><div><div>cat</div></div></label><div class=\"sk-toggleable__content fitted\" data-param-prefix=\"preprocessor__cat__\"><pre>[&#x27;gender&#x27;, &#x27;Partner&#x27;, &#x27;Dependents&#x27;, &#x27;PhoneService&#x27;, &#x27;MultipleLines&#x27;, &#x27;InternetService&#x27;, &#x27;Contract&#x27;, &#x27;PaperlessBilling&#x27;, &#x27;tenure_group&#x27;, &#x27;Family Clusters&#x27;]</pre></div></div></div><div class=\"sk-serial\"><div class=\"sk-item\"><div class=\"sk-estimator fitted sk-toggleable\"><input class=\"sk-toggleable__control sk-hidden--visually\" id=\"sk-estimator-id-6\" type=\"checkbox\" ><label for=\"sk-estimator-id-6\" class=\"sk-toggleable__label fitted sk-toggleable__label-arrow\"><div><div>OrdinalEncoder</div></div><div><a class=\"sk-estimator-doc-link fitted\" rel=\"noreferrer\" target=\"_blank\" href=\"https://scikit-learn.org/1.7/modules/generated/sklearn.preprocessing.OrdinalEncoder.html\">?<span>Documentation for OrdinalEncoder</span></a></div></label><div class=\"sk-toggleable__content fitted\" data-param-prefix=\"preprocessor__cat__\">\n",
              "        <div class=\"estimator-table\">\n",
              "            <details>\n",
              "                <summary>Parameters</summary>\n",
              "                <table class=\"parameters-table\">\n",
              "                  <tbody>\n",
              "                    \n",
              "        <tr class=\"default\">\n",
              "            <td><i class=\"copy-paste-icon\"\n",
              "                 onclick=\"copyToClipboard('categories',\n",
              "                          this.parentElement.nextElementSibling)\"\n",
              "            ></i></td>\n",
              "            <td class=\"param\">categories&nbsp;</td>\n",
              "            <td class=\"value\">&#x27;auto&#x27;</td>\n",
              "        </tr>\n",
              "    \n",
              "\n",
              "        <tr class=\"default\">\n",
              "            <td><i class=\"copy-paste-icon\"\n",
              "                 onclick=\"copyToClipboard('dtype',\n",
              "                          this.parentElement.nextElementSibling)\"\n",
              "            ></i></td>\n",
              "            <td class=\"param\">dtype&nbsp;</td>\n",
              "            <td class=\"value\">&lt;class &#x27;numpy.float64&#x27;&gt;</td>\n",
              "        </tr>\n",
              "    \n",
              "\n",
              "        <tr class=\"default\">\n",
              "            <td><i class=\"copy-paste-icon\"\n",
              "                 onclick=\"copyToClipboard('handle_unknown',\n",
              "                          this.parentElement.nextElementSibling)\"\n",
              "            ></i></td>\n",
              "            <td class=\"param\">handle_unknown&nbsp;</td>\n",
              "            <td class=\"value\">&#x27;error&#x27;</td>\n",
              "        </tr>\n",
              "    \n",
              "\n",
              "        <tr class=\"default\">\n",
              "            <td><i class=\"copy-paste-icon\"\n",
              "                 onclick=\"copyToClipboard('unknown_value',\n",
              "                          this.parentElement.nextElementSibling)\"\n",
              "            ></i></td>\n",
              "            <td class=\"param\">unknown_value&nbsp;</td>\n",
              "            <td class=\"value\">None</td>\n",
              "        </tr>\n",
              "    \n",
              "\n",
              "        <tr class=\"default\">\n",
              "            <td><i class=\"copy-paste-icon\"\n",
              "                 onclick=\"copyToClipboard('encoded_missing_value',\n",
              "                          this.parentElement.nextElementSibling)\"\n",
              "            ></i></td>\n",
              "            <td class=\"param\">encoded_missing_value&nbsp;</td>\n",
              "            <td class=\"value\">nan</td>\n",
              "        </tr>\n",
              "    \n",
              "\n",
              "        <tr class=\"default\">\n",
              "            <td><i class=\"copy-paste-icon\"\n",
              "                 onclick=\"copyToClipboard('min_frequency',\n",
              "                          this.parentElement.nextElementSibling)\"\n",
              "            ></i></td>\n",
              "            <td class=\"param\">min_frequency&nbsp;</td>\n",
              "            <td class=\"value\">None</td>\n",
              "        </tr>\n",
              "    \n",
              "\n",
              "        <tr class=\"default\">\n",
              "            <td><i class=\"copy-paste-icon\"\n",
              "                 onclick=\"copyToClipboard('max_categories',\n",
              "                          this.parentElement.nextElementSibling)\"\n",
              "            ></i></td>\n",
              "            <td class=\"param\">max_categories&nbsp;</td>\n",
              "            <td class=\"value\">None</td>\n",
              "        </tr>\n",
              "    \n",
              "                  </tbody>\n",
              "                </table>\n",
              "            </details>\n",
              "        </div>\n",
              "    </div></div></div></div></div></div></div></div><div class=\"sk-item\"><div class=\"sk-estimator fitted sk-toggleable\"><input class=\"sk-toggleable__control sk-hidden--visually\" id=\"sk-estimator-id-7\" type=\"checkbox\" ><label for=\"sk-estimator-id-7\" class=\"sk-toggleable__label fitted sk-toggleable__label-arrow\"><div><div>LogisticRegression</div></div><div><a class=\"sk-estimator-doc-link fitted\" rel=\"noreferrer\" target=\"_blank\" href=\"https://scikit-learn.org/1.7/modules/generated/sklearn.linear_model.LogisticRegression.html\">?<span>Documentation for LogisticRegression</span></a></div></label><div class=\"sk-toggleable__content fitted\" data-param-prefix=\"classifier__\">\n",
              "        <div class=\"estimator-table\">\n",
              "            <details>\n",
              "                <summary>Parameters</summary>\n",
              "                <table class=\"parameters-table\">\n",
              "                  <tbody>\n",
              "                    \n",
              "        <tr class=\"default\">\n",
              "            <td><i class=\"copy-paste-icon\"\n",
              "                 onclick=\"copyToClipboard('penalty',\n",
              "                          this.parentElement.nextElementSibling)\"\n",
              "            ></i></td>\n",
              "            <td class=\"param\">penalty&nbsp;</td>\n",
              "            <td class=\"value\">&#x27;l2&#x27;</td>\n",
              "        </tr>\n",
              "    \n",
              "\n",
              "        <tr class=\"default\">\n",
              "            <td><i class=\"copy-paste-icon\"\n",
              "                 onclick=\"copyToClipboard('dual',\n",
              "                          this.parentElement.nextElementSibling)\"\n",
              "            ></i></td>\n",
              "            <td class=\"param\">dual&nbsp;</td>\n",
              "            <td class=\"value\">False</td>\n",
              "        </tr>\n",
              "    \n",
              "\n",
              "        <tr class=\"default\">\n",
              "            <td><i class=\"copy-paste-icon\"\n",
              "                 onclick=\"copyToClipboard('tol',\n",
              "                          this.parentElement.nextElementSibling)\"\n",
              "            ></i></td>\n",
              "            <td class=\"param\">tol&nbsp;</td>\n",
              "            <td class=\"value\">0.0001</td>\n",
              "        </tr>\n",
              "    \n",
              "\n",
              "        <tr class=\"default\">\n",
              "            <td><i class=\"copy-paste-icon\"\n",
              "                 onclick=\"copyToClipboard('C',\n",
              "                          this.parentElement.nextElementSibling)\"\n",
              "            ></i></td>\n",
              "            <td class=\"param\">C&nbsp;</td>\n",
              "            <td class=\"value\">1.0</td>\n",
              "        </tr>\n",
              "    \n",
              "\n",
              "        <tr class=\"default\">\n",
              "            <td><i class=\"copy-paste-icon\"\n",
              "                 onclick=\"copyToClipboard('fit_intercept',\n",
              "                          this.parentElement.nextElementSibling)\"\n",
              "            ></i></td>\n",
              "            <td class=\"param\">fit_intercept&nbsp;</td>\n",
              "            <td class=\"value\">True</td>\n",
              "        </tr>\n",
              "    \n",
              "\n",
              "        <tr class=\"default\">\n",
              "            <td><i class=\"copy-paste-icon\"\n",
              "                 onclick=\"copyToClipboard('intercept_scaling',\n",
              "                          this.parentElement.nextElementSibling)\"\n",
              "            ></i></td>\n",
              "            <td class=\"param\">intercept_scaling&nbsp;</td>\n",
              "            <td class=\"value\">1</td>\n",
              "        </tr>\n",
              "    \n",
              "\n",
              "        <tr class=\"default\">\n",
              "            <td><i class=\"copy-paste-icon\"\n",
              "                 onclick=\"copyToClipboard('class_weight',\n",
              "                          this.parentElement.nextElementSibling)\"\n",
              "            ></i></td>\n",
              "            <td class=\"param\">class_weight&nbsp;</td>\n",
              "            <td class=\"value\">None</td>\n",
              "        </tr>\n",
              "    \n",
              "\n",
              "        <tr class=\"user-set\">\n",
              "            <td><i class=\"copy-paste-icon\"\n",
              "                 onclick=\"copyToClipboard('random_state',\n",
              "                          this.parentElement.nextElementSibling)\"\n",
              "            ></i></td>\n",
              "            <td class=\"param\">random_state&nbsp;</td>\n",
              "            <td class=\"value\">42</td>\n",
              "        </tr>\n",
              "    \n",
              "\n",
              "        <tr class=\"default\">\n",
              "            <td><i class=\"copy-paste-icon\"\n",
              "                 onclick=\"copyToClipboard('solver',\n",
              "                          this.parentElement.nextElementSibling)\"\n",
              "            ></i></td>\n",
              "            <td class=\"param\">solver&nbsp;</td>\n",
              "            <td class=\"value\">&#x27;lbfgs&#x27;</td>\n",
              "        </tr>\n",
              "    \n",
              "\n",
              "        <tr class=\"user-set\">\n",
              "            <td><i class=\"copy-paste-icon\"\n",
              "                 onclick=\"copyToClipboard('max_iter',\n",
              "                          this.parentElement.nextElementSibling)\"\n",
              "            ></i></td>\n",
              "            <td class=\"param\">max_iter&nbsp;</td>\n",
              "            <td class=\"value\">1000</td>\n",
              "        </tr>\n",
              "    \n",
              "\n",
              "        <tr class=\"default\">\n",
              "            <td><i class=\"copy-paste-icon\"\n",
              "                 onclick=\"copyToClipboard('multi_class',\n",
              "                          this.parentElement.nextElementSibling)\"\n",
              "            ></i></td>\n",
              "            <td class=\"param\">multi_class&nbsp;</td>\n",
              "            <td class=\"value\">&#x27;deprecated&#x27;</td>\n",
              "        </tr>\n",
              "    \n",
              "\n",
              "        <tr class=\"default\">\n",
              "            <td><i class=\"copy-paste-icon\"\n",
              "                 onclick=\"copyToClipboard('verbose',\n",
              "                          this.parentElement.nextElementSibling)\"\n",
              "            ></i></td>\n",
              "            <td class=\"param\">verbose&nbsp;</td>\n",
              "            <td class=\"value\">0</td>\n",
              "        </tr>\n",
              "    \n",
              "\n",
              "        <tr class=\"default\">\n",
              "            <td><i class=\"copy-paste-icon\"\n",
              "                 onclick=\"copyToClipboard('warm_start',\n",
              "                          this.parentElement.nextElementSibling)\"\n",
              "            ></i></td>\n",
              "            <td class=\"param\">warm_start&nbsp;</td>\n",
              "            <td class=\"value\">False</td>\n",
              "        </tr>\n",
              "    \n",
              "\n",
              "        <tr class=\"default\">\n",
              "            <td><i class=\"copy-paste-icon\"\n",
              "                 onclick=\"copyToClipboard('n_jobs',\n",
              "                          this.parentElement.nextElementSibling)\"\n",
              "            ></i></td>\n",
              "            <td class=\"param\">n_jobs&nbsp;</td>\n",
              "            <td class=\"value\">None</td>\n",
              "        </tr>\n",
              "    \n",
              "\n",
              "        <tr class=\"default\">\n",
              "            <td><i class=\"copy-paste-icon\"\n",
              "                 onclick=\"copyToClipboard('l1_ratio',\n",
              "                          this.parentElement.nextElementSibling)\"\n",
              "            ></i></td>\n",
              "            <td class=\"param\">l1_ratio&nbsp;</td>\n",
              "            <td class=\"value\">None</td>\n",
              "        </tr>\n",
              "    \n",
              "                  </tbody>\n",
              "                </table>\n",
              "            </details>\n",
              "        </div>\n",
              "    </div></div></div></div></div></div></div><script>function copyToClipboard(text, element) {\n",
              "    // Get the parameter prefix from the closest toggleable content\n",
              "    const toggleableContent = element.closest('.sk-toggleable__content');\n",
              "    const paramPrefix = toggleableContent ? toggleableContent.dataset.paramPrefix : '';\n",
              "    const fullParamName = paramPrefix ? `${paramPrefix}${text}` : text;\n",
              "\n",
              "    const originalStyle = element.style;\n",
              "    const computedStyle = window.getComputedStyle(element);\n",
              "    const originalWidth = computedStyle.width;\n",
              "    const originalHTML = element.innerHTML.replace('Copied!', '');\n",
              "\n",
              "    navigator.clipboard.writeText(fullParamName)\n",
              "        .then(() => {\n",
              "            element.style.width = originalWidth;\n",
              "            element.style.color = 'green';\n",
              "            element.innerHTML = \"Copied!\";\n",
              "\n",
              "            setTimeout(() => {\n",
              "                element.innerHTML = originalHTML;\n",
              "                element.style = originalStyle;\n",
              "            }, 2000);\n",
              "        })\n",
              "        .catch(err => {\n",
              "            console.error('Failed to copy:', err);\n",
              "            element.style.color = 'red';\n",
              "            element.innerHTML = \"Failed!\";\n",
              "            setTimeout(() => {\n",
              "                element.innerHTML = originalHTML;\n",
              "                element.style = originalStyle;\n",
              "            }, 2000);\n",
              "        });\n",
              "    return false;\n",
              "}\n",
              "\n",
              "document.querySelectorAll('.fa-regular.fa-copy').forEach(function(element) {\n",
              "    const toggleableContent = element.closest('.sk-toggleable__content');\n",
              "    const paramPrefix = toggleableContent ? toggleableContent.dataset.paramPrefix : '';\n",
              "    const paramName = element.parentElement.nextElementSibling.textContent.trim();\n",
              "    const fullParamName = paramPrefix ? `${paramPrefix}${paramName}` : paramName;\n",
              "\n",
              "    element.setAttribute('title', fullParamName);\n",
              "});\n",
              "</script></body>"
            ],
            "text/plain": [
              "Pipeline(steps=[('preprocessor',\n",
              "                 ColumnTransformer(transformers=[('num', StandardScaler(),\n",
              "                                                  ['SeniorCitizen',\n",
              "                                                   'MonthlyCharges',\n",
              "                                                   'TotalCharges',\n",
              "                                                   'num_add_services',\n",
              "                                                   'monthly_charge_ratio',\n",
              "                                                   'tenure * MonthlyCharges']),\n",
              "                                                 ('cat', OrdinalEncoder(),\n",
              "                                                  ['gender', 'Partner',\n",
              "                                                   'Dependents', 'PhoneService',\n",
              "                                                   'MultipleLines',\n",
              "                                                   'InternetService',\n",
              "                                                   'Contract',\n",
              "                                                   'PaperlessBilling',\n",
              "                                                   'tenure_group',\n",
              "                                                   'Family Clusters'])])),\n",
              "                ('classifier',\n",
              "                 LogisticRegression(max_iter=1000, random_state=42))])"
            ]
          },
          "execution_count": 32,
          "metadata": {},
          "output_type": "execute_result"
        }
      ],
      "source": [
        "# Create the full pipeline with the preprocessor and the classifier\n",
        "selected_features_model = Pipeline(\n",
        "    steps=[\n",
        "        (\"preprocessor\", preprocessor_eng),\n",
        "        (\"classifier\", LogisticRegression(random_state=42, max_iter=1000)),\n",
        "    ]\n",
        ")\n",
        "\n",
        "# Train the model using the selected features\n",
        "selected_features_model.fit(X_train_eng, y_train_eng)"
      ]
    },
    {
      "cell_type": "markdown",
      "metadata": {
        "id": "85092934"
      },
      "source": [
        "**Reasoning**:\n",
        "Evaluate the performance of the model trained with selected features and compare it to the baseline and enhanced models by generating a classification report.\n",
        "\n"
      ]
    },
    {
      "cell_type": "code",
      "execution_count": 33,
      "metadata": {
        "colab": {
          "base_uri": "https://localhost:8080/"
        },
        "id": "91f4793c",
        "outputId": "189a16c7-f3fe-4e0e-9eb9-8ddc25ab5d7b"
      },
      "outputs": [
        {
          "name": "stdout",
          "output_type": "stream",
          "text": [
            "--- Model Performance (with Selected Features) ---\n",
            "              precision    recall  f1-score   support\n",
            "\n",
            "           0       0.84      0.91      0.87      1035\n",
            "           1       0.66      0.52      0.58       374\n",
            "\n",
            "    accuracy                           0.80      1409\n",
            "   macro avg       0.75      0.71      0.73      1409\n",
            "weighted avg       0.79      0.80      0.79      1409\n",
            "\n"
          ]
        }
      ],
      "source": [
        "# Predict on the test set with selected features\n",
        "y_pred_selected = selected_features_model.predict(X_test_eng)\n",
        "\n",
        "print(\"--- Model Performance (with Selected Features) ---\")\n",
        "print(classification_report(y_test_eng, y_pred_selected))"
      ]
    },
    {
      "cell_type": "markdown",
      "metadata": {
        "id": "1447c5f1"
      },
      "source": [
        "## Compare model performance\n",
        "\n",
        "### Subtask:\n",
        "Evaluate the performance of the model trained with selected features and compare it to the baseline and enhanced models.\n"
      ]
    },
    {
      "cell_type": "markdown",
      "metadata": {
        "id": "d31516b8"
      },
      "source": [
        "**Reasoning**:\n",
        "Compare the classification report of the model trained with selected features to the baseline and enhanced models and summarize the findings.\n",
        "\n"
      ]
    },
    {
      "cell_type": "code",
      "execution_count": 34,
      "metadata": {
        "colab": {
          "base_uri": "https://localhost:8080/"
        },
        "id": "fd44ab72",
        "outputId": "bdaefdce-5be1-47a1-ac38-c832e9bfbc97"
      },
      "outputs": [
        {
          "name": "stdout",
          "output_type": "stream",
          "text": [
            "--- Baseline Model Performance ---\n",
            "              precision    recall  f1-score   support\n",
            "\n",
            "           0       0.85      0.89      0.87      1035\n",
            "           1       0.66      0.56      0.60       374\n",
            "\n",
            "    accuracy                           0.81      1409\n",
            "   macro avg       0.75      0.73      0.74      1409\n",
            "weighted avg       0.80      0.81      0.80      1409\n",
            "\n",
            "\n",
            "--- Enhanced Model Performance (with Feature Engineering) ---\n",
            "              precision    recall  f1-score   support\n",
            "\n",
            "           0       0.84      0.91      0.87      1035\n",
            "           1       0.66      0.52      0.58       374\n",
            "\n",
            "    accuracy                           0.80      1409\n",
            "   macro avg       0.75      0.71      0.73      1409\n",
            "weighted avg       0.79      0.80      0.79      1409\n",
            "\n",
            "\n",
            "--- Model Performance (with Selected Features) ---\n",
            "              precision    recall  f1-score   support\n",
            "\n",
            "           0       0.84      0.91      0.87      1035\n",
            "           1       0.66      0.52      0.58       374\n",
            "\n",
            "    accuracy                           0.80      1409\n",
            "   macro avg       0.75      0.71      0.73      1409\n",
            "weighted avg       0.79      0.80      0.79      1409\n",
            "\n",
            "\n",
            "--- Performance Summary ---\n",
            "Metric         | Baseline | Enhanced | Selected Features\n",
            "---------------|----------|----------|-------------------\n",
            "Accuracy       | 0.81     | 0.80     | 0.80    \n",
            "F1-Score (Churn)| 0.60     | 0.58     | 0.58    \n"
          ]
        }
      ],
      "source": [
        "print(\"--- Baseline Model Performance ---\")\n",
        "print(classification_report(y_test_base, y_pred_base))\n",
        "\n",
        "print(\"\\n--- Enhanced Model Performance (with Feature Engineering) ---\")\n",
        "print(classification_report(y_test_eng, y_pred_eng))\n",
        "\n",
        "print(\"\\n--- Model Performance (with Selected Features) ---\")\n",
        "print(classification_report(y_test_eng, y_pred_selected))\n",
        "\n",
        "# Summarize the performance metrics\n",
        "print(\"\\n--- Performance Summary ---\")\n",
        "print(\"Metric         | Baseline | Enhanced | Selected Features\")\n",
        "print(\"---------------|----------|----------|-------------------\")\n",
        "print(f\"Accuracy       | {accuracy_score(y_test_base, y_pred_base):<8.2f} | {accuracy_score(y_test_eng, y_pred_eng):<8.2f} | {accuracy_score(y_test_eng, y_pred_selected):<8.2f}\")\n",
        "\n",
        "# Extract F1-score for class 1 (Churn) from classification reports\n",
        "report_base = classification_report(y_test_base, y_pred_base, output_dict=True)\n",
        "report_eng = classification_report(y_test_eng, y_pred_eng, output_dict=True)\n",
        "report_selected = classification_report(y_test_eng, y_pred_selected, output_dict=True)\n",
        "\n",
        "f1_churn_base = report_base['1']['f1-score']\n",
        "f1_churn_eng = report_eng['1']['f1-score']\n",
        "f1_churn_selected = report_selected['1']['f1-score']\n",
        "\n",
        "print(f\"F1-Score (Churn)| {f1_churn_base:<8.2f} | {f1_churn_eng:<8.2f} | {f1_churn_selected:<8.2f}\")"
      ]
    },
    {
      "cell_type": "markdown",
      "metadata": {
        "id": "JjRGJrnYl3Ik"
      },
      "source": [
        "## Discussion of Feature Selection Results\n",
        "\n",
        "Feature selection is a technique used to reduce the number of input variables by selecting only the most relevant features for the model. The aim is often to improve model performance, reduce training time, and enhance interpretability.\n",
        "\n",
        "We compared the performance of three models:\n",
        "- **Baseline Model:** Trained on original, cleaned features.\n",
        "- **Enhanced Model:** Trained on engineered features.\n",
        "- **Selected Features Model:** Trained on a subset of engineered features selected based on Random Forest feature importance (using a median threshold).\n",
        "\n",
        "Here is a summary of the key performance metrics:\n",
        "\n",
        "| Metric         | Baseline | Enhanced | Selected Features |\n",
        "|---------------|----------|----------|-------------------|\n",
        "| Accuracy       | 0.81     | 0.80     | 0.80              |\n",
        "| F1-Score (Churn)| 0.60     | 0.58     | 0.58              |\n",
        "\n",
        "In this specific case, applying feature selection using Random Forest importance and a median threshold did not improve the model's performance compared to the enhanced model trained on all engineered features. Both the enhanced and selected features models showed a slight decrease in both overall accuracy and the F1-score for the churn class compared to the baseline model.\n",
        "\n",
        "Potential reasons for this observation could include:\n",
        "- **Suboptimal Selection Method/Threshold:** The 'median' threshold for feature importance might have removed features that were still valuable for predicting churn. Different thresholds or other feature selection methods (e.g., recursive feature elimination, filter methods based on correlation) might yield different results.\n",
        "- **Importance of Removed Features:** It's possible that some of the features deemed less important by the Random Forest model were still contributing positively to the Logistic Regression model's ability to discriminate churn, particularly when combined with other features.\n",
        "- **Highly Informative Engineered Features:** The engineered features might already be capturing most of the signal relevant to churn, and removing some of them didn't significantly reduce the information available to the model, but also didn't help it generalize better.\n",
        "- **Dataset Characteristics:** For this dataset and with the chosen models and feature engineering, the benefits of dimensionality reduction via this specific feature selection method were not realized in terms of improved predictive performance.\n",
        "\n",
        "In conclusion, while feature selection is a valuable step in the machine learning workflow, its impact on model performance is data- and context-dependent. It requires experimentation with different methods and thresholds. For this project, the specific feature selection approach taken did not provide a performance lift. Future steps could involve exploring other feature selection techniques, trying different machine learning models, or further tuning the current models and pipelines."
      ]
    }
  ],
  "metadata": {
    "colab": {
      "provenance": []
    },
    "kernelspec": {
      "display_name": "venv (3.10.0)",
      "language": "python",
      "name": "python3"
    },
    "language_info": {
      "codemirror_mode": {
        "name": "ipython",
        "version": 3
      },
      "file_extension": ".py",
      "mimetype": "text/x-python",
      "name": "python",
      "nbconvert_exporter": "python",
      "pygments_lexer": "ipython3",
      "version": "3.10.0"
    }
  },
  "nbformat": 4,
  "nbformat_minor": 0
}
